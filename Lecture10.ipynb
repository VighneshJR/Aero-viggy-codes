{
 "cells": [
  {
   "cell_type": "code",
   "execution_count": 1,
   "id": "c041c650-e5dc-4612-981d-37f9d76c68b7",
   "metadata": {},
   "outputs": [],
   "source": [
    "from numpy import *\n",
    "from matplotlib.pyplot import *\n",
    "%matplotlib inline\n",
    "from numpy.random import random\n",
    "from numpy.random import randint "
   ]
  },
  {
   "cell_type": "markdown",
   "id": "2eb7c307-eaab-4e6f-990f-8f5c409a6cdf",
   "metadata": {
    "tags": []
   },
   "source": [
    "# Numpy Arrays"
   ]
  },
  {
   "cell_type": "code",
   "execution_count": 2,
   "id": "591b7d0f-5b09-4e90-96c4-4c44f49e09c5",
   "metadata": {},
   "outputs": [
    {
     "name": "stdout",
     "output_type": "stream",
     "text": [
      "[0.1, 0.2, 0.3, 0.4]\n"
     ]
    }
   ],
   "source": [
    "xs = [ 0.1 ,0.2,0.3,0.4] # list but this is dead slow :/ \n",
    "print(xs)\n"
   ]
  },
  {
   "cell_type": "code",
   "execution_count": 3,
   "id": "5b9061e7-ae29-40d5-9911-91d17c48e880",
   "metadata": {},
   "outputs": [
    {
     "name": "stdout",
     "output_type": "stream",
     "text": [
      "[0.1 0.2 0.3 0.4]\n"
     ]
    }
   ],
   "source": [
    "from numpy import *\n",
    "xa = array(xs)#array is based on c ,hence a lot faster\n",
    "print(xa)"
   ]
  },
  {
   "cell_type": "code",
   "execution_count": 4,
   "id": "e957415a-bdb2-4569-9b38-17eb8d74eb96",
   "metadata": {},
   "outputs": [
    {
     "data": {
      "text/plain": [
       "[0.1,\n",
       " 0.2,\n",
       " 0.3,\n",
       " 0.4,\n",
       " 0.1,\n",
       " 0.2,\n",
       " 0.3,\n",
       " 0.4,\n",
       " 0.1,\n",
       " 0.2,\n",
       " 0.3,\n",
       " 0.4,\n",
       " 0.1,\n",
       " 0.2,\n",
       " 0.3,\n",
       " 0.4,\n",
       " 0.1,\n",
       " 0.2,\n",
       " 0.3,\n",
       " 0.4]"
      ]
     },
     "execution_count": 4,
     "metadata": {},
     "output_type": "execute_result"
    }
   ],
   "source": [
    "5*xs #repetition not multiplication :(\n"
   ]
  },
  {
   "cell_type": "code",
   "execution_count": 5,
   "id": "a0aa0b45-dbeb-4141-a2af-f3ce2f748ca5",
   "metadata": {},
   "outputs": [
    {
     "data": {
      "text/plain": [
       "array([0.5, 1. , 1.5, 2. ])"
      ]
     },
     "execution_count": 5,
     "metadata": {},
     "output_type": "execute_result"
    }
   ],
   "source": [
    "5*xa #multiplication :) "
   ]
  },
  {
   "cell_type": "markdown",
   "id": "d8733271-bbf9-428a-93c7-e66b6b5c1950",
   "metadata": {},
   "source": [
    "Unfortunately arrays take only one data type but in data analysis only neumerical data is needed :)"
   ]
  },
  {
   "cell_type": "code",
   "execution_count": 6,
   "id": "77fa22ec-bf4f-46fd-9e1c-29329dd589ee",
   "metadata": {},
   "outputs": [
    {
     "data": {
      "text/plain": [
       "array([1. , 1.1, 1.2, 1.3, 1.4, 1.5, 1.6, 1.7, 1.8, 1.9, 2. ])"
      ]
     },
     "execution_count": 6,
     "metadata": {},
     "output_type": "execute_result"
    }
   ],
   "source": [
    "linspace(1,2,11) # starting , ending , total no of elements"
   ]
  },
  {
   "cell_type": "code",
   "execution_count": 11,
   "id": "c3e42753-8bc6-482c-8bb5-f9447d10e9a5",
   "metadata": {},
   "outputs": [
    {
     "data": {
      "text/plain": [
       "array([ 1.        ,  1.06081725,  1.11744793,  1.16966857,  1.21727305,\n",
       "        1.26007351,  1.29790104,  1.33060634,  1.35806035,  1.38015472,\n",
       "        1.39680225,  1.40793723,  1.41351573,  1.41351573,  1.40793723,\n",
       "        1.39680225,  1.38015472,  1.35806035,  1.33060634,  1.29790104,\n",
       "        1.26007351,  1.21727305,  1.16966857,  1.11744793,  1.06081725,\n",
       "        1.        ,  0.93523621,  0.86678147,  0.79490594,  0.71989327,\n",
       "        0.64203952,  0.56165193,  0.47904776,  0.39455301,  0.30850113,\n",
       "        0.22123174,  0.13308925,  0.04442152, -0.04442152, -0.13308925,\n",
       "       -0.22123174, -0.30850113, -0.39455301, -0.47904776, -0.56165193,\n",
       "       -0.64203952, -0.71989327, -0.79490594, -0.86678147, -0.93523621,\n",
       "       -1.        , -1.06081725, -1.11744793, -1.16966857, -1.21727305,\n",
       "       -1.26007351, -1.29790104, -1.33060634, -1.35806035, -1.38015472,\n",
       "       -1.39680225, -1.40793723, -1.41351573, -1.41351573, -1.40793723,\n",
       "       -1.39680225, -1.38015472, -1.35806035, -1.33060634, -1.29790104,\n",
       "       -1.26007351, -1.21727305, -1.16966857, -1.11744793, -1.06081725,\n",
       "       -1.        , -0.93523621, -0.86678147, -0.79490594, -0.71989327,\n",
       "       -0.64203952, -0.56165193, -0.47904776, -0.39455301, -0.30850113,\n",
       "       -0.22123174, -0.13308925, -0.04442152,  0.04442152,  0.13308925,\n",
       "        0.22123174,  0.30850113,  0.39455301,  0.47904776,  0.56165193,\n",
       "        0.64203952,  0.71989327,  0.79490594,  0.86678147,  0.93523621,\n",
       "        1.        ])"
      ]
     },
     "execution_count": 11,
     "metadata": {},
     "output_type": "execute_result"
    }
   ],
   "source": [
    "zs = linspace(0,2*pi,101)\n",
    "sin(zs) + cos(zs) #sin values"
   ]
  },
  {
   "cell_type": "code",
   "execution_count": 12,
   "id": "40a40529-62d9-4d89-9d5e-7fc6acbd2244",
   "metadata": {},
   "outputs": [
    {
     "name": "stdout",
     "output_type": "stream",
     "text": [
      "[1.00000000e-03 5.14949495e-02 1.01989899e-01 1.52484848e-01\n",
      " 2.02979798e-01 2.53474747e-01 3.03969697e-01 3.54464646e-01\n",
      " 4.04959596e-01 4.55454545e-01 5.05949495e-01 5.56444444e-01\n",
      " 6.06939394e-01 6.57434343e-01 7.07929293e-01 7.58424242e-01\n",
      " 8.08919192e-01 8.59414141e-01 9.09909091e-01 9.60404040e-01\n",
      " 1.01089899e+00 1.06139394e+00 1.11188889e+00 1.16238384e+00\n",
      " 1.21287879e+00 1.26337374e+00 1.31386869e+00 1.36436364e+00\n",
      " 1.41485859e+00 1.46535354e+00 1.51584848e+00 1.56634343e+00\n",
      " 1.61683838e+00 1.66733333e+00 1.71782828e+00 1.76832323e+00\n",
      " 1.81881818e+00 1.86931313e+00 1.91980808e+00 1.97030303e+00\n",
      " 2.02079798e+00 2.07129293e+00 2.12178788e+00 2.17228283e+00\n",
      " 2.22277778e+00 2.27327273e+00 2.32376768e+00 2.37426263e+00\n",
      " 2.42475758e+00 2.47525253e+00 2.52574747e+00 2.57624242e+00\n",
      " 2.62673737e+00 2.67723232e+00 2.72772727e+00 2.77822222e+00\n",
      " 2.82871717e+00 2.87921212e+00 2.92970707e+00 2.98020202e+00\n",
      " 3.03069697e+00 3.08119192e+00 3.13168687e+00 3.18218182e+00\n",
      " 3.23267677e+00 3.28317172e+00 3.33366667e+00 3.38416162e+00\n",
      " 3.43465657e+00 3.48515152e+00 3.53564646e+00 3.58614141e+00\n",
      " 3.63663636e+00 3.68713131e+00 3.73762626e+00 3.78812121e+00\n",
      " 3.83861616e+00 3.88911111e+00 3.93960606e+00 3.99010101e+00\n",
      " 4.04059596e+00 4.09109091e+00 4.14158586e+00 4.19208081e+00\n",
      " 4.24257576e+00 4.29307071e+00 4.34356566e+00 4.39406061e+00\n",
      " 4.44455556e+00 4.49505051e+00 4.54554545e+00 4.59604040e+00\n",
      " 4.64653535e+00 4.69703030e+00 4.74752525e+00 4.79802020e+00\n",
      " 4.84851515e+00 4.89901010e+00 4.94950505e+00 5.00000000e+00]\n"
     ]
    }
   ],
   "source": [
    "xs =linspace(0.001,5.0,100)\n",
    "print(xs)"
   ]
  },
  {
   "cell_type": "code",
   "execution_count": 13,
   "id": "75035669-5e1c-49dc-b859-5132c247a615",
   "metadata": {},
   "outputs": [
    {
     "data": {
      "text/plain": [
       "[<matplotlib.lines.Line2D at 0x1664df70700>]"
      ]
     },
     "execution_count": 13,
     "metadata": {},
     "output_type": "execute_result"
    },
    {
     "data": {
      "image/png": "[encoded data removed]",
      "text/plain": [
       "<Figure size 432x288 with 1 Axes>"
      ]
     },
     "metadata": {
      "needs_background": "light"
     },
     "output_type": "display_data"
    }
   ],
   "source": [
    "plot(xs,sin(xs),\"b-\")"
   ]
  },
  {
   "cell_type": "code",
   "execution_count": 14,
   "id": "d3539e46-205d-4b4a-bc29-915fe5458616",
   "metadata": {},
   "outputs": [
    {
     "data": {
      "text/plain": [
       "array([ 4,  6,  8, 10, 12])"
      ]
     },
     "execution_count": 14,
     "metadata": {},
     "output_type": "execute_result"
    }
   ],
   "source": [
    "a = array([1,2,3,4,5])\n",
    "b = array([3,4,5,6,7])\n",
    "a+b"
   ]
  },
  {
   "cell_type": "code",
   "execution_count": 15,
   "id": "a876db4a-6797-4fed-8892-88ac717a4503",
   "metadata": {},
   "outputs": [
    {
     "data": {
      "text/plain": [
       "array([-2, -2, -2, -2, -2])"
      ]
     },
     "execution_count": 15,
     "metadata": {},
     "output_type": "execute_result"
    }
   ],
   "source": [
    "a-b"
   ]
  },
  {
   "cell_type": "code",
   "execution_count": 16,
   "id": "f55aaa98-4bf5-4121-a199-0742809be8cf",
   "metadata": {},
   "outputs": [
    {
     "data": {
      "text/plain": [
       "array([ 3,  8, 15, 24, 35])"
      ]
     },
     "execution_count": 16,
     "metadata": {},
     "output_type": "execute_result"
    }
   ],
   "source": [
    "a*b"
   ]
  },
  {
   "cell_type": "code",
   "execution_count": 18,
   "id": "153b19db-ed36-4791-88a3-61f46f311ce5",
   "metadata": {},
   "outputs": [
    {
     "data": {
      "text/plain": [
       "85"
      ]
     },
     "execution_count": 18,
     "metadata": {},
     "output_type": "execute_result"
    }
   ],
   "source": [
    "a@b #dot product"
   ]
  },
  {
   "cell_type": "code",
   "execution_count": 19,
   "id": "2be0537a-7fe2-4699-92c6-04bfd117a26c",
   "metadata": {},
   "outputs": [
    {
     "data": {
      "text/plain": [
       "array([0.33333333, 0.5       , 0.6       , 0.66666667, 0.71428571])"
      ]
     },
     "execution_count": 19,
     "metadata": {},
     "output_type": "execute_result"
    }
   ],
   "source": [
    "a/b"
   ]
  },
  {
   "cell_type": "code",
   "execution_count": 20,
   "id": "88506e9e-a302-4970-bb11-4607d1c39b9e",
   "metadata": {},
   "outputs": [
    {
     "data": {
      "text/plain": [
       "array([3.        , 2.        , 1.66666667, 1.5       , 1.4       ])"
      ]
     },
     "execution_count": 20,
     "metadata": {},
     "output_type": "execute_result"
    }
   ],
   "source": [
    "b/a"
   ]
  },
  {
   "cell_type": "code",
   "execution_count": 23,
   "id": "f5e88efc-9b71-458a-adcf-c052d867b3dc",
   "metadata": {},
   "outputs": [
    {
     "data": {
      "text/plain": [
       "[<matplotlib.lines.Line2D at 0x1664e14c580>]"
      ]
     },
     "execution_count": 23,
     "metadata": {},
     "output_type": "execute_result"
    },
    {
     "data": {
      "image/png": "[encoded data removed]",
      "text/plain": [
       "<Figure size 432x288 with 1 Axes>"
      ]
     },
     "metadata": {
      "needs_background": "light"
     },
     "output_type": "display_data"
    }
   ],
   "source": [
    "xs = linspace(0.001,100.0,1000)\n",
    "plot(xs,sin(xs)/xs,\"r-\")"
   ]
  },
  {
   "cell_type": "code",
   "execution_count": 25,
   "id": "8f2c1834-d8ce-4736-a67b-fc215b0d4799",
   "metadata": {},
   "outputs": [
    {
     "data": {
      "text/plain": [
       "array([0.76385824, 0.42467356, 0.98152665, 0.89058619, 0.4528846 ,\n",
       "       0.45335557, 0.79790765, 0.50845368, 0.12879334, 0.88192222,\n",
       "       0.16174388, 0.49244713, 0.9437097 , 0.50850318, 0.02288336,\n",
       "       0.04877359, 0.04654122, 0.03932213, 0.74168596, 0.34598702,\n",
       "       0.85422817, 0.48342987, 0.41588047, 0.00229939, 0.54749958,\n",
       "       0.70470362, 0.8287524 , 0.79332664, 0.03049208, 0.02185872,\n",
       "       0.55542784, 0.92735916, 0.2544564 , 0.54304748, 0.8624489 ,\n",
       "       0.25822789, 0.07009272, 0.26678504, 0.8827387 , 0.60411875,\n",
       "       0.29936417, 0.36677694, 0.85665935, 0.81544805, 0.64030082,\n",
       "       0.14879645, 0.28913164, 0.2623782 , 0.15925504, 0.03642837,\n",
       "       0.28750147, 0.55684163, 0.51819605, 0.56190622, 0.03298891,\n",
       "       0.57954688, 0.58421453, 0.48989389, 0.0931522 , 0.87101657,\n",
       "       0.5521432 , 0.17512972, 0.19437528, 0.49962139, 0.37275992,\n",
       "       0.46601275, 0.17428394, 0.7632894 , 0.45159643, 0.70226458,\n",
       "       0.72007119, 0.9850977 , 0.03655789, 0.38167342, 0.84541018,\n",
       "       0.68430182, 0.04779063, 0.74010106, 0.27447582, 0.58308489,\n",
       "       0.2571503 , 0.13765166, 0.83650086, 0.09755415, 0.09316685,\n",
       "       0.33663631, 0.94728193, 0.94722612, 0.49337677, 0.33792668,\n",
       "       0.86541147, 0.47399218, 0.087925  , 0.47736597, 0.16529951,\n",
       "       0.89705528, 0.20024539, 0.30483147, 0.9467509 , 0.50355984])"
      ]
     },
     "execution_count": 25,
     "metadata": {},
     "output_type": "execute_result"
    }
   ],
   "source": [
    "from numpy.random import random\n",
    "random(100)"
   ]
  },
  {
   "cell_type": "code",
   "execution_count": 31,
   "id": "f6fd8eb2-f97c-4228-b6c8-dcfadda574de",
   "metadata": {},
   "outputs": [],
   "source": [
    "cs =random(100)"
   ]
  },
  {
   "cell_type": "code",
   "execution_count": 32,
   "id": "143c3da0-af07-4433-bc07-a6e62d19a76a",
   "metadata": {},
   "outputs": [
    {
     "data": {
      "text/plain": [
       "0.4775345923350116"
      ]
     },
     "execution_count": 32,
     "metadata": {},
     "output_type": "execute_result"
    }
   ],
   "source": [
    "mean(cs)"
   ]
  },
  {
   "cell_type": "markdown",
   "id": "232fb81b-77e1-4b62-af04-26fd43377ced",
   "metadata": {},
   "source": [
    "$f(x) = a + x(b-a)$\n",
    "\n",
    "$f : [0,1] \\to [a,b]$\n",
    "\n",
    "use this concept to print random nos btw a and b using random function"
   ]
  },
  {
   "cell_type": "markdown",
   "id": "9f0c2086-d3ea-49eb-8b4f-788a480a32ce",
   "metadata": {},
   "source": [
    "# LECTURE 11 PYTHON PART"
   ]
  },
  {
   "cell_type": "code",
   "execution_count": 1,
   "id": "9b29118c-c416-48e4-9411-2bb3c3ebf46e",
   "metadata": {},
   "outputs": [],
   "source": [
    "from numpy import *\n",
    "from matplotlib.pyplot import *\n",
    "%matplotlib inline\n",
    "from numpy.random import random\n",
    "from numpy.random import randint "
   ]
  },
  {
   "cell_type": "code",
   "execution_count": 2,
   "id": "18b68ab2-cc5b-4544-bb3f-5d1105fb27cb",
   "metadata": {},
   "outputs": [
    {
     "name": "stdout",
     "output_type": "stream",
     "text": [
      "[0.85006287 0.62630546 0.32240662 0.96077053 0.30744975 0.98357375\n",
      " 0.97131421 0.96674572 0.41896103 0.6747891  0.50125294 0.49575586\n",
      " 0.1133461  0.70814601 0.77756181 0.46629382 0.2883648  0.89535534\n",
      " 0.91093342 0.76278453]\n"
     ]
    }
   ],
   "source": [
    "a = random(20)\n",
    "print(a)"
   ]
  },
  {
   "cell_type": "code",
   "execution_count": 3,
   "id": "c22806c2-4d33-4732-a622-5b3c20b858a0",
   "metadata": {},
   "outputs": [
    {
     "data": {
      "text/plain": [
       "13.002173667107579"
      ]
     },
     "execution_count": 3,
     "metadata": {},
     "output_type": "execute_result"
    }
   ],
   "source": [
    "sum(a)"
   ]
  },
  {
   "cell_type": "code",
   "execution_count": 4,
   "id": "0cc4f2c9-651f-40d8-bc20-f3842a13187d",
   "metadata": {},
   "outputs": [
    {
     "data": {
      "text/plain": [
       "20"
      ]
     },
     "execution_count": 4,
     "metadata": {},
     "output_type": "execute_result"
    }
   ],
   "source": [
    "len(a)"
   ]
  },
  {
   "cell_type": "code",
   "execution_count": 5,
   "id": "d715c51d-be40-4264-bcbc-194aba1f6b71",
   "metadata": {},
   "outputs": [
    {
     "data": {
      "text/plain": [
       "0.650108683355379"
      ]
     },
     "execution_count": 5,
     "metadata": {},
     "output_type": "execute_result"
    }
   ],
   "source": [
    "sum(a)/len(a)"
   ]
  },
  {
   "cell_type": "code",
   "execution_count": 6,
   "id": "ff9243c5-f09c-469b-92cf-d94f38fabfa1",
   "metadata": {},
   "outputs": [],
   "source": [
    "def my_mean(arr):\n",
    "    return sum(arr)/len(arr)"
   ]
  },
  {
   "cell_type": "code",
   "execution_count": 7,
   "id": "8d1a149d-065d-4be8-8624-c35ace8ccda4",
   "metadata": {},
   "outputs": [
    {
     "data": {
      "text/plain": [
       "0.650108683355379"
      ]
     },
     "execution_count": 7,
     "metadata": {},
     "output_type": "execute_result"
    }
   ],
   "source": [
    "my_mean(a)"
   ]
  },
  {
   "cell_type": "code",
   "execution_count": 8,
   "id": "6c5ba3cf-06f9-47dd-922c-4e2576a8d433",
   "metadata": {},
   "outputs": [
    {
     "data": {
      "text/plain": [
       "0.650108683355379"
      ]
     },
     "execution_count": 8,
     "metadata": {},
     "output_type": "execute_result"
    }
   ],
   "source": [
    "mean(a)"
   ]
  },
  {
   "cell_type": "code",
   "execution_count": 9,
   "id": "4aa54011-fcc7-4e86-9324-aceb4bd53b9d",
   "metadata": {},
   "outputs": [
    {
     "data": {
      "text/plain": [
       "0.2636057228006348"
      ]
     },
     "execution_count": 9,
     "metadata": {},
     "output_type": "execute_result"
    }
   ],
   "source": [
    "std(a) #standard deviation"
   ]
  },
  {
   "cell_type": "markdown",
   "id": "55821e87-deaa-43b4-8730-df8ae6e18e9d",
   "metadata": {},
   "source": [
    "standard deviation of $\\{x_1 ,x_2 , ..., x_n\\} = s$\n",
    "\n",
    "$ s^2  = \\frac{1}{n-k} \\sum_{i=1}^{n}{{(x_i - <x>)}^2}$\n",
    "\n",
    "when k is ddof ( dimensions degrees of freedom )"
   ]
  },
  {
   "cell_type": "code",
   "execution_count": 11,
   "id": "5f3bd11d-1aad-40a3-9c2d-2b793bfa8f81",
   "metadata": {},
   "outputs": [
    {
     "data": {
      "text/plain": [
       "0.2704537650792113"
      ]
     },
     "execution_count": 11,
     "metadata": {},
     "output_type": "execute_result"
    }
   ],
   "source": [
    "std(a,ddof =1) #s^2*n is divided by n-ddof instead of n"
   ]
  },
  {
   "cell_type": "code",
   "execution_count": 12,
   "id": "fd0d44dc-f5ca-461e-b36e-6caaaa426dee",
   "metadata": {},
   "outputs": [],
   "source": [
    "b = random(1000)"
   ]
  },
  {
   "cell_type": "code",
   "execution_count": 13,
   "id": "50857a30-cf0b-456b-9a8c-3970dfbd727c",
   "metadata": {},
   "outputs": [
    {
     "data": {
      "text/plain": [
       "0.29257889529468745"
      ]
     },
     "execution_count": 13,
     "metadata": {},
     "output_type": "execute_result"
    }
   ],
   "source": [
    "std(b)"
   ]
  },
  {
   "cell_type": "code",
   "execution_count": 15,
   "id": "7358c480-0e51-45f4-a70f-be59fd4a50db",
   "metadata": {},
   "outputs": [
    {
     "data": {
      "text/plain": [
       "0.29272529455093155"
      ]
     },
     "execution_count": 15,
     "metadata": {},
     "output_type": "execute_result"
    }
   ],
   "source": [
    "std(b,ddof =1) # ddof has significance in large nof data ie more precision"
   ]
  },
  {
   "cell_type": "code",
   "execution_count": 19,
   "id": "194575a0-b40d-465e-9cde-a55dd47b2e47",
   "metadata": {},
   "outputs": [
    {
     "data": {
      "text/plain": [
       "0.29257889529468745"
      ]
     },
     "execution_count": 19,
     "metadata": {},
     "output_type": "execute_result"
    }
   ],
   "source": [
    "std(b,ddof = 0)"
   ]
  },
  {
   "cell_type": "markdown",
   "id": "452c6e5b-4ee9-4a3a-ab19-46cc3b91a863",
   "metadata": {},
   "source": [
    "seaborn"
   ]
  },
  {
   "cell_type": "code",
   "execution_count": 20,
   "id": "86249a99-9234-413d-960e-bbc88adf2a53",
   "metadata": {},
   "outputs": [],
   "source": [
    "import seaborn as sns"
   ]
  },
  {
   "cell_type": "code",
   "execution_count": 21,
   "id": "3e36e8c5-da2c-4d2d-9d7d-756898f3472a",
   "metadata": {},
   "outputs": [
    {
     "data": {
      "text/plain": [
       "['anagrams',\n",
       " 'anscombe',\n",
       " 'attention',\n",
       " 'brain_networks',\n",
       " 'car_crashes',\n",
       " 'diamonds',\n",
       " 'dots',\n",
       " 'exercise',\n",
       " 'flights',\n",
       " 'fmri',\n",
       " 'gammas',\n",
       " 'geyser',\n",
       " 'iris',\n",
       " 'mpg',\n",
       " 'penguins',\n",
       " 'planets',\n",
       " 'taxis',\n",
       " 'tips',\n",
       " 'titanic']"
      ]
     },
     "execution_count": 21,
     "metadata": {},
     "output_type": "execute_result"
    }
   ],
   "source": [
    "sns.get_dataset_names()"
   ]
  },
  {
   "cell_type": "code",
   "execution_count": 36,
   "id": "d401d8a8-6360-4420-9a01-dc5fa8b650e4",
   "metadata": {},
   "outputs": [],
   "source": [
    "cars = sns.load_dataset('mpg').dropna()"
   ]
  },
  {
   "cell_type": "code",
   "execution_count": 37,
   "id": "1d35b478-886d-4d93-b362-69242068297d",
   "metadata": {},
   "outputs": [
    {
     "data": {
      "text/html": [
       "<div>\n",
       "<style scoped>\n",
       "    .dataframe tbody tr th:only-of-type {\n",
       "        vertical-align: middle;\n",
       "    }\n",
       "\n",
       "    .dataframe tbody tr th {\n",
       "        vertical-align: top;\n",
       "    }\n",
       "\n",
       "    .dataframe thead th {\n",
       "        text-align: right;\n",
       "    }\n",
       "</style>\n",
       "<table border=\"1\" class=\"dataframe\">\n",
       "  <thead>\n",
       "    <tr style=\"text-align: right;\">\n",
       "      <th></th>\n",
       "      <th>mpg</th>\n",
       "      <th>cylinders</th>\n",
       "      <th>displacement</th>\n",
       "      <th>horsepower</th>\n",
       "      <th>weight</th>\n",
       "      <th>acceleration</th>\n",
       "      <th>model_year</th>\n",
       "      <th>origin</th>\n",
       "      <th>name</th>\n",
       "    </tr>\n",
       "  </thead>\n",
       "  <tbody>\n",
       "    <tr>\n",
       "      <th>0</th>\n",
       "      <td>18.0</td>\n",
       "      <td>8</td>\n",
       "      <td>307.0</td>\n",
       "      <td>130.0</td>\n",
       "      <td>3504</td>\n",
       "      <td>12.0</td>\n",
       "      <td>70</td>\n",
       "      <td>usa</td>\n",
       "      <td>chevrolet chevelle malibu</td>\n",
       "    </tr>\n",
       "    <tr>\n",
       "      <th>1</th>\n",
       "      <td>15.0</td>\n",
       "      <td>8</td>\n",
       "      <td>350.0</td>\n",
       "      <td>165.0</td>\n",
       "      <td>3693</td>\n",
       "      <td>11.5</td>\n",
       "      <td>70</td>\n",
       "      <td>usa</td>\n",
       "      <td>buick skylark 320</td>\n",
       "    </tr>\n",
       "    <tr>\n",
       "      <th>2</th>\n",
       "      <td>18.0</td>\n",
       "      <td>8</td>\n",
       "      <td>318.0</td>\n",
       "      <td>150.0</td>\n",
       "      <td>3436</td>\n",
       "      <td>11.0</td>\n",
       "      <td>70</td>\n",
       "      <td>usa</td>\n",
       "      <td>plymouth satellite</td>\n",
       "    </tr>\n",
       "    <tr>\n",
       "      <th>3</th>\n",
       "      <td>16.0</td>\n",
       "      <td>8</td>\n",
       "      <td>304.0</td>\n",
       "      <td>150.0</td>\n",
       "      <td>3433</td>\n",
       "      <td>12.0</td>\n",
       "      <td>70</td>\n",
       "      <td>usa</td>\n",
       "      <td>amc rebel sst</td>\n",
       "    </tr>\n",
       "    <tr>\n",
       "      <th>4</th>\n",
       "      <td>17.0</td>\n",
       "      <td>8</td>\n",
       "      <td>302.0</td>\n",
       "      <td>140.0</td>\n",
       "      <td>3449</td>\n",
       "      <td>10.5</td>\n",
       "      <td>70</td>\n",
       "      <td>usa</td>\n",
       "      <td>ford torino</td>\n",
       "    </tr>\n",
       "  </tbody>\n",
       "</table>\n",
       "</div>"
      ],
      "text/plain": [
       "    mpg  cylinders  displacement  horsepower  weight  acceleration  \\\n",
       "0  18.0          8         307.0       130.0    3504          12.0   \n",
       "1  15.0          8         350.0       165.0    3693          11.5   \n",
       "2  18.0          8         318.0       150.0    3436          11.0   \n",
       "3  16.0          8         304.0       150.0    3433          12.0   \n",
       "4  17.0          8         302.0       140.0    3449          10.5   \n",
       "\n",
       "   model_year origin                       name  \n",
       "0          70    usa  chevrolet chevelle malibu  \n",
       "1          70    usa          buick skylark 320  \n",
       "2          70    usa         plymouth satellite  \n",
       "3          70    usa              amc rebel sst  \n",
       "4          70    usa                ford torino  "
      ]
     },
     "execution_count": 37,
     "metadata": {},
     "output_type": "execute_result"
    }
   ],
   "source": [
    "cars.head()"
   ]
  },
  {
   "cell_type": "code",
   "execution_count": 38,
   "id": "1eb4aad2-1f77-4e20-a440-d518d04a0cd0",
   "metadata": {},
   "outputs": [
    {
     "data": {
      "text/plain": [
       "392"
      ]
     },
     "execution_count": 38,
     "metadata": {},
     "output_type": "execute_result"
    }
   ],
   "source": [
    "len(cars)"
   ]
  },
  {
   "cell_type": "code",
   "execution_count": 39,
   "id": "f30bc500-7822-4dca-80a6-f26e2ba26f24",
   "metadata": {},
   "outputs": [
    {
     "data": {
      "text/plain": [
       "array([18. , 15. , 18. , 16. , 17. , 15. , 14. , 14. , 14. , 15. , 15. ,\n",
       "       14. , 15. , 14. , 24. , 22. , 18. , 21. , 27. , 26. , 25. , 24. ,\n",
       "       25. , 26. , 21. , 10. , 10. , 11. ,  9. , 27. , 28. , 25. , 19. ,\n",
       "       16. , 17. , 19. , 18. , 14. , 14. , 14. , 14. , 12. , 13. , 13. ,\n",
       "       18. , 22. , 19. , 18. , 23. , 28. , 30. , 30. , 31. , 35. , 27. ,\n",
       "       26. , 24. , 25. , 23. , 20. , 21. , 13. , 14. , 15. , 14. , 17. ,\n",
       "       11. , 13. , 12. , 13. , 19. , 15. , 13. , 13. , 14. , 18. , 22. ,\n",
       "       21. , 26. , 22. , 28. , 23. , 28. , 27. , 13. , 14. , 13. , 14. ,\n",
       "       15. , 12. , 13. , 13. , 14. , 13. , 12. , 13. , 18. , 16. , 18. ,\n",
       "       18. , 23. , 26. , 11. , 12. , 13. , 12. , 18. , 20. , 21. , 22. ,\n",
       "       18. , 19. , 21. , 26. , 15. , 16. , 29. , 24. , 20. , 19. , 15. ,\n",
       "       24. , 20. , 11. , 20. , 19. , 15. , 31. , 26. , 32. , 25. , 16. ,\n",
       "       16. , 18. , 16. , 13. , 14. , 14. , 14. , 29. , 26. , 26. , 31. ,\n",
       "       32. , 28. , 24. , 26. , 24. , 26. , 31. , 19. , 18. , 15. , 15. ,\n",
       "       16. , 15. , 16. , 14. , 17. , 16. , 15. , 18. , 21. , 20. , 13. ,\n",
       "       29. , 23. , 20. , 23. , 24. , 25. , 24. , 18. , 29. , 19. , 23. ,\n",
       "       23. , 22. , 25. , 33. , 28. , 25. , 25. , 26. , 27. , 17.5, 16. ,\n",
       "       15.5, 14.5, 22. , 22. , 24. , 22.5, 29. , 24.5, 29. , 33. , 20. ,\n",
       "       18. , 18.5, 17.5, 29.5, 32. , 28. , 26.5, 20. , 13. , 19. , 19. ,\n",
       "       16.5, 16.5, 13. , 13. , 13. , 31.5, 30. , 36. , 25.5, 33.5, 17.5,\n",
       "       17. , 15.5, 15. , 17.5, 20.5, 19. , 18.5, 16. , 15.5, 15.5, 16. ,\n",
       "       29. , 24.5, 26. , 25.5, 30.5, 33.5, 30. , 30.5, 22. , 21.5, 21.5,\n",
       "       43.1, 36.1, 32.8, 39.4, 36.1, 19.9, 19.4, 20.2, 19.2, 20.5, 20.2,\n",
       "       25.1, 20.5, 19.4, 20.6, 20.8, 18.6, 18.1, 19.2, 17.7, 18.1, 17.5,\n",
       "       30. , 27.5, 27.2, 30.9, 21.1, 23.2, 23.8, 23.9, 20.3, 17. , 21.6,\n",
       "       16.2, 31.5, 29.5, 21.5, 19.8, 22.3, 20.2, 20.6, 17. , 17.6, 16.5,\n",
       "       18.2, 16.9, 15.5, 19.2, 18.5, 31.9, 34.1, 35.7, 27.4, 25.4, 23. ,\n",
       "       27.2, 23.9, 34.2, 34.5, 31.8, 37.3, 28.4, 28.8, 26.8, 33.5, 41.5,\n",
       "       38.1, 32.1, 37.2, 28. , 26.4, 24.3, 19.1, 34.3, 29.8, 31.3, 37. ,\n",
       "       32.2, 46.6, 27.9, 40.8, 44.3, 43.4, 36.4, 30. , 44.6, 33.8, 29.8,\n",
       "       32.7, 23.7, 35. , 32.4, 27.2, 26.6, 25.8, 23.5, 30. , 39.1, 39. ,\n",
       "       35.1, 32.3, 37. , 37.7, 34.1, 34.7, 34.4, 29.9, 33. , 33.7, 32.4,\n",
       "       32.9, 31.6, 28.1, 30.7, 25.4, 24.2, 22.4, 26.6, 20.2, 17.6, 28. ,\n",
       "       27. , 34. , 31. , 29. , 27. , 24. , 36. , 37. , 31. , 38. , 36. ,\n",
       "       36. , 36. , 34. , 38. , 32. , 38. , 25. , 38. , 26. , 22. , 32. ,\n",
       "       36. , 27. , 27. , 44. , 32. , 28. , 31. ])"
      ]
     },
     "execution_count": 39,
     "metadata": {},
     "output_type": "execute_result"
    }
   ],
   "source": [
    "mpgs=cars['mpg'].to_numpy()\n",
    "mpgs"
   ]
  },
  {
   "cell_type": "code",
   "execution_count": 40,
   "id": "df7fc8ed-22db-4053-b76c-78395888fa3b",
   "metadata": {},
   "outputs": [
    {
     "data": {
      "text/plain": [
       "23.445918367346938"
      ]
     },
     "execution_count": 40,
     "metadata": {},
     "output_type": "execute_result"
    }
   ],
   "source": [
    "mean(mpgs)"
   ]
  },
  {
   "cell_type": "code",
   "execution_count": 41,
   "id": "34e4bb09-0912-481c-87ee-e149440c0da0",
   "metadata": {},
   "outputs": [
    {
     "data": {
      "text/plain": [
       "22.75"
      ]
     },
     "execution_count": 41,
     "metadata": {},
     "output_type": "execute_result"
    }
   ],
   "source": [
    "median(mpgs)"
   ]
  },
  {
   "cell_type": "code",
   "execution_count": 42,
   "id": "39ffe5ea-f8e6-4cac-8d32-baa4bf28b5ea",
   "metadata": {},
   "outputs": [
    {
     "data": {
      "text/plain": [
       "7.795045762682584"
      ]
     },
     "execution_count": 42,
     "metadata": {},
     "output_type": "execute_result"
    }
   ],
   "source": [
    "std(mpgs)"
   ]
  },
  {
   "cell_type": "code",
   "execution_count": 43,
   "id": "ab729d93-573f-4d82-a171-f8fb410a2274",
   "metadata": {},
   "outputs": [
    {
     "data": {
      "text/plain": [
       "(array([13., 78., 73., 58., 53., 48., 37., 22.,  4.,  6.]),\n",
       " array([ 9.  , 12.76, 16.52, 20.28, 24.04, 27.8 , 31.56, 35.32, 39.08,\n",
       "        42.84, 46.6 ]),\n",
       " <BarContainer object of 10 artists>)"
      ]
     },
     "execution_count": 43,
     "metadata": {},
     "output_type": "execute_result"
    },
    {
     "data": {
      "image/png": "[encoded data removed]",
      "text/plain": [
       "<Figure size 432x288 with 1 Axes>"
      ]
     },
     "metadata": {
      "needs_background": "light"
     },
     "output_type": "display_data"
    }
   ],
   "source": [
    "hist(mpgs)"
   ]
  },
  {
   "cell_type": "code",
   "execution_count": 44,
   "id": "81685f55-003f-4d36-b8fd-95495d3164e6",
   "metadata": {},
   "outputs": [
    {
     "data": {
      "text/plain": [
       "{'whiskers': [<matplotlib.lines.Line2D at 0x1795d3d43a0>,\n",
       "  <matplotlib.lines.Line2D at 0x1795d3d4730>],\n",
       " 'caps': [<matplotlib.lines.Line2D at 0x1795d3d4ac0>,\n",
       "  <matplotlib.lines.Line2D at 0x1795d3d4e50>],\n",
       " 'boxes': [<matplotlib.lines.Line2D at 0x1795d3c7fa0>],\n",
       " 'medians': [<matplotlib.lines.Line2D at 0x1795d3e0220>],\n",
       " 'fliers': [<matplotlib.lines.Line2D at 0x1795d3e05b0>],\n",
       " 'means': []}"
      ]
     },
     "execution_count": 44,
     "metadata": {},
     "output_type": "execute_result"
    },
    {
     "data": {
      "image/png": "[encoded data removed]",
      "text/plain": [
       "<Figure size 432x288 with 1 Axes>"
      ]
     },
     "metadata": {
      "needs_background": "light"
     },
     "output_type": "display_data"
    }
   ],
   "source": [
    "boxplot(mpgs)"
   ]
  },
  {
   "cell_type": "code",
   "execution_count": 50,
   "id": "d0118654-3dde-4a2a-9282-80a0d7ab6ae9",
   "metadata": {},
   "outputs": [
    {
     "data": {
      "text/plain": [
       "(array([ 6.,  7.,  2., 12., 29., 26., 28., 12., 26., 41., 25., 28., 14.,\n",
       "        20.,  4.,  6.,  5.,  3.,  9.,  2., 11.,  7., 24.,  5.,  3.,  4.,\n",
       "         6.,  0.,  5.,  5.,  0.,  4.,  0.,  3.,  0.,  2.,  3.,  1.,  3.,\n",
       "         1.]),\n",
       " array([ 46. ,  50.6,  55.2,  59.8,  64.4,  69. ,  73.6,  78.2,  82.8,\n",
       "         87.4,  92. ,  96.6, 101.2, 105.8, 110.4, 115. , 119.6, 124.2,\n",
       "        128.8, 133.4, 138. , 142.6, 147.2, 151.8, 156.4, 161. , 165.6,\n",
       "        170.2, 174.8, 179.4, 184. , 188.6, 193.2, 197.8, 202.4, 207. ,\n",
       "        211.6, 216.2, 220.8, 225.4, 230. ]),\n",
       " <BarContainer object of 40 artists>)"
      ]
     },
     "execution_count": 50,
     "metadata": {},
     "output_type": "execute_result"
    },
    {
     "data": {
      "image/png": "[encoded data removed]",
      "text/plain": [
       "<Figure size 432x288 with 1 Axes>"
      ]
     },
     "metadata": {
      "needs_background": "light"
     },
     "output_type": "display_data"
    }
   ],
   "source": [
    "hist(cars['horsepower'],bins=40,rwidth=20)"
   ]
  },
  {
   "cell_type": "markdown",
   "id": "e825e872-776b-4587-9b2e-fe12e29cb4f4",
   "metadata": {},
   "source": [
    "# LECTURE 12"
   ]
  },
  {
   "cell_type": "code",
   "execution_count": 1,
   "id": "634ec8b6-3a2e-45a9-b0d3-a84d40abd613",
   "metadata": {},
   "outputs": [],
   "source": [
    "from numpy import *\n",
    "from matplotlib.pyplot import *\n",
    "%matplotlib inline\n",
    "from numpy.random import random\n",
    "from numpy.random import randint "
   ]
  },
  {
   "cell_type": "code",
   "execution_count": 2,
   "id": "6b6e9605-89eb-445b-b29c-7e41603fdfc1",
   "metadata": {},
   "outputs": [],
   "source": [
    "import seaborn as sns\n"
   ]
  },
  {
   "cell_type": "code",
   "execution_count": 3,
   "id": "132103c1-cdd5-46bb-b9b1-d4b5b6740e5f",
   "metadata": {},
   "outputs": [
    {
     "data": {
      "text/plain": [
       "['anagrams',\n",
       " 'anscombe',\n",
       " 'attention',\n",
       " 'brain_networks',\n",
       " 'car_crashes',\n",
       " 'diamonds',\n",
       " 'dots',\n",
       " 'exercise',\n",
       " 'flights',\n",
       " 'fmri',\n",
       " 'gammas',\n",
       " 'geyser',\n",
       " 'iris',\n",
       " 'mpg',\n",
       " 'penguins',\n",
       " 'planets',\n",
       " 'taxis',\n",
       " 'tips',\n",
       " 'titanic']"
      ]
     },
     "execution_count": 3,
     "metadata": {},
     "output_type": "execute_result"
    }
   ],
   "source": [
    "sns.get_dataset_names()"
   ]
  },
  {
   "cell_type": "code",
   "execution_count": 4,
   "id": "18e052eb-a741-4b1a-9ab6-95a1c5325c59",
   "metadata": {},
   "outputs": [],
   "source": [
    "cars = sns.load_dataset('mpg')"
   ]
  },
  {
   "cell_type": "code",
   "execution_count": 5,
   "id": "7f72133e-7e7e-49fe-b681-a7d677377b06",
   "metadata": {},
   "outputs": [
    {
     "data": {
      "text/html": [
       "<div>\n",
       "<style scoped>\n",
       "    .dataframe tbody tr th:only-of-type {\n",
       "        vertical-align: middle;\n",
       "    }\n",
       "\n",
       "    .dataframe tbody tr th {\n",
       "        vertical-align: top;\n",
       "    }\n",
       "\n",
       "    .dataframe thead th {\n",
       "        text-align: right;\n",
       "    }\n",
       "</style>\n",
       "<table border=\"1\" class=\"dataframe\">\n",
       "  <thead>\n",
       "    <tr style=\"text-align: right;\">\n",
       "      <th></th>\n",
       "      <th>mpg</th>\n",
       "      <th>cylinders</th>\n",
       "      <th>displacement</th>\n",
       "      <th>horsepower</th>\n",
       "      <th>weight</th>\n",
       "      <th>acceleration</th>\n",
       "      <th>model_year</th>\n",
       "      <th>origin</th>\n",
       "      <th>name</th>\n",
       "    </tr>\n",
       "  </thead>\n",
       "  <tbody>\n",
       "    <tr>\n",
       "      <th>0</th>\n",
       "      <td>18.0</td>\n",
       "      <td>8</td>\n",
       "      <td>307.0</td>\n",
       "      <td>130.0</td>\n",
       "      <td>3504</td>\n",
       "      <td>12.0</td>\n",
       "      <td>70</td>\n",
       "      <td>usa</td>\n",
       "      <td>chevrolet chevelle malibu</td>\n",
       "    </tr>\n",
       "    <tr>\n",
       "      <th>1</th>\n",
       "      <td>15.0</td>\n",
       "      <td>8</td>\n",
       "      <td>350.0</td>\n",
       "      <td>165.0</td>\n",
       "      <td>3693</td>\n",
       "      <td>11.5</td>\n",
       "      <td>70</td>\n",
       "      <td>usa</td>\n",
       "      <td>buick skylark 320</td>\n",
       "    </tr>\n",
       "    <tr>\n",
       "      <th>2</th>\n",
       "      <td>18.0</td>\n",
       "      <td>8</td>\n",
       "      <td>318.0</td>\n",
       "      <td>150.0</td>\n",
       "      <td>3436</td>\n",
       "      <td>11.0</td>\n",
       "      <td>70</td>\n",
       "      <td>usa</td>\n",
       "      <td>plymouth satellite</td>\n",
       "    </tr>\n",
       "    <tr>\n",
       "      <th>3</th>\n",
       "      <td>16.0</td>\n",
       "      <td>8</td>\n",
       "      <td>304.0</td>\n",
       "      <td>150.0</td>\n",
       "      <td>3433</td>\n",
       "      <td>12.0</td>\n",
       "      <td>70</td>\n",
       "      <td>usa</td>\n",
       "      <td>amc rebel sst</td>\n",
       "    </tr>\n",
       "    <tr>\n",
       "      <th>4</th>\n",
       "      <td>17.0</td>\n",
       "      <td>8</td>\n",
       "      <td>302.0</td>\n",
       "      <td>140.0</td>\n",
       "      <td>3449</td>\n",
       "      <td>10.5</td>\n",
       "      <td>70</td>\n",
       "      <td>usa</td>\n",
       "      <td>ford torino</td>\n",
       "    </tr>\n",
       "    <tr>\n",
       "      <th>...</th>\n",
       "      <td>...</td>\n",
       "      <td>...</td>\n",
       "      <td>...</td>\n",
       "      <td>...</td>\n",
       "      <td>...</td>\n",
       "      <td>...</td>\n",
       "      <td>...</td>\n",
       "      <td>...</td>\n",
       "      <td>...</td>\n",
       "    </tr>\n",
       "    <tr>\n",
       "      <th>393</th>\n",
       "      <td>27.0</td>\n",
       "      <td>4</td>\n",
       "      <td>140.0</td>\n",
       "      <td>86.0</td>\n",
       "      <td>2790</td>\n",
       "      <td>15.6</td>\n",
       "      <td>82</td>\n",
       "      <td>usa</td>\n",
       "      <td>ford mustang gl</td>\n",
       "    </tr>\n",
       "    <tr>\n",
       "      <th>394</th>\n",
       "      <td>44.0</td>\n",
       "      <td>4</td>\n",
       "      <td>97.0</td>\n",
       "      <td>52.0</td>\n",
       "      <td>2130</td>\n",
       "      <td>24.6</td>\n",
       "      <td>82</td>\n",
       "      <td>europe</td>\n",
       "      <td>vw pickup</td>\n",
       "    </tr>\n",
       "    <tr>\n",
       "      <th>395</th>\n",
       "      <td>32.0</td>\n",
       "      <td>4</td>\n",
       "      <td>135.0</td>\n",
       "      <td>84.0</td>\n",
       "      <td>2295</td>\n",
       "      <td>11.6</td>\n",
       "      <td>82</td>\n",
       "      <td>usa</td>\n",
       "      <td>dodge rampage</td>\n",
       "    </tr>\n",
       "    <tr>\n",
       "      <th>396</th>\n",
       "      <td>28.0</td>\n",
       "      <td>4</td>\n",
       "      <td>120.0</td>\n",
       "      <td>79.0</td>\n",
       "      <td>2625</td>\n",
       "      <td>18.6</td>\n",
       "      <td>82</td>\n",
       "      <td>usa</td>\n",
       "      <td>ford ranger</td>\n",
       "    </tr>\n",
       "    <tr>\n",
       "      <th>397</th>\n",
       "      <td>31.0</td>\n",
       "      <td>4</td>\n",
       "      <td>119.0</td>\n",
       "      <td>82.0</td>\n",
       "      <td>2720</td>\n",
       "      <td>19.4</td>\n",
       "      <td>82</td>\n",
       "      <td>usa</td>\n",
       "      <td>chevy s-10</td>\n",
       "    </tr>\n",
       "  </tbody>\n",
       "</table>\n",
       "<p>398 rows × 9 columns</p>\n",
       "</div>"
      ],
      "text/plain": [
       "      mpg  cylinders  displacement  horsepower  weight  acceleration  \\\n",
       "0    18.0          8         307.0       130.0    3504          12.0   \n",
       "1    15.0          8         350.0       165.0    3693          11.5   \n",
       "2    18.0          8         318.0       150.0    3436          11.0   \n",
       "3    16.0          8         304.0       150.0    3433          12.0   \n",
       "4    17.0          8         302.0       140.0    3449          10.5   \n",
       "..    ...        ...           ...         ...     ...           ...   \n",
       "393  27.0          4         140.0        86.0    2790          15.6   \n",
       "394  44.0          4          97.0        52.0    2130          24.6   \n",
       "395  32.0          4         135.0        84.0    2295          11.6   \n",
       "396  28.0          4         120.0        79.0    2625          18.6   \n",
       "397  31.0          4         119.0        82.0    2720          19.4   \n",
       "\n",
       "     model_year  origin                       name  \n",
       "0            70     usa  chevrolet chevelle malibu  \n",
       "1            70     usa          buick skylark 320  \n",
       "2            70     usa         plymouth satellite  \n",
       "3            70     usa              amc rebel sst  \n",
       "4            70     usa                ford torino  \n",
       "..          ...     ...                        ...  \n",
       "393          82     usa            ford mustang gl  \n",
       "394          82  europe                  vw pickup  \n",
       "395          82     usa              dodge rampage  \n",
       "396          82     usa                ford ranger  \n",
       "397          82     usa                 chevy s-10  \n",
       "\n",
       "[398 rows x 9 columns]"
      ]
     },
     "execution_count": 5,
     "metadata": {},
     "output_type": "execute_result"
    }
   ],
   "source": [
    "cars"
   ]
  },
  {
   "cell_type": "code",
   "execution_count": 6,
   "id": "5e2f4ced-6922-4ea3-ac22-d358a9318a96",
   "metadata": {},
   "outputs": [
    {
     "data": {
      "text/html": [
       "<div>\n",
       "<style scoped>\n",
       "    .dataframe tbody tr th:only-of-type {\n",
       "        vertical-align: middle;\n",
       "    }\n",
       "\n",
       "    .dataframe tbody tr th {\n",
       "        vertical-align: top;\n",
       "    }\n",
       "\n",
       "    .dataframe thead th {\n",
       "        text-align: right;\n",
       "    }\n",
       "</style>\n",
       "<table border=\"1\" class=\"dataframe\">\n",
       "  <thead>\n",
       "    <tr style=\"text-align: right;\">\n",
       "      <th></th>\n",
       "      <th>mpg</th>\n",
       "      <th>cylinders</th>\n",
       "      <th>displacement</th>\n",
       "      <th>horsepower</th>\n",
       "      <th>weight</th>\n",
       "      <th>acceleration</th>\n",
       "      <th>model_year</th>\n",
       "      <th>origin</th>\n",
       "      <th>name</th>\n",
       "    </tr>\n",
       "  </thead>\n",
       "  <tbody>\n",
       "    <tr>\n",
       "      <th>0</th>\n",
       "      <td>18.0</td>\n",
       "      <td>8</td>\n",
       "      <td>307.0</td>\n",
       "      <td>130.0</td>\n",
       "      <td>3504</td>\n",
       "      <td>12.0</td>\n",
       "      <td>70</td>\n",
       "      <td>usa</td>\n",
       "      <td>chevrolet chevelle malibu</td>\n",
       "    </tr>\n",
       "    <tr>\n",
       "      <th>1</th>\n",
       "      <td>15.0</td>\n",
       "      <td>8</td>\n",
       "      <td>350.0</td>\n",
       "      <td>165.0</td>\n",
       "      <td>3693</td>\n",
       "      <td>11.5</td>\n",
       "      <td>70</td>\n",
       "      <td>usa</td>\n",
       "      <td>buick skylark 320</td>\n",
       "    </tr>\n",
       "    <tr>\n",
       "      <th>2</th>\n",
       "      <td>18.0</td>\n",
       "      <td>8</td>\n",
       "      <td>318.0</td>\n",
       "      <td>150.0</td>\n",
       "      <td>3436</td>\n",
       "      <td>11.0</td>\n",
       "      <td>70</td>\n",
       "      <td>usa</td>\n",
       "      <td>plymouth satellite</td>\n",
       "    </tr>\n",
       "    <tr>\n",
       "      <th>3</th>\n",
       "      <td>16.0</td>\n",
       "      <td>8</td>\n",
       "      <td>304.0</td>\n",
       "      <td>150.0</td>\n",
       "      <td>3433</td>\n",
       "      <td>12.0</td>\n",
       "      <td>70</td>\n",
       "      <td>usa</td>\n",
       "      <td>amc rebel sst</td>\n",
       "    </tr>\n",
       "    <tr>\n",
       "      <th>4</th>\n",
       "      <td>17.0</td>\n",
       "      <td>8</td>\n",
       "      <td>302.0</td>\n",
       "      <td>140.0</td>\n",
       "      <td>3449</td>\n",
       "      <td>10.5</td>\n",
       "      <td>70</td>\n",
       "      <td>usa</td>\n",
       "      <td>ford torino</td>\n",
       "    </tr>\n",
       "  </tbody>\n",
       "</table>\n",
       "</div>"
      ],
      "text/plain": [
       "    mpg  cylinders  displacement  horsepower  weight  acceleration  \\\n",
       "0  18.0          8         307.0       130.0    3504          12.0   \n",
       "1  15.0          8         350.0       165.0    3693          11.5   \n",
       "2  18.0          8         318.0       150.0    3436          11.0   \n",
       "3  16.0          8         304.0       150.0    3433          12.0   \n",
       "4  17.0          8         302.0       140.0    3449          10.5   \n",
       "\n",
       "   model_year origin                       name  \n",
       "0          70    usa  chevrolet chevelle malibu  \n",
       "1          70    usa          buick skylark 320  \n",
       "2          70    usa         plymouth satellite  \n",
       "3          70    usa              amc rebel sst  \n",
       "4          70    usa                ford torino  "
      ]
     },
     "execution_count": 6,
     "metadata": {},
     "output_type": "execute_result"
    }
   ],
   "source": [
    "cars.head()"
   ]
  },
  {
   "cell_type": "code",
   "execution_count": 11,
   "id": "6d721b46-343c-4686-9adc-c3f966fb4f3a",
   "metadata": {},
   "outputs": [],
   "source": [
    "accs =cars['acceleration'].to_numpy()"
   ]
  },
  {
   "cell_type": "code",
   "execution_count": 12,
   "id": "522e8944-99e3-49dc-9b33-3fb536010bc0",
   "metadata": {},
   "outputs": [
    {
     "name": "stdout",
     "output_type": "stream",
     "text": [
      "[12.  11.5 11.  12.  10.5 10.   9.   8.5 10.   8.5 10.   8.   9.5 10.\n",
      " 15.  15.5 15.5 16.  14.5 20.5 17.5 14.5 17.5 12.5 15.  14.  15.  13.5\n",
      " 18.5 14.5 15.5 14.  19.  13.  15.5 15.5 15.5 15.5 12.  11.5 13.5 13.\n",
      " 11.5 12.  12.  13.5 19.  15.  14.5 14.  14.  19.5 14.5 19.  18.  19.\n",
      " 20.5 15.5 17.  23.5 19.5 16.5 12.  12.  13.5 13.  11.5 11.  13.5 13.5\n",
      " 12.5 13.5 12.5 14.  16.  14.  14.5 18.  19.5 18.  16.  17.  14.5 15.\n",
      " 16.5 13.  11.5 13.  14.5 12.5 11.5 12.  13.  14.5 11.  11.  11.  16.5\n",
      " 18.  16.  16.5 16.  21.  14.  12.5 13.  12.5 15.  19.  19.5 16.5 13.5\n",
      " 18.5 14.  15.5 13.   9.5 19.5 15.5 14.  15.5 11.  14.  13.5 11.  16.5\n",
      " 17.  16.  17.  19.  16.5 21.  17.  17.  18.  16.5 14.  14.5 13.5 16.\n",
      " 15.5 16.5 15.5 14.5 16.5 19.  14.5 15.5 14.  15.  15.5 16.  16.  16.\n",
      " 21.  19.5 11.5 14.  14.5 13.5 21.  18.5 19.  19.  15.  13.5 12.  16.\n",
      " 17.  16.  18.5 13.5 16.5 17.  14.5 14.  17.  15.  17.  14.5 13.5 17.5\n",
      " 15.5 16.9 14.9 17.7 15.3 13.  13.  13.9 12.8 15.4 14.5 17.6 17.6 22.2\n",
      " 22.1 14.2 17.4 17.7 21.  16.2 17.8 12.2 17.  16.4 13.6 15.7 13.2 21.9\n",
      " 15.5 16.7 12.1 12.  15.  14.  18.5 14.8 18.6 15.5 16.8 12.5 19.  13.7\n",
      " 14.9 16.4 16.9 17.7 19.  11.1 11.4 12.2 14.5 14.5 16.  18.2 15.8 17.\n",
      " 15.9 16.4 14.1 14.5 12.8 13.5 21.5 14.4 19.4 18.6 16.4 15.5 13.2 12.8\n",
      " 19.2 18.2 15.8 15.4 17.2 17.2 15.8 16.7 18.7 15.1 13.2 13.4 11.2 13.7\n",
      " 16.5 14.2 14.7 14.5 14.8 16.7 17.6 14.9 15.9 13.6 15.7 15.8 14.9 16.6\n",
      " 15.4 18.2 17.3 18.2 16.6 15.4 13.4 13.2 15.2 14.9 14.3 15.  13.  14.\n",
      " 15.2 14.4 15.  20.1 17.4 24.8 22.2 13.2 14.9 19.2 14.7 16.  11.3 12.9\n",
      " 13.2 14.7 18.8 15.5 16.4 16.5 18.1 20.1 18.7 15.8 15.5 17.5 15.  15.2\n",
      " 17.9 14.4 19.2 21.7 23.7 19.9 21.8 13.8 17.3 18.  15.3 11.4 12.5 15.1\n",
      " 14.3 17.  15.7 16.4 14.4 12.6 12.9 16.9 16.4 16.1 17.8 19.4 17.3 16.\n",
      " 14.9 16.2 20.7 14.2 15.8 14.4 16.8 14.8 18.3 20.4 19.6 12.6 13.8 15.8\n",
      " 19.  17.1 16.6 19.6 18.6 18.  16.2 16.  18.  16.4 20.5 15.3 18.2 17.6\n",
      " 14.7 17.3 14.5 14.5 16.9 15.  15.7 16.2 16.4 17.  14.5 14.7 13.9 13.\n",
      " 17.3 15.6 24.6 11.6 18.6 19.4]\n"
     ]
    }
   ],
   "source": [
    "print(accs)"
   ]
  },
  {
   "cell_type": "code",
   "execution_count": 27,
   "id": "54922643-2c99-43a2-974e-12371d579baf",
   "metadata": {},
   "outputs": [
    {
     "data": {
      "text/plain": [
       "(array([0.00897344, 0.00897344, 0.01495573, 0.02991146, 0.06281407,\n",
       "        0.08674324, 0.08674324, 0.17049533, 0.17049533, 0.10469012,\n",
       "        0.15254846, 0.08674324, 0.05683178, 0.0777698 , 0.02093802,\n",
       "        0.01794688, 0.02093802, 0.        , 0.00598229, 0.00598229]),\n",
       " array([ 8.  ,  8.84,  9.68, 10.52, 11.36, 12.2 , 13.04, 13.88, 14.72,\n",
       "        15.56, 16.4 , 17.24, 18.08, 18.92, 19.76, 20.6 , 21.44, 22.28,\n",
       "        23.12, 23.96, 24.8 ]),\n",
       " <BarContainer object of 20 artists>)"
      ]
     },
     "execution_count": 27,
     "metadata": {},
     "output_type": "execute_result"
    },
    {
     "data": {
      "image/png": "[encoded data removed]",
      "text/plain": [
       "<Figure size 432x288 with 1 Axes>"
      ]
     },
     "metadata": {
      "needs_background": "light"
     },
     "output_type": "display_data"
    }
   ],
   "source": [
    "hist(accs,bins =20,rwidth =0.8,density = True) #bins is no of intervals and rwidth is spacing"
   ]
  },
  {
   "cell_type": "markdown",
   "id": "d7f6d3b6-5471-4373-9675-4df11b011836",
   "metadata": {},
   "source": [
    "$$ f(a) \\approxeq  \\frac{n}{N \\Delta a} $$\n",
    "when density = True otherwise just plot n"
   ]
  },
  {
   "cell_type": "code",
   "execution_count": 37,
   "id": "34909f78-ee86-4df6-9327-8af55088f117",
   "metadata": {},
   "outputs": [
    {
     "name": "stderr",
     "output_type": "stream",
     "text": [
      "C:\\Users\\91977\\python\\lib\\site-packages\\seaborn\\distributions.py:2619: FutureWarning: `distplot` is a deprecated function and will be removed in a future version. Please adapt your code to use either `displot` (a figure-level function with similar flexibility) or `histplot` (an axes-level function for histograms).\n",
      "  warnings.warn(msg, FutureWarning)\n"
     ]
    },
    {
     "data": {
      "text/plain": [
       "<AxesSubplot:ylabel='Density'>"
      ]
     },
     "execution_count": 37,
     "metadata": {},
     "output_type": "execute_result"
    },
    {
     "data": {
      "image/png": "[encoded data removed]",
      "text/plain": [
       "<Figure size 432x288 with 1 Axes>"
      ]
     },
     "metadata": {
      "needs_background": "light"
     },
     "output_type": "display_data"
    }
   ],
   "source": [
    "sns.distplot(accs) #works only with numpy array"
   ]
  },
  {
   "cell_type": "code",
   "execution_count": 36,
   "id": "ca3521d8-be59-4c33-a5c1-01b4ddf28e78",
   "metadata": {},
   "outputs": [
    {
     "data": {
      "text/plain": [
       "<seaborn.axisgrid.FacetGrid at 0x20e1b848be0>"
      ]
     },
     "execution_count": 36,
     "metadata": {},
     "output_type": "execute_result"
    },
    {
     "data": {
      "image/png": "[encoded data removed]",
      "text/plain": [
       "<Figure size 360x360 with 1 Axes>"
      ]
     },
     "metadata": {
      "needs_background": "light"
     },
     "output_type": "display_data"
    }
   ],
   "source": [
    "sns.displot(cars,x='weight')"
   ]
  },
  {
   "cell_type": "markdown",
   "id": "676e8c33-171e-402b-b405-f340d175edfe",
   "metadata": {},
   "source": [
    "# LECTURE 13"
   ]
  },
  {
   "cell_type": "code",
   "execution_count": 63,
   "id": "e5b12240-6f67-4c63-a7c0-6c513daabba9",
   "metadata": {},
   "outputs": [],
   "source": [
    "from numpy import *\n",
    "from matplotlib.pyplot import *\n",
    "%matplotlib inline\n",
    "from numpy.random import random\n",
    "from numpy.random import randint \n",
    "import seaborn as sns #SNS IS user defined name\n",
    "import pandas as pd"
   ]
  },
  {
   "cell_type": "markdown",
   "id": "876adbbb-1381-48f9-936b-3e09d60fd875",
   "metadata": {},
   "source": [
    "panda series is eq to numpy array and pandas aslo has data frames"
   ]
  },
  {
   "cell_type": "code",
   "execution_count": 64,
   "id": "171025a7-f758-4073-b1d9-963b4003e5d7",
   "metadata": {},
   "outputs": [
    {
     "data": {
      "text/plain": [
       "array([0.40918051, 0.73293322, 0.64170543, 0.24931526, 0.03531503])"
      ]
     },
     "execution_count": 64,
     "metadata": {},
     "output_type": "execute_result"
    }
   ],
   "source": [
    "arr1 = random(5)\n",
    "arr1"
   ]
  },
  {
   "cell_type": "code",
   "execution_count": 65,
   "id": "ab5c01b0-2d82-4c90-b15b-3a699b9073d7",
   "metadata": {},
   "outputs": [
    {
     "data": {
      "text/plain": [
       "0    0.409181\n",
       "1    0.732933\n",
       "2    0.641705\n",
       "3    0.249315\n",
       "4    0.035315\n",
       "dtype: float64"
      ]
     },
     "execution_count": 65,
     "metadata": {},
     "output_type": "execute_result"
    }
   ],
   "source": [
    "arr_series =pd.Series(arr1)\n",
    "arr_series #indices usually start from zero"
   ]
  },
  {
   "cell_type": "markdown",
   "id": "b1f2cd66-926b-4159-96ba-a8d2e5de73cc",
   "metadata": {},
   "source": [
    "DataFrame : tabular way to store data"
   ]
  },
  {
   "cell_type": "code",
   "execution_count": 67,
   "id": "5f9237eb-2b80-4f65-9e4c-58604b89168a",
   "metadata": {},
   "outputs": [
    {
     "name": "stdout",
     "output_type": "stream",
     "text": [
      "[[0.71452571 0.13087463 0.92315082 0.53672232]\n",
      " [0.21127306 0.12854928 0.67813876 0.76145605]\n",
      " [0.25445647 0.53702316 0.70258217 0.64290487]\n",
      " [0.24687241 0.8175798  0.07522021 0.61622537]\n",
      " [0.57165864 0.68361465 0.13902521 0.61174787]]\n"
     ]
    }
   ],
   "source": [
    "arr2 =random((5,4)) #two bracekts needed as single argument accepted\n",
    "print(arr2)"
   ]
  },
  {
   "cell_type": "code",
   "execution_count": 68,
   "id": "54715567-30d7-4d42-bf48-e907d0d67b0b",
   "metadata": {},
   "outputs": [
    {
     "data": {
      "text/html": [
       "<div>\n",
       "<style scoped>\n",
       "    .dataframe tbody tr th:only-of-type {\n",
       "        vertical-align: middle;\n",
       "    }\n",
       "\n",
       "    .dataframe tbody tr th {\n",
       "        vertical-align: top;\n",
       "    }\n",
       "\n",
       "    .dataframe thead th {\n",
       "        text-align: right;\n",
       "    }\n",
       "</style>\n",
       "<table border=\"1\" class=\"dataframe\">\n",
       "  <thead>\n",
       "    <tr style=\"text-align: right;\">\n",
       "      <th></th>\n",
       "      <th>0</th>\n",
       "      <th>1</th>\n",
       "      <th>2</th>\n",
       "      <th>3</th>\n",
       "    </tr>\n",
       "  </thead>\n",
       "  <tbody>\n",
       "    <tr>\n",
       "      <th>0</th>\n",
       "      <td>0.714526</td>\n",
       "      <td>0.130875</td>\n",
       "      <td>0.923151</td>\n",
       "      <td>0.536722</td>\n",
       "    </tr>\n",
       "    <tr>\n",
       "      <th>1</th>\n",
       "      <td>0.211273</td>\n",
       "      <td>0.128549</td>\n",
       "      <td>0.678139</td>\n",
       "      <td>0.761456</td>\n",
       "    </tr>\n",
       "    <tr>\n",
       "      <th>2</th>\n",
       "      <td>0.254456</td>\n",
       "      <td>0.537023</td>\n",
       "      <td>0.702582</td>\n",
       "      <td>0.642905</td>\n",
       "    </tr>\n",
       "    <tr>\n",
       "      <th>3</th>\n",
       "      <td>0.246872</td>\n",
       "      <td>0.817580</td>\n",
       "      <td>0.075220</td>\n",
       "      <td>0.616225</td>\n",
       "    </tr>\n",
       "    <tr>\n",
       "      <th>4</th>\n",
       "      <td>0.571659</td>\n",
       "      <td>0.683615</td>\n",
       "      <td>0.139025</td>\n",
       "      <td>0.611748</td>\n",
       "    </tr>\n",
       "  </tbody>\n",
       "</table>\n",
       "</div>"
      ],
      "text/plain": [
       "          0         1         2         3\n",
       "0  0.714526  0.130875  0.923151  0.536722\n",
       "1  0.211273  0.128549  0.678139  0.761456\n",
       "2  0.254456  0.537023  0.702582  0.642905\n",
       "3  0.246872  0.817580  0.075220  0.616225\n",
       "4  0.571659  0.683615  0.139025  0.611748"
      ]
     },
     "execution_count": 68,
     "metadata": {},
     "output_type": "execute_result"
    }
   ],
   "source": [
    "df = pd.DataFrame(arr2)\n",
    "df"
   ]
  },
  {
   "cell_type": "markdown",
   "id": "ee0843f4-b277-4e50-8d3d-1904fe3d70c4",
   "metadata": {},
   "source": [
    "Neat tabular from"
   ]
  },
  {
   "cell_type": "code",
   "execution_count": 9,
   "id": "a2ced08d-f167-46dd-a506-6cb35fddad02",
   "metadata": {},
   "outputs": [
    {
     "data": {
      "text/html": [
       "<div>\n",
       "<style scoped>\n",
       "    .dataframe tbody tr th:only-of-type {\n",
       "        vertical-align: middle;\n",
       "    }\n",
       "\n",
       "    .dataframe tbody tr th {\n",
       "        vertical-align: top;\n",
       "    }\n",
       "\n",
       "    .dataframe thead th {\n",
       "        text-align: right;\n",
       "    }\n",
       "</style>\n",
       "<table border=\"1\" class=\"dataframe\">\n",
       "  <thead>\n",
       "    <tr style=\"text-align: right;\">\n",
       "      <th></th>\n",
       "      <th>A</th>\n",
       "      <th>B</th>\n",
       "      <th>C</th>\n",
       "      <th>D</th>\n",
       "    </tr>\n",
       "  </thead>\n",
       "  <tbody>\n",
       "    <tr>\n",
       "      <th>0</th>\n",
       "      <td>0.244934</td>\n",
       "      <td>0.939473</td>\n",
       "      <td>0.822805</td>\n",
       "      <td>0.729416</td>\n",
       "    </tr>\n",
       "    <tr>\n",
       "      <th>1</th>\n",
       "      <td>0.058553</td>\n",
       "      <td>0.169428</td>\n",
       "      <td>0.859707</td>\n",
       "      <td>0.860953</td>\n",
       "    </tr>\n",
       "    <tr>\n",
       "      <th>2</th>\n",
       "      <td>0.109554</td>\n",
       "      <td>0.766393</td>\n",
       "      <td>0.957054</td>\n",
       "      <td>0.225809</td>\n",
       "    </tr>\n",
       "    <tr>\n",
       "      <th>3</th>\n",
       "      <td>0.247817</td>\n",
       "      <td>0.687292</td>\n",
       "      <td>0.670514</td>\n",
       "      <td>0.178693</td>\n",
       "    </tr>\n",
       "    <tr>\n",
       "      <th>4</th>\n",
       "      <td>0.818886</td>\n",
       "      <td>0.335614</td>\n",
       "      <td>0.998238</td>\n",
       "      <td>0.156474</td>\n",
       "    </tr>\n",
       "  </tbody>\n",
       "</table>\n",
       "</div>"
      ],
      "text/plain": [
       "          A         B         C         D\n",
       "0  0.244934  0.939473  0.822805  0.729416\n",
       "1  0.058553  0.169428  0.859707  0.860953\n",
       "2  0.109554  0.766393  0.957054  0.225809\n",
       "3  0.247817  0.687292  0.670514  0.178693\n",
       "4  0.818886  0.335614  0.998238  0.156474"
      ]
     },
     "execution_count": 9,
     "metadata": {},
     "output_type": "execute_result"
    }
   ],
   "source": [
    "df.columns = [ 'A' ,'B', 'C' ,'D']\n",
    "df"
   ]
  },
  {
   "cell_type": "code",
   "execution_count": 11,
   "id": "801d135a-24ee-47c1-954a-97005070686c",
   "metadata": {},
   "outputs": [
    {
     "data": {
      "text/html": [
       "<div>\n",
       "<style scoped>\n",
       "    .dataframe tbody tr th:only-of-type {\n",
       "        vertical-align: middle;\n",
       "    }\n",
       "\n",
       "    .dataframe tbody tr th {\n",
       "        vertical-align: top;\n",
       "    }\n",
       "\n",
       "    .dataframe thead th {\n",
       "        text-align: right;\n",
       "    }\n",
       "</style>\n",
       "<table border=\"1\" class=\"dataframe\">\n",
       "  <thead>\n",
       "    <tr style=\"text-align: right;\">\n",
       "      <th></th>\n",
       "      <th>A</th>\n",
       "      <th>B</th>\n",
       "      <th>C</th>\n",
       "      <th>D</th>\n",
       "    </tr>\n",
       "  </thead>\n",
       "  <tbody>\n",
       "    <tr>\n",
       "      <th>alpha</th>\n",
       "      <td>0.244934</td>\n",
       "      <td>0.939473</td>\n",
       "      <td>0.822805</td>\n",
       "      <td>0.729416</td>\n",
       "    </tr>\n",
       "    <tr>\n",
       "      <th>beta</th>\n",
       "      <td>0.058553</td>\n",
       "      <td>0.169428</td>\n",
       "      <td>0.859707</td>\n",
       "      <td>0.860953</td>\n",
       "    </tr>\n",
       "    <tr>\n",
       "      <th>gamma</th>\n",
       "      <td>0.109554</td>\n",
       "      <td>0.766393</td>\n",
       "      <td>0.957054</td>\n",
       "      <td>0.225809</td>\n",
       "    </tr>\n",
       "    <tr>\n",
       "      <th>delta</th>\n",
       "      <td>0.247817</td>\n",
       "      <td>0.687292</td>\n",
       "      <td>0.670514</td>\n",
       "      <td>0.178693</td>\n",
       "    </tr>\n",
       "    <tr>\n",
       "      <th>epsilon</th>\n",
       "      <td>0.818886</td>\n",
       "      <td>0.335614</td>\n",
       "      <td>0.998238</td>\n",
       "      <td>0.156474</td>\n",
       "    </tr>\n",
       "  </tbody>\n",
       "</table>\n",
       "</div>"
      ],
      "text/plain": [
       "                A         B         C         D\n",
       "alpha    0.244934  0.939473  0.822805  0.729416\n",
       "beta     0.058553  0.169428  0.859707  0.860953\n",
       "gamma    0.109554  0.766393  0.957054  0.225809\n",
       "delta    0.247817  0.687292  0.670514  0.178693\n",
       "epsilon  0.818886  0.335614  0.998238  0.156474"
      ]
     },
     "execution_count": 11,
     "metadata": {},
     "output_type": "execute_result"
    }
   ],
   "source": [
    "indices = [ 'alpha' , 'beta' ,'gamma' , 'delta' , 'epsilon']\n",
    "df.index = indices\n",
    "df"
   ]
  },
  {
   "cell_type": "code",
   "execution_count": 12,
   "id": "7d8734da-b5f3-4f1f-85d4-a1e038b9c97e",
   "metadata": {},
   "outputs": [
    {
     "data": {
      "text/plain": [
       "alpha      0.939473\n",
       "beta       0.169428\n",
       "gamma      0.766393\n",
       "delta      0.687292\n",
       "epsilon    0.335614\n",
       "Name: B, dtype: float64"
      ]
     },
     "execution_count": 12,
     "metadata": {},
     "output_type": "execute_result"
    }
   ],
   "source": [
    "df['B']"
   ]
  },
  {
   "cell_type": "code",
   "execution_count": 13,
   "id": "3399da10-a328-43bb-a542-b30bb1d0d792",
   "metadata": {},
   "outputs": [
    {
     "data": {
      "text/plain": [
       "A    0.244934\n",
       "B    0.939473\n",
       "C    0.822805\n",
       "D    0.729416\n",
       "Name: alpha, dtype: float64"
      ]
     },
     "execution_count": 13,
     "metadata": {},
     "output_type": "execute_result"
    }
   ],
   "source": [
    "df.loc['alpha']"
   ]
  },
  {
   "cell_type": "code",
   "execution_count": 16,
   "id": "adcd36a7-4651-46b1-a185-16906ce3e2d6",
   "metadata": {},
   "outputs": [
    {
     "data": {
      "text/html": [
       "<div>\n",
       "<style scoped>\n",
       "    .dataframe tbody tr th:only-of-type {\n",
       "        vertical-align: middle;\n",
       "    }\n",
       "\n",
       "    .dataframe tbody tr th {\n",
       "        vertical-align: top;\n",
       "    }\n",
       "\n",
       "    .dataframe thead th {\n",
       "        text-align: right;\n",
       "    }\n",
       "</style>\n",
       "<table border=\"1\" class=\"dataframe\">\n",
       "  <thead>\n",
       "    <tr style=\"text-align: right;\">\n",
       "      <th></th>\n",
       "      <th>B</th>\n",
       "      <th>D</th>\n",
       "    </tr>\n",
       "  </thead>\n",
       "  <tbody>\n",
       "    <tr>\n",
       "      <th>gamma</th>\n",
       "      <td>0.766393</td>\n",
       "      <td>0.225809</td>\n",
       "    </tr>\n",
       "    <tr>\n",
       "      <th>epsilon</th>\n",
       "      <td>0.335614</td>\n",
       "      <td>0.156474</td>\n",
       "    </tr>\n",
       "  </tbody>\n",
       "</table>\n",
       "</div>"
      ],
      "text/plain": [
       "                B         D\n",
       "gamma    0.766393  0.225809\n",
       "epsilon  0.335614  0.156474"
      ]
     },
     "execution_count": 16,
     "metadata": {},
     "output_type": "execute_result"
    }
   ],
   "source": [
    "df.loc[['gamma','epsilon'] ,['B','D']]"
   ]
  },
  {
   "cell_type": "code",
   "execution_count": 19,
   "id": "378968df-948a-4ff6-b933-52c7774ba97c",
   "metadata": {},
   "outputs": [],
   "source": [
    "sunspots =pd.read_csv('SN_y_tot_V2.0.csv',header = None , sep =';')"
   ]
  },
  {
   "cell_type": "code",
   "execution_count": 20,
   "id": "2e9b8fb9-0195-4b78-be35-b33bad4efe3f",
   "metadata": {},
   "outputs": [
    {
     "data": {
      "text/html": [
       "<div>\n",
       "<style scoped>\n",
       "    .dataframe tbody tr th:only-of-type {\n",
       "        vertical-align: middle;\n",
       "    }\n",
       "\n",
       "    .dataframe tbody tr th {\n",
       "        vertical-align: top;\n",
       "    }\n",
       "\n",
       "    .dataframe thead th {\n",
       "        text-align: right;\n",
       "    }\n",
       "</style>\n",
       "<table border=\"1\" class=\"dataframe\">\n",
       "  <thead>\n",
       "    <tr style=\"text-align: right;\">\n",
       "      <th></th>\n",
       "      <th>0</th>\n",
       "      <th>1</th>\n",
       "      <th>2</th>\n",
       "      <th>3</th>\n",
       "      <th>4</th>\n",
       "    </tr>\n",
       "  </thead>\n",
       "  <tbody>\n",
       "    <tr>\n",
       "      <th>0</th>\n",
       "      <td>1700.5</td>\n",
       "      <td>8.3</td>\n",
       "      <td>-1.0</td>\n",
       "      <td>-1</td>\n",
       "      <td>1</td>\n",
       "    </tr>\n",
       "    <tr>\n",
       "      <th>1</th>\n",
       "      <td>1701.5</td>\n",
       "      <td>18.3</td>\n",
       "      <td>-1.0</td>\n",
       "      <td>-1</td>\n",
       "      <td>1</td>\n",
       "    </tr>\n",
       "    <tr>\n",
       "      <th>2</th>\n",
       "      <td>1702.5</td>\n",
       "      <td>26.7</td>\n",
       "      <td>-1.0</td>\n",
       "      <td>-1</td>\n",
       "      <td>1</td>\n",
       "    </tr>\n",
       "    <tr>\n",
       "      <th>3</th>\n",
       "      <td>1703.5</td>\n",
       "      <td>38.3</td>\n",
       "      <td>-1.0</td>\n",
       "      <td>-1</td>\n",
       "      <td>1</td>\n",
       "    </tr>\n",
       "    <tr>\n",
       "      <th>4</th>\n",
       "      <td>1704.5</td>\n",
       "      <td>60.0</td>\n",
       "      <td>-1.0</td>\n",
       "      <td>-1</td>\n",
       "      <td>1</td>\n",
       "    </tr>\n",
       "    <tr>\n",
       "      <th>...</th>\n",
       "      <td>...</td>\n",
       "      <td>...</td>\n",
       "      <td>...</td>\n",
       "      <td>...</td>\n",
       "      <td>...</td>\n",
       "    </tr>\n",
       "    <tr>\n",
       "      <th>317</th>\n",
       "      <td>2017.5</td>\n",
       "      <td>21.7</td>\n",
       "      <td>2.5</td>\n",
       "      <td>11444</td>\n",
       "      <td>1</td>\n",
       "    </tr>\n",
       "    <tr>\n",
       "      <th>318</th>\n",
       "      <td>2018.5</td>\n",
       "      <td>7.0</td>\n",
       "      <td>1.1</td>\n",
       "      <td>12611</td>\n",
       "      <td>1</td>\n",
       "    </tr>\n",
       "    <tr>\n",
       "      <th>319</th>\n",
       "      <td>2019.5</td>\n",
       "      <td>3.6</td>\n",
       "      <td>0.5</td>\n",
       "      <td>12884</td>\n",
       "      <td>1</td>\n",
       "    </tr>\n",
       "    <tr>\n",
       "      <th>320</th>\n",
       "      <td>2020.5</td>\n",
       "      <td>8.8</td>\n",
       "      <td>4.1</td>\n",
       "      <td>14440</td>\n",
       "      <td>1</td>\n",
       "    </tr>\n",
       "    <tr>\n",
       "      <th>321</th>\n",
       "      <td>2021.5</td>\n",
       "      <td>29.6</td>\n",
       "      <td>7.9</td>\n",
       "      <td>15233</td>\n",
       "      <td>1</td>\n",
       "    </tr>\n",
       "  </tbody>\n",
       "</table>\n",
       "<p>322 rows × 5 columns</p>\n",
       "</div>"
      ],
      "text/plain": [
       "          0     1    2      3  4\n",
       "0    1700.5   8.3 -1.0     -1  1\n",
       "1    1701.5  18.3 -1.0     -1  1\n",
       "2    1702.5  26.7 -1.0     -1  1\n",
       "3    1703.5  38.3 -1.0     -1  1\n",
       "4    1704.5  60.0 -1.0     -1  1\n",
       "..      ...   ...  ...    ... ..\n",
       "317  2017.5  21.7  2.5  11444  1\n",
       "318  2018.5   7.0  1.1  12611  1\n",
       "319  2019.5   3.6  0.5  12884  1\n",
       "320  2020.5   8.8  4.1  14440  1\n",
       "321  2021.5  29.6  7.9  15233  1\n",
       "\n",
       "[322 rows x 5 columns]"
      ]
     },
     "execution_count": 20,
     "metadata": {},
     "output_type": "execute_result"
    }
   ],
   "source": [
    "sunspots"
   ]
  },
  {
   "cell_type": "code",
   "execution_count": 21,
   "id": "7738cd0f-79b8-4ab8-8c45-ead687203a32",
   "metadata": {},
   "outputs": [],
   "source": [
    "sunspots.columns = [ 'year' ,'no of sunspots', 'std' ,'no of obs','validity']"
   ]
  },
  {
   "cell_type": "code",
   "execution_count": 22,
   "id": "21a97475-acfb-42fe-8833-4d40587d3b0c",
   "metadata": {},
   "outputs": [
    {
     "data": {
      "text/html": [
       "<div>\n",
       "<style scoped>\n",
       "    .dataframe tbody tr th:only-of-type {\n",
       "        vertical-align: middle;\n",
       "    }\n",
       "\n",
       "    .dataframe tbody tr th {\n",
       "        vertical-align: top;\n",
       "    }\n",
       "\n",
       "    .dataframe thead th {\n",
       "        text-align: right;\n",
       "    }\n",
       "</style>\n",
       "<table border=\"1\" class=\"dataframe\">\n",
       "  <thead>\n",
       "    <tr style=\"text-align: right;\">\n",
       "      <th></th>\n",
       "      <th>year</th>\n",
       "      <th>no of sunspots</th>\n",
       "      <th>std</th>\n",
       "      <th>no of obs</th>\n",
       "      <th>validity</th>\n",
       "    </tr>\n",
       "  </thead>\n",
       "  <tbody>\n",
       "    <tr>\n",
       "      <th>0</th>\n",
       "      <td>1700.5</td>\n",
       "      <td>8.3</td>\n",
       "      <td>-1.0</td>\n",
       "      <td>-1</td>\n",
       "      <td>1</td>\n",
       "    </tr>\n",
       "    <tr>\n",
       "      <th>1</th>\n",
       "      <td>1701.5</td>\n",
       "      <td>18.3</td>\n",
       "      <td>-1.0</td>\n",
       "      <td>-1</td>\n",
       "      <td>1</td>\n",
       "    </tr>\n",
       "    <tr>\n",
       "      <th>2</th>\n",
       "      <td>1702.5</td>\n",
       "      <td>26.7</td>\n",
       "      <td>-1.0</td>\n",
       "      <td>-1</td>\n",
       "      <td>1</td>\n",
       "    </tr>\n",
       "    <tr>\n",
       "      <th>3</th>\n",
       "      <td>1703.5</td>\n",
       "      <td>38.3</td>\n",
       "      <td>-1.0</td>\n",
       "      <td>-1</td>\n",
       "      <td>1</td>\n",
       "    </tr>\n",
       "    <tr>\n",
       "      <th>4</th>\n",
       "      <td>1704.5</td>\n",
       "      <td>60.0</td>\n",
       "      <td>-1.0</td>\n",
       "      <td>-1</td>\n",
       "      <td>1</td>\n",
       "    </tr>\n",
       "    <tr>\n",
       "      <th>...</th>\n",
       "      <td>...</td>\n",
       "      <td>...</td>\n",
       "      <td>...</td>\n",
       "      <td>...</td>\n",
       "      <td>...</td>\n",
       "    </tr>\n",
       "    <tr>\n",
       "      <th>317</th>\n",
       "      <td>2017.5</td>\n",
       "      <td>21.7</td>\n",
       "      <td>2.5</td>\n",
       "      <td>11444</td>\n",
       "      <td>1</td>\n",
       "    </tr>\n",
       "    <tr>\n",
       "      <th>318</th>\n",
       "      <td>2018.5</td>\n",
       "      <td>7.0</td>\n",
       "      <td>1.1</td>\n",
       "      <td>12611</td>\n",
       "      <td>1</td>\n",
       "    </tr>\n",
       "    <tr>\n",
       "      <th>319</th>\n",
       "      <td>2019.5</td>\n",
       "      <td>3.6</td>\n",
       "      <td>0.5</td>\n",
       "      <td>12884</td>\n",
       "      <td>1</td>\n",
       "    </tr>\n",
       "    <tr>\n",
       "      <th>320</th>\n",
       "      <td>2020.5</td>\n",
       "      <td>8.8</td>\n",
       "      <td>4.1</td>\n",
       "      <td>14440</td>\n",
       "      <td>1</td>\n",
       "    </tr>\n",
       "    <tr>\n",
       "      <th>321</th>\n",
       "      <td>2021.5</td>\n",
       "      <td>29.6</td>\n",
       "      <td>7.9</td>\n",
       "      <td>15233</td>\n",
       "      <td>1</td>\n",
       "    </tr>\n",
       "  </tbody>\n",
       "</table>\n",
       "<p>322 rows × 5 columns</p>\n",
       "</div>"
      ],
      "text/plain": [
       "       year  no of sunspots  std  no of obs  validity\n",
       "0    1700.5             8.3 -1.0         -1         1\n",
       "1    1701.5            18.3 -1.0         -1         1\n",
       "2    1702.5            26.7 -1.0         -1         1\n",
       "3    1703.5            38.3 -1.0         -1         1\n",
       "4    1704.5            60.0 -1.0         -1         1\n",
       "..      ...             ...  ...        ...       ...\n",
       "317  2017.5            21.7  2.5      11444         1\n",
       "318  2018.5             7.0  1.1      12611         1\n",
       "319  2019.5             3.6  0.5      12884         1\n",
       "320  2020.5             8.8  4.1      14440         1\n",
       "321  2021.5            29.6  7.9      15233         1\n",
       "\n",
       "[322 rows x 5 columns]"
      ]
     },
     "execution_count": 22,
     "metadata": {},
     "output_type": "execute_result"
    }
   ],
   "source": [
    "sunspots"
   ]
  },
  {
   "cell_type": "code",
   "execution_count": 24,
   "id": "c71ac07a-82bc-460e-a8f8-b370f59d1ec2",
   "metadata": {},
   "outputs": [
    {
     "data": {
      "text/plain": [
       "<AxesSubplot:xlabel='year', ylabel='no of sunspots'>"
      ]
     },
     "execution_count": 24,
     "metadata": {},
     "output_type": "execute_result"
    },
    {
     "data": {
      "image/png": "[encoded data removed]",
      "text/plain": [
       "<Figure size 432x288 with 1 Axes>"
      ]
     },
     "metadata": {
      "needs_background": "light"
     },
     "output_type": "display_data"
    }
   ],
   "source": [
    "sns.lineplot(data=sunspots, x ='year',y='no of sunspots')"
   ]
  },
  {
   "cell_type": "markdown",
   "id": "fecdbccb-a7ce-4c76-bb6d-360c6ee88820",
   "metadata": {},
   "source": [
    "# LECCTURE 14"
   ]
  },
  {
   "cell_type": "code",
   "execution_count": 9,
   "id": "f24fdd54-1e7c-4379-bbb5-8eb78545c66a",
   "metadata": {},
   "outputs": [],
   "source": [
    "from numpy import *\n",
    "from matplotlib.pyplot import *\n",
    "%matplotlib inline\n",
    "from numpy.random import random\n",
    "from numpy.random import randint \n",
    "import seaborn as sns #SNS IS user defined name\n",
    "import pandas as pd"
   ]
  },
  {
   "cell_type": "code",
   "execution_count": 10,
   "id": "3bc04786-87e3-44e5-b6a3-a8e9ac3ac411",
   "metadata": {},
   "outputs": [
    {
     "data": {
      "text/html": [
       "<div>\n",
       "<style scoped>\n",
       "    .dataframe tbody tr th:only-of-type {\n",
       "        vertical-align: middle;\n",
       "    }\n",
       "\n",
       "    .dataframe tbody tr th {\n",
       "        vertical-align: top;\n",
       "    }\n",
       "\n",
       "    .dataframe thead th {\n",
       "        text-align: right;\n",
       "    }\n",
       "</style>\n",
       "<table border=\"1\" class=\"dataframe\">\n",
       "  <thead>\n",
       "    <tr style=\"text-align: right;\">\n",
       "      <th></th>\n",
       "      <th>mpg</th>\n",
       "      <th>cylinders</th>\n",
       "      <th>displacement</th>\n",
       "      <th>horsepower</th>\n",
       "      <th>weight</th>\n",
       "      <th>acceleration</th>\n",
       "      <th>model_year</th>\n",
       "      <th>origin</th>\n",
       "      <th>name</th>\n",
       "    </tr>\n",
       "  </thead>\n",
       "  <tbody>\n",
       "    <tr>\n",
       "      <th>0</th>\n",
       "      <td>18.0</td>\n",
       "      <td>8</td>\n",
       "      <td>307.0</td>\n",
       "      <td>130.0</td>\n",
       "      <td>3504</td>\n",
       "      <td>12.0</td>\n",
       "      <td>70</td>\n",
       "      <td>usa</td>\n",
       "      <td>chevrolet chevelle malibu</td>\n",
       "    </tr>\n",
       "    <tr>\n",
       "      <th>1</th>\n",
       "      <td>15.0</td>\n",
       "      <td>8</td>\n",
       "      <td>350.0</td>\n",
       "      <td>165.0</td>\n",
       "      <td>3693</td>\n",
       "      <td>11.5</td>\n",
       "      <td>70</td>\n",
       "      <td>usa</td>\n",
       "      <td>buick skylark 320</td>\n",
       "    </tr>\n",
       "    <tr>\n",
       "      <th>2</th>\n",
       "      <td>18.0</td>\n",
       "      <td>8</td>\n",
       "      <td>318.0</td>\n",
       "      <td>150.0</td>\n",
       "      <td>3436</td>\n",
       "      <td>11.0</td>\n",
       "      <td>70</td>\n",
       "      <td>usa</td>\n",
       "      <td>plymouth satellite</td>\n",
       "    </tr>\n",
       "    <tr>\n",
       "      <th>3</th>\n",
       "      <td>16.0</td>\n",
       "      <td>8</td>\n",
       "      <td>304.0</td>\n",
       "      <td>150.0</td>\n",
       "      <td>3433</td>\n",
       "      <td>12.0</td>\n",
       "      <td>70</td>\n",
       "      <td>usa</td>\n",
       "      <td>amc rebel sst</td>\n",
       "    </tr>\n",
       "    <tr>\n",
       "      <th>4</th>\n",
       "      <td>17.0</td>\n",
       "      <td>8</td>\n",
       "      <td>302.0</td>\n",
       "      <td>140.0</td>\n",
       "      <td>3449</td>\n",
       "      <td>10.5</td>\n",
       "      <td>70</td>\n",
       "      <td>usa</td>\n",
       "      <td>ford torino</td>\n",
       "    </tr>\n",
       "  </tbody>\n",
       "</table>\n",
       "</div>"
      ],
      "text/plain": [
       "    mpg  cylinders  displacement  horsepower  weight  acceleration  \\\n",
       "0  18.0          8         307.0       130.0    3504          12.0   \n",
       "1  15.0          8         350.0       165.0    3693          11.5   \n",
       "2  18.0          8         318.0       150.0    3436          11.0   \n",
       "3  16.0          8         304.0       150.0    3433          12.0   \n",
       "4  17.0          8         302.0       140.0    3449          10.5   \n",
       "\n",
       "   model_year origin                       name  \n",
       "0          70    usa  chevrolet chevelle malibu  \n",
       "1          70    usa          buick skylark 320  \n",
       "2          70    usa         plymouth satellite  \n",
       "3          70    usa              amc rebel sst  \n",
       "4          70    usa                ford torino  "
      ]
     },
     "execution_count": 10,
     "metadata": {},
     "output_type": "execute_result"
    }
   ],
   "source": [
    "cars =sns.load_dataset('mpg')\n",
    "cars.head()"
   ]
  },
  {
   "cell_type": "code",
   "execution_count": 11,
   "id": "f4188953-5fdb-4752-b116-82eda3257520",
   "metadata": {},
   "outputs": [
    {
     "data": {
      "text/plain": [
       "<seaborn.axisgrid.FacetGrid at 0x131eb2f7c40>"
      ]
     },
     "execution_count": 11,
     "metadata": {},
     "output_type": "execute_result"
    },
    {
     "data": {
      "image/png": "[encoded data removed]",
      "text/plain": [
       "<Figure size 360x360 with 1 Axes>"
      ]
     },
     "metadata": {
      "needs_background": "light"
     },
     "output_type": "display_data"
    }
   ],
   "source": [
    "sns.displot(data=cars, x='cylinders')"
   ]
  },
  {
   "cell_type": "code",
   "execution_count": 12,
   "id": "f204b4d3-9e25-4569-b3e1-93486b0bfb25",
   "metadata": {},
   "outputs": [
    {
     "data": {
      "text/plain": [
       "<seaborn.axisgrid.FacetGrid at 0x131eb2f7790>"
      ]
     },
     "execution_count": 12,
     "metadata": {},
     "output_type": "execute_result"
    },
    {
     "data": {
      "image/png": "[encoded data removed]",
      "text/plain": [
       "<Figure size 360x360 with 1 Axes>"
      ]
     },
     "metadata": {
      "needs_background": "light"
     },
     "output_type": "display_data"
    }
   ],
   "source": [
    "sns.displot(data=cars, x='horsepower')"
   ]
  },
  {
   "cell_type": "code",
   "execution_count": 14,
   "id": "22d5e9e1-f26b-4f46-b069-ec6ae98ce112",
   "metadata": {},
   "outputs": [
    {
     "data": {
      "text/plain": [
       "<seaborn.axisgrid.FacetGrid at 0x131ebbe79a0>"
      ]
     },
     "execution_count": 14,
     "metadata": {},
     "output_type": "execute_result"
    },
    {
     "data": {
      "image/png": "[encoded data removed]",
      "text/plain": [
       "<Figure size 360x360 with 1 Axes>"
      ]
     },
     "metadata": {
      "needs_background": "light"
     },
     "output_type": "display_data"
    }
   ],
   "source": [
    "sns.displot(data=cars, x='cylinders' ,y='horsepower',kind =\"kde\")"
   ]
  },
  {
   "cell_type": "code",
   "execution_count": 15,
   "id": "f2578baa-b97c-4d6e-b823-558df9942824",
   "metadata": {},
   "outputs": [
    {
     "data": {
      "text/plain": [
       "<AxesSubplot:xlabel='cylinders', ylabel='horsepower'>"
      ]
     },
     "execution_count": 15,
     "metadata": {},
     "output_type": "execute_result"
    },
    {
     "data": {
      "image/png": "[encoded data removed]",
      "text/plain": [
       "<Figure size 432x288 with 1 Axes>"
      ]
     },
     "metadata": {
      "needs_background": "light"
     },
     "output_type": "display_data"
    }
   ],
   "source": [
    "sns.regplot(data=cars, x='cylinders' , y='horsepower')"
   ]
  },
  {
   "cell_type": "code",
   "execution_count": 17,
   "id": "332aa1ef-745e-435e-8c4f-5b474d57161c",
   "metadata": {},
   "outputs": [
    {
     "name": "stderr",
     "output_type": "stream",
     "text": [
      "C:\\Users\\91977\\python\\lib\\site-packages\\seaborn\\distributions.py:1210: UserWarning: The following kwargs were not used by contour: 'contours'\n",
      "  cset = contour_func(\n"
     ]
    },
    {
     "data": {
      "text/plain": [
       "<seaborn.axisgrid.JointGrid at 0x131eb0bbe50>"
      ]
     },
     "execution_count": 17,
     "metadata": {},
     "output_type": "execute_result"
    },
    {
     "data": {
      "image/png": "[encoded data removed]",
      "text/plain": [
       "<Figure size 432x432 with 3 Axes>"
      ]
     },
     "metadata": {
      "needs_background": "light"
     },
     "output_type": "display_data"
    }
   ],
   "source": [
    "sns.jointplot(data=cars, x='cylinders' , y='horsepower', kind =\"kde\" , contours =20)"
   ]
  },
  {
   "cell_type": "markdown",
   "id": "4e462454-9a95-4a42-b774-dea3c66d81ad",
   "metadata": {},
   "source": [
    "# LECTURE 15"
   ]
  },
  {
   "cell_type": "code",
   "execution_count": 1,
   "id": "5d2868d8-0f6f-4104-aea1-a863d27d9d48",
   "metadata": {},
   "outputs": [],
   "source": [
    "from numpy import *\n",
    "from matplotlib.pyplot import *\n",
    "%matplotlib inline\n",
    "from numpy.random import random\n",
    "from numpy.random import randint "
   ]
  },
  {
   "cell_type": "code",
   "execution_count": 2,
   "id": "685aa084-cc36-4795-95e5-757035b5c26e",
   "metadata": {},
   "outputs": [],
   "source": [
    "import seaborn as sns #SNS IS user defined name\n",
    "import pandas as pd"
   ]
  },
  {
   "cell_type": "code",
   "execution_count": 3,
   "id": "efb54c14-f98c-41e1-bd28-d3f3e93c43d6",
   "metadata": {},
   "outputs": [
    {
     "data": {
      "text/html": [
       "<div>\n",
       "<style scoped>\n",
       "    .dataframe tbody tr th:only-of-type {\n",
       "        vertical-align: middle;\n",
       "    }\n",
       "\n",
       "    .dataframe tbody tr th {\n",
       "        vertical-align: top;\n",
       "    }\n",
       "\n",
       "    .dataframe thead th {\n",
       "        text-align: right;\n",
       "    }\n",
       "</style>\n",
       "<table border=\"1\" class=\"dataframe\">\n",
       "  <thead>\n",
       "    <tr style=\"text-align: right;\">\n",
       "      <th></th>\n",
       "      <th>mpg</th>\n",
       "      <th>cylinders</th>\n",
       "      <th>displacement</th>\n",
       "      <th>horsepower</th>\n",
       "      <th>weight</th>\n",
       "      <th>acceleration</th>\n",
       "      <th>model_year</th>\n",
       "      <th>origin</th>\n",
       "      <th>name</th>\n",
       "    </tr>\n",
       "  </thead>\n",
       "  <tbody>\n",
       "    <tr>\n",
       "      <th>0</th>\n",
       "      <td>18.0</td>\n",
       "      <td>8</td>\n",
       "      <td>307.0</td>\n",
       "      <td>130.0</td>\n",
       "      <td>3504</td>\n",
       "      <td>12.0</td>\n",
       "      <td>70</td>\n",
       "      <td>usa</td>\n",
       "      <td>chevrolet chevelle malibu</td>\n",
       "    </tr>\n",
       "    <tr>\n",
       "      <th>1</th>\n",
       "      <td>15.0</td>\n",
       "      <td>8</td>\n",
       "      <td>350.0</td>\n",
       "      <td>165.0</td>\n",
       "      <td>3693</td>\n",
       "      <td>11.5</td>\n",
       "      <td>70</td>\n",
       "      <td>usa</td>\n",
       "      <td>buick skylark 320</td>\n",
       "    </tr>\n",
       "    <tr>\n",
       "      <th>2</th>\n",
       "      <td>18.0</td>\n",
       "      <td>8</td>\n",
       "      <td>318.0</td>\n",
       "      <td>150.0</td>\n",
       "      <td>3436</td>\n",
       "      <td>11.0</td>\n",
       "      <td>70</td>\n",
       "      <td>usa</td>\n",
       "      <td>plymouth satellite</td>\n",
       "    </tr>\n",
       "    <tr>\n",
       "      <th>3</th>\n",
       "      <td>16.0</td>\n",
       "      <td>8</td>\n",
       "      <td>304.0</td>\n",
       "      <td>150.0</td>\n",
       "      <td>3433</td>\n",
       "      <td>12.0</td>\n",
       "      <td>70</td>\n",
       "      <td>usa</td>\n",
       "      <td>amc rebel sst</td>\n",
       "    </tr>\n",
       "    <tr>\n",
       "      <th>4</th>\n",
       "      <td>17.0</td>\n",
       "      <td>8</td>\n",
       "      <td>302.0</td>\n",
       "      <td>140.0</td>\n",
       "      <td>3449</td>\n",
       "      <td>10.5</td>\n",
       "      <td>70</td>\n",
       "      <td>usa</td>\n",
       "      <td>ford torino</td>\n",
       "    </tr>\n",
       "  </tbody>\n",
       "</table>\n",
       "</div>"
      ],
      "text/plain": [
       "    mpg  cylinders  displacement  horsepower  weight  acceleration  \\\n",
       "0  18.0          8         307.0       130.0    3504          12.0   \n",
       "1  15.0          8         350.0       165.0    3693          11.5   \n",
       "2  18.0          8         318.0       150.0    3436          11.0   \n",
       "3  16.0          8         304.0       150.0    3433          12.0   \n",
       "4  17.0          8         302.0       140.0    3449          10.5   \n",
       "\n",
       "   model_year origin                       name  \n",
       "0          70    usa  chevrolet chevelle malibu  \n",
       "1          70    usa          buick skylark 320  \n",
       "2          70    usa         plymouth satellite  \n",
       "3          70    usa              amc rebel sst  \n",
       "4          70    usa                ford torino  "
      ]
     },
     "execution_count": 3,
     "metadata": {},
     "output_type": "execute_result"
    }
   ],
   "source": [
    "cars =sns.load_dataset('mpg')\n",
    "cars.head()"
   ]
  },
  {
   "cell_type": "code",
   "execution_count": 4,
   "id": "a0bb3e40-1aeb-400f-b22f-607829ee1835",
   "metadata": {},
   "outputs": [
    {
     "data": {
      "text/plain": [
       "<seaborn.axisgrid.FacetGrid at 0x2701bfdf940>"
      ]
     },
     "execution_count": 4,
     "metadata": {},
     "output_type": "execute_result"
    },
    {
     "data": {
      "image/png": "[encoded data removed]",
      "text/plain": [
       "<Figure size 360x360 with 1 Axes>"
      ]
     },
     "metadata": {
      "needs_background": "light"
     },
     "output_type": "display_data"
    }
   ],
   "source": [
    "sns.displot(data = cars,x='horsepower')"
   ]
  },
  {
   "cell_type": "code",
   "execution_count": 5,
   "id": "03a3b538-a13b-4127-8a26-fe8ae64dc2d4",
   "metadata": {},
   "outputs": [],
   "source": [
    "hps =cars['horsepower'].dropna()"
   ]
  },
  {
   "cell_type": "code",
   "execution_count": 6,
   "id": "0677f527-eb1f-4c34-bfcd-413b078b2b1e",
   "metadata": {},
   "outputs": [
    {
     "data": {
      "text/plain": [
       "0      130.0\n",
       "1      165.0\n",
       "2      150.0\n",
       "3      150.0\n",
       "4      140.0\n",
       "       ...  \n",
       "393     86.0\n",
       "394     52.0\n",
       "395     84.0\n",
       "396     79.0\n",
       "397     82.0\n",
       "Name: horsepower, Length: 392, dtype: float64"
      ]
     },
     "execution_count": 6,
     "metadata": {},
     "output_type": "execute_result"
    }
   ],
   "source": [
    "hps"
   ]
  },
  {
   "cell_type": "code",
   "execution_count": 7,
   "id": "1de14432-94aa-4717-b05c-41a329d4babf",
   "metadata": {},
   "outputs": [
    {
     "data": {
      "text/plain": [
       "104.46938775510205"
      ]
     },
     "execution_count": 7,
     "metadata": {},
     "output_type": "execute_result"
    }
   ],
   "source": [
    "mean(hps)"
   ]
  },
  {
   "cell_type": "code",
   "execution_count": 9,
   "id": "6178eae2-10af-4860-8245-01a66851c026",
   "metadata": {},
   "outputs": [
    {
     "data": {
      "text/plain": [
       "38.49115993282855"
      ]
     },
     "execution_count": 9,
     "metadata": {},
     "output_type": "execute_result"
    }
   ],
   "source": [
    "std(hps,ddof =1)"
   ]
  },
  {
   "cell_type": "code",
   "execution_count": 10,
   "id": "5b40dd1a-11c0-4679-a960-e3b86279ff73",
   "metadata": {},
   "outputs": [
    {
     "data": {
      "text/plain": [
       "392"
      ]
     },
     "execution_count": 10,
     "metadata": {},
     "output_type": "execute_result"
    }
   ],
   "source": [
    "len(hps)"
   ]
  },
  {
   "cell_type": "code",
   "execution_count": 11,
   "id": "493d481e-33b5-4904-88b7-11b754b3d3c1",
   "metadata": {},
   "outputs": [],
   "source": [
    "from numpy.random import choice"
   ]
  },
  {
   "cell_type": "code",
   "execution_count": 14,
   "id": "3ed09a4a-2567-4c02-b79f-14712434e4ee",
   "metadata": {},
   "outputs": [
    {
     "name": "stdout",
     "output_type": "stream",
     "text": [
      "[0.94041082 0.43709925 0.20290493 0.73507936 0.65920686 0.20138771\n",
      " 0.08172937 0.15021917 0.89229774 0.2493977 ]\n"
     ]
    }
   ],
   "source": [
    "a = random(10)\n",
    "print(a)"
   ]
  },
  {
   "cell_type": "code",
   "execution_count": 16,
   "id": "a4bbeb9e-57c3-46e7-bf11-e375b5135da6",
   "metadata": {},
   "outputs": [
    {
     "data": {
      "text/plain": [
       "array([0.2493977 , 0.08172937, 0.94041082])"
      ]
     },
     "execution_count": 16,
     "metadata": {},
     "output_type": "execute_result"
    }
   ],
   "source": [
    "choice(a,3,replace =False) # replace maintains distinctness of elements"
   ]
  },
  {
   "cell_type": "code",
   "execution_count": 21,
   "id": "7d92d5e1-274a-42dc-8bba-ffec0044a5dd",
   "metadata": {},
   "outputs": [],
   "source": [
    "n_samples = 25\n",
    "samples = choice(hps,n_samples, replace =False )"
   ]
  },
  {
   "cell_type": "code",
   "execution_count": 22,
   "id": "60b5e58f-4909-41b7-ba42-328ecd674f0c",
   "metadata": {},
   "outputs": [
    {
     "data": {
      "text/plain": [
       "array([ 70.,  88., 150.,  65., 190.,  86.,  71.,  67.,  90.,  70.,  70.,\n",
       "       100.,  98.,  96.,  70.,  75.,  97.,  87.,  96., 210., 125.,  90.,\n",
       "       140., 150., 140.])"
      ]
     },
     "execution_count": 22,
     "metadata": {},
     "output_type": "execute_result"
    }
   ],
   "source": [
    "samples"
   ]
  },
  {
   "cell_type": "code",
   "execution_count": 23,
   "id": "d70db5b4-d208-4499-a9ed-28eacfda34f9",
   "metadata": {},
   "outputs": [
    {
     "data": {
      "text/plain": [
       "25"
      ]
     },
     "execution_count": 23,
     "metadata": {},
     "output_type": "execute_result"
    }
   ],
   "source": [
    "len(samples)"
   ]
  },
  {
   "cell_type": "code",
   "execution_count": 24,
   "id": "528fd67c-09c2-4db1-aecb-c74794ac12e3",
   "metadata": {},
   "outputs": [
    {
     "data": {
      "text/plain": [
       "103.64"
      ]
     },
     "execution_count": 24,
     "metadata": {},
     "output_type": "execute_result"
    }
   ],
   "source": [
    "mean(samples)"
   ]
  },
  {
   "cell_type": "code",
   "execution_count": 29,
   "id": "55b2d0ea-0c8a-4729-bb4d-482ce3d8f964",
   "metadata": {},
   "outputs": [],
   "source": [
    "def collect_samples(data, n_samples ,n_total):\n",
    "    avgs = zeros(n_total)\n",
    "    for i in range(n_total):\n",
    "        sample =choice(data,n_samples,replace = False)\n",
    "        avgs[i] = mean(sample)\n",
    "    return avgs\n",
    "        \n",
    "    "
   ]
  },
  {
   "cell_type": "code",
   "execution_count": 49,
   "id": "2288d4c8-354f-4841-8054-17ad1463e4a6",
   "metadata": {},
   "outputs": [],
   "source": [
    "avgs =collect_samples(hps,200,1000)"
   ]
  },
  {
   "cell_type": "code",
   "execution_count": 50,
   "id": "592c6480-8cc2-4bb4-aed6-adcdc13d3440",
   "metadata": {},
   "outputs": [
    {
     "data": {
      "text/plain": [
       "(array([  2.,   0.,   1.,   3.,   9.,  27.,  45.,  58.,  74., 106., 130.,\n",
       "        137., 129.,  99.,  83.,  37.,  29.,  18.,   8.,   5.]),\n",
       " array([ 97.845,  98.433,  99.021,  99.609, 100.197, 100.785, 101.373,\n",
       "        101.961, 102.549, 103.137, 103.725, 104.313, 104.901, 105.489,\n",
       "        106.077, 106.665, 107.253, 107.841, 108.429, 109.017, 109.605]),\n",
       " <BarContainer object of 20 artists>)"
      ]
     },
     "execution_count": 50,
     "metadata": {},
     "output_type": "execute_result"
    },
    {
     "data": {
      "image/png": "[encoded data removed]",
      "text/plain": [
       "<Figure size 432x288 with 1 Axes>"
      ]
     },
     "metadata": {
      "needs_background": "light"
     },
     "output_type": "display_data"
    }
   ],
   "source": [
    "hist(avgs, bins =20)"
   ]
  },
  {
   "cell_type": "markdown",
   "id": "40d59e9a-e0ce-4a50-bb77-e51370743b7f",
   "metadata": {},
   "source": [
    "similar to gaussian :)"
   ]
  },
  {
   "cell_type": "code",
   "execution_count": 42,
   "id": "7d58b171-17ec-4321-8b07-3328dc74648f",
   "metadata": {},
   "outputs": [],
   "source": [
    "import scipy.stats as stats"
   ]
  },
  {
   "cell_type": "code",
   "execution_count": 51,
   "id": "baac5df3-20c9-4472-87a7-80ecddaf21a3",
   "metadata": {},
   "outputs": [
    {
     "data": {
      "text/plain": [
       "[<matplotlib.lines.Line2D at 0x2701cda4ca0>]"
      ]
     },
     "execution_count": 51,
     "metadata": {},
     "output_type": "execute_result"
    },
    {
     "data": {
      "image/png": "[encoded data removed]",
      "text/plain": [
       "<Figure size 432x288 with 1 Axes>"
      ]
     },
     "metadata": {
      "needs_background": "light"
     },
     "output_type": "display_data"
    }
   ],
   "source": [
    "xs =linspace(80,140,100)\n",
    "mean_xbar = mean(hps)\n",
    "std_xbar = std(hps,ddof=1)/sqrt(200)\n",
    "ys =stats.norm.pdf(xs,mean_xbar,std_xbar)\n",
    "hist(avgs, bins =20 , density =True)\n",
    "plot(xs,ys,'k-')\n"
   ]
  },
  {
   "cell_type": "markdown",
   "id": "bc5acb44-2d3e-4252-9c6f-5ed89e3cede7",
   "metadata": {},
   "source": [
    "# Lecture 16"
   ]
  },
  {
   "cell_type": "code",
   "execution_count": 1,
   "id": "9562a2b0-9e7b-4b6c-ab39-bdaf5ef19750",
   "metadata": {},
   "outputs": [],
   "source": [
    "from numpy import *\n",
    "from matplotlib.pyplot import *\n",
    "%matplotlib inline\n",
    "from numpy.random import random\n",
    "from numpy.random import randint \n",
    "import seaborn as sns #SNS IS user defined name"
   ]
  },
  {
   "cell_type": "code",
   "execution_count": 2,
   "id": "585c9171-69b8-4812-a894-dd74b39bb8ca",
   "metadata": {},
   "outputs": [],
   "source": [
    "gs =sns.load_dataset('geyser')"
   ]
  },
  {
   "cell_type": "code",
   "execution_count": 3,
   "id": "a63ad155-7311-4454-980b-736a47b43711",
   "metadata": {},
   "outputs": [
    {
     "data": {
      "text/html": [
       "<div>\n",
       "<style scoped>\n",
       "    .dataframe tbody tr th:only-of-type {\n",
       "        vertical-align: middle;\n",
       "    }\n",
       "\n",
       "    .dataframe tbody tr th {\n",
       "        vertical-align: top;\n",
       "    }\n",
       "\n",
       "    .dataframe thead th {\n",
       "        text-align: right;\n",
       "    }\n",
       "</style>\n",
       "<table border=\"1\" class=\"dataframe\">\n",
       "  <thead>\n",
       "    <tr style=\"text-align: right;\">\n",
       "      <th></th>\n",
       "      <th>duration</th>\n",
       "      <th>waiting</th>\n",
       "      <th>kind</th>\n",
       "    </tr>\n",
       "  </thead>\n",
       "  <tbody>\n",
       "    <tr>\n",
       "      <th>0</th>\n",
       "      <td>3.600</td>\n",
       "      <td>79</td>\n",
       "      <td>long</td>\n",
       "    </tr>\n",
       "    <tr>\n",
       "      <th>1</th>\n",
       "      <td>1.800</td>\n",
       "      <td>54</td>\n",
       "      <td>short</td>\n",
       "    </tr>\n",
       "    <tr>\n",
       "      <th>2</th>\n",
       "      <td>3.333</td>\n",
       "      <td>74</td>\n",
       "      <td>long</td>\n",
       "    </tr>\n",
       "    <tr>\n",
       "      <th>3</th>\n",
       "      <td>2.283</td>\n",
       "      <td>62</td>\n",
       "      <td>short</td>\n",
       "    </tr>\n",
       "    <tr>\n",
       "      <th>4</th>\n",
       "      <td>4.533</td>\n",
       "      <td>85</td>\n",
       "      <td>long</td>\n",
       "    </tr>\n",
       "  </tbody>\n",
       "</table>\n",
       "</div>"
      ],
      "text/plain": [
       "   duration  waiting   kind\n",
       "0     3.600       79   long\n",
       "1     1.800       54  short\n",
       "2     3.333       74   long\n",
       "3     2.283       62  short\n",
       "4     4.533       85   long"
      ]
     },
     "execution_count": 3,
     "metadata": {},
     "output_type": "execute_result"
    }
   ],
   "source": [
    "gs.head()"
   ]
  },
  {
   "cell_type": "code",
   "execution_count": 4,
   "id": "61aeb29d-0d26-49a8-a15c-c30862743d38",
   "metadata": {},
   "outputs": [
    {
     "data": {
      "text/plain": [
       "<seaborn.axisgrid.FacetGrid at 0x25f0ca60b80>"
      ]
     },
     "execution_count": 4,
     "metadata": {},
     "output_type": "execute_result"
    },
    {
     "data": {
      "image/png": "[encoded data removed]",
      "text/plain": [
       "<Figure size 360x360 with 1 Axes>"
      ]
     },
     "metadata": {
      "needs_background": "light"
     },
     "output_type": "display_data"
    }
   ],
   "source": [
    "sns.displot(data=gs,x ='duration')"
   ]
  },
  {
   "cell_type": "code",
   "execution_count": 5,
   "id": "b8935b4d-0959-4405-9f43-fdf68b71c0fb",
   "metadata": {},
   "outputs": [
    {
     "data": {
      "text/plain": [
       "272"
      ]
     },
     "execution_count": 5,
     "metadata": {},
     "output_type": "execute_result"
    }
   ],
   "source": [
    "len(gs)"
   ]
  },
  {
   "cell_type": "code",
   "execution_count": 6,
   "id": "af23599d-351c-4311-9859-608278bfbb08",
   "metadata": {},
   "outputs": [
    {
     "data": {
      "text/html": [
       "<div>\n",
       "<style scoped>\n",
       "    .dataframe tbody tr th:only-of-type {\n",
       "        vertical-align: middle;\n",
       "    }\n",
       "\n",
       "    .dataframe tbody tr th {\n",
       "        vertical-align: top;\n",
       "    }\n",
       "\n",
       "    .dataframe thead th {\n",
       "        text-align: right;\n",
       "    }\n",
       "</style>\n",
       "<table border=\"1\" class=\"dataframe\">\n",
       "  <thead>\n",
       "    <tr style=\"text-align: right;\">\n",
       "      <th></th>\n",
       "      <th>duration</th>\n",
       "      <th>waiting</th>\n",
       "    </tr>\n",
       "  </thead>\n",
       "  <tbody>\n",
       "    <tr>\n",
       "      <th>count</th>\n",
       "      <td>272.000000</td>\n",
       "      <td>272.000000</td>\n",
       "    </tr>\n",
       "    <tr>\n",
       "      <th>mean</th>\n",
       "      <td>3.487783</td>\n",
       "      <td>70.897059</td>\n",
       "    </tr>\n",
       "    <tr>\n",
       "      <th>std</th>\n",
       "      <td>1.141371</td>\n",
       "      <td>13.594974</td>\n",
       "    </tr>\n",
       "    <tr>\n",
       "      <th>min</th>\n",
       "      <td>1.600000</td>\n",
       "      <td>43.000000</td>\n",
       "    </tr>\n",
       "    <tr>\n",
       "      <th>25%</th>\n",
       "      <td>2.162750</td>\n",
       "      <td>58.000000</td>\n",
       "    </tr>\n",
       "    <tr>\n",
       "      <th>50%</th>\n",
       "      <td>4.000000</td>\n",
       "      <td>76.000000</td>\n",
       "    </tr>\n",
       "    <tr>\n",
       "      <th>75%</th>\n",
       "      <td>4.454250</td>\n",
       "      <td>82.000000</td>\n",
       "    </tr>\n",
       "    <tr>\n",
       "      <th>max</th>\n",
       "      <td>5.100000</td>\n",
       "      <td>96.000000</td>\n",
       "    </tr>\n",
       "  </tbody>\n",
       "</table>\n",
       "</div>"
      ],
      "text/plain": [
       "         duration     waiting\n",
       "count  272.000000  272.000000\n",
       "mean     3.487783   70.897059\n",
       "std      1.141371   13.594974\n",
       "min      1.600000   43.000000\n",
       "25%      2.162750   58.000000\n",
       "50%      4.000000   76.000000\n",
       "75%      4.454250   82.000000\n",
       "max      5.100000   96.000000"
      ]
     },
     "execution_count": 6,
     "metadata": {},
     "output_type": "execute_result"
    }
   ],
   "source": [
    "gs.describe()"
   ]
  },
  {
   "cell_type": "code",
   "execution_count": 7,
   "id": "6d23b98e-8d5b-409b-95d5-76a54734675f",
   "metadata": {},
   "outputs": [
    {
     "data": {
      "text/plain": [
       "<seaborn.axisgrid.FacetGrid at 0x25f0ca3a0d0>"
      ]
     },
     "execution_count": 7,
     "metadata": {},
     "output_type": "execute_result"
    },
    {
     "data": {
      "image/png": "[encoded data removed]",
      "text/plain": [
       "<Figure size 360x360 with 1 Axes>"
      ]
     },
     "metadata": {
      "needs_background": "light"
     },
     "output_type": "display_data"
    }
   ],
   "source": [
    "sns.displot(data=gs,x ='duration',kind='kde')"
   ]
  },
  {
   "cell_type": "code",
   "execution_count": 8,
   "id": "4ffd6086-1030-4aac-88d3-8d3dde4a11bd",
   "metadata": {},
   "outputs": [
    {
     "data": {
      "text/plain": [
       "<seaborn.axisgrid.FacetGrid at 0x25f0d348340>"
      ]
     },
     "execution_count": 8,
     "metadata": {},
     "output_type": "execute_result"
    },
    {
     "data": {
      "image/png": "[encoded data removed]",
      "text/plain": [
       "<Figure size 360x360 with 1 Axes>"
      ]
     },
     "metadata": {
      "needs_background": "light"
     },
     "output_type": "display_data"
    }
   ],
   "source": [
    "sns.displot(data=gs,x ='duration',stat = 'density')"
   ]
  },
  {
   "cell_type": "markdown",
   "id": "9a18651d-1d31-4e9b-8c5f-e085f4a2e392",
   "metadata": {},
   "source": [
    "density function rather than historgram"
   ]
  },
  {
   "cell_type": "code",
   "execution_count": 10,
   "id": "cb24a9d3-1efd-4220-9dbb-f7eebbe72e03",
   "metadata": {},
   "outputs": [],
   "source": [
    "from numpy.random import choice\n",
    "def get_sample_mean(data, n_samples ,n_total):\n",
    "    avgs = zeros(n_total)\n",
    "    for i in range(n_total):\n",
    "        sample =choice(data,n_samples,replace = False)\n",
    "        avgs[i] = mean(sample)\n",
    "    return avgs"
   ]
  },
  {
   "cell_type": "code",
   "execution_count": 12,
   "id": "fa7b735f-c24b-464f-a3c4-1ba4d84fc073",
   "metadata": {},
   "outputs": [],
   "source": [
    "durs=gs['duration'].dropna().to_numpy()"
   ]
  },
  {
   "cell_type": "code",
   "execution_count": 13,
   "id": "55ac6988-3316-4c61-9e8c-e2c1a69ba78e",
   "metadata": {},
   "outputs": [
    {
     "data": {
      "text/plain": [
       "array([3.6  , 1.8  , 3.333, 2.283, 4.533, 2.883, 4.7  , 3.6  , 1.95 ,\n",
       "       4.35 , 1.833, 3.917, 4.2  , 1.75 , 4.7  , 2.167, 1.75 , 4.8  ,\n",
       "       1.6  , 4.25 , 1.8  , 1.75 , 3.45 , 3.067, 4.533, 3.6  , 1.967,\n",
       "       4.083, 3.85 , 4.433, 4.3  , 4.467, 3.367, 4.033, 3.833, 2.017,\n",
       "       1.867, 4.833, 1.833, 4.783, 4.35 , 1.883, 4.567, 1.75 , 4.533,\n",
       "       3.317, 3.833, 2.1  , 4.633, 2.   , 4.8  , 4.716, 1.833, 4.833,\n",
       "       1.733, 4.883, 3.717, 1.667, 4.567, 4.317, 2.233, 4.5  , 1.75 ,\n",
       "       4.8  , 1.817, 4.4  , 4.167, 4.7  , 2.067, 4.7  , 4.033, 1.967,\n",
       "       4.5  , 4.   , 1.983, 5.067, 2.017, 4.567, 3.883, 3.6  , 4.133,\n",
       "       4.333, 4.1  , 2.633, 4.067, 4.933, 3.95 , 4.517, 2.167, 4.   ,\n",
       "       2.2  , 4.333, 1.867, 4.817, 1.833, 4.3  , 4.667, 3.75 , 1.867,\n",
       "       4.9  , 2.483, 4.367, 2.1  , 4.5  , 4.05 , 1.867, 4.7  , 1.783,\n",
       "       4.85 , 3.683, 4.733, 2.3  , 4.9  , 4.417, 1.7  , 4.633, 2.317,\n",
       "       4.6  , 1.817, 4.417, 2.617, 4.067, 4.25 , 1.967, 4.6  , 3.767,\n",
       "       1.917, 4.5  , 2.267, 4.65 , 1.867, 4.167, 2.8  , 4.333, 1.833,\n",
       "       4.383, 1.883, 4.933, 2.033, 3.733, 4.233, 2.233, 4.533, 4.817,\n",
       "       4.333, 1.983, 4.633, 2.017, 5.1  , 1.8  , 5.033, 4.   , 2.4  ,\n",
       "       4.6  , 3.567, 4.   , 4.5  , 4.083, 1.8  , 3.967, 2.2  , 4.15 ,\n",
       "       2.   , 3.833, 3.5  , 4.583, 2.367, 5.   , 1.933, 4.617, 1.917,\n",
       "       2.083, 4.583, 3.333, 4.167, 4.333, 4.5  , 2.417, 4.   , 4.167,\n",
       "       1.883, 4.583, 4.25 , 3.767, 2.033, 4.433, 4.083, 1.833, 4.417,\n",
       "       2.183, 4.8  , 1.833, 4.8  , 4.1  , 3.966, 4.233, 3.5  , 4.366,\n",
       "       2.25 , 4.667, 2.1  , 4.35 , 4.133, 1.867, 4.6  , 1.783, 4.367,\n",
       "       3.85 , 1.933, 4.5  , 2.383, 4.7  , 1.867, 3.833, 3.417, 4.233,\n",
       "       2.4  , 4.8  , 2.   , 4.15 , 1.867, 4.267, 1.75 , 4.483, 4.   ,\n",
       "       4.117, 4.083, 4.267, 3.917, 4.55 , 4.083, 2.417, 4.183, 2.217,\n",
       "       4.45 , 1.883, 1.85 , 4.283, 3.95 , 2.333, 4.15 , 2.35 , 4.933,\n",
       "       2.9  , 4.583, 3.833, 2.083, 4.367, 2.133, 4.35 , 2.2  , 4.45 ,\n",
       "       3.567, 4.5  , 4.15 , 3.817, 3.917, 4.45 , 2.   , 4.283, 4.767,\n",
       "       4.533, 1.85 , 4.25 , 1.983, 2.25 , 4.75 , 4.117, 2.15 , 4.417,\n",
       "       1.817, 4.467])"
      ]
     },
     "execution_count": 13,
     "metadata": {},
     "output_type": "execute_result"
    }
   ],
   "source": [
    "durs"
   ]
  },
  {
   "cell_type": "code",
   "execution_count": 14,
   "id": "8a589838-5683-4d47-80c1-ab930048233a",
   "metadata": {},
   "outputs": [],
   "source": [
    "n_samples=20\n",
    "pop_mean=mean(durs)\n",
    "pop_std=std(durs,ddof=1)"
   ]
  },
  {
   "cell_type": "code",
   "execution_count": 15,
   "id": "444d4882-617f-4d2e-be95-a802909a2312",
   "metadata": {},
   "outputs": [
    {
     "data": {
      "text/plain": [
       "3.4877830882352936"
      ]
     },
     "execution_count": 15,
     "metadata": {},
     "output_type": "execute_result"
    }
   ],
   "source": [
    "pop_mean"
   ]
  },
  {
   "cell_type": "code",
   "execution_count": 16,
   "id": "e52de139-ff37-4a6b-a0ba-723354193900",
   "metadata": {},
   "outputs": [
    {
     "data": {
      "text/plain": [
       "1.1413712511052083"
      ]
     },
     "execution_count": 16,
     "metadata": {},
     "output_type": "execute_result"
    }
   ],
   "source": [
    "pop_std"
   ]
  },
  {
   "cell_type": "code",
   "execution_count": 50,
   "id": "3c50b457-01d5-408e-bf7f-ede516c53a37",
   "metadata": {},
   "outputs": [],
   "source": [
    "n_samples =100\n",
    "n_exp=1000\n",
    "sample_means = get_sample_mean(durs,n_samples,n_exp)\n"
   ]
  },
  {
   "cell_type": "code",
   "execution_count": 51,
   "id": "b3e5448e-fa7c-4732-98cd-69260b73b548",
   "metadata": {},
   "outputs": [
    {
     "data": {
      "text/plain": [
       "(array([0.    , 0.    , 0.    , 0.    , 0.    , 0.    , 0.    , 0.    ,\n",
       "        0.    , 0.1155, 2.9315, 2.3485, 0.1045, 0.    , 0.    , 0.    ,\n",
       "        0.    , 0.    , 0.    , 0.    , 0.    , 0.    ]),\n",
       " array([1.5       , 1.68181818, 1.86363636, 2.04545455, 2.22727273,\n",
       "        2.40909091, 2.59090909, 2.77272727, 2.95454545, 3.13636364,\n",
       "        3.31818182, 3.5       , 3.68181818, 3.86363636, 4.04545455,\n",
       "        4.22727273, 4.40909091, 4.59090909, 4.77272727, 4.95454545,\n",
       "        5.13636364, 5.31818182, 5.5       ]),\n",
       " <BarContainer object of 22 artists>)"
      ]
     },
     "execution_count": 51,
     "metadata": {},
     "output_type": "execute_result"
    },
    {
     "data": {
      "image/png": "[encoded data removed]",
      "text/plain": [
       "<Figure size 432x288 with 1 Axes>"
      ]
     },
     "metadata": {
      "needs_background": "light"
     },
     "output_type": "display_data"
    }
   ],
   "source": [
    "hist(sample_means,bins=22,range =[1.5,5.5],density=True)\n",
    "#hist(sample_means,bins=20,range =[1.5,5.5])"
   ]
  },
  {
   "cell_type": "code",
   "execution_count": 52,
   "id": "ab0a4031-0283-42e5-afed-d1939efde6b6",
   "metadata": {},
   "outputs": [],
   "source": [
    "from scipy.stats import norm\n",
    "def plot_normal_pdf(mu,sigma,x_min,x_max,nx):\n",
    "    xs=linspace(x_min,x_max,nx)\n",
    "    ys=norm.pdf(xs,mu,sigma)\n",
    "    plot(xs,ys,'k-',linewidth=3)"
   ]
  },
  {
   "cell_type": "code",
   "execution_count": 62,
   "id": "221f9266-7540-4b17-9573-d3e4570eabe9",
   "metadata": {},
   "outputs": [
    {
     "data": {
      "text/plain": [
       "(array([0.   , 0.   , 0.   , 0.   , 0.   , 0.   , 0.   , 0.   , 0.   ,\n",
       "        0.   , 0.   , 0.   , 0.   , 0.   , 0.   , 0.   , 0.   , 0.   ,\n",
       "        0.   , 0.   , 0.   , 0.   , 0.   , 0.   , 0.   , 0.   , 0.   ,\n",
       "        0.   , 0.   , 0.   , 0.   , 0.   , 0.   , 0.   , 0.   , 0.   ,\n",
       "        0.   , 0.   , 0.   , 0.   , 0.   , 0.   , 0.025, 0.125, 0.15 ,\n",
       "        0.575, 1.525, 2.8  , 3.85 , 4.8  , 4.2  , 2.65 , 2.1  , 1.225,\n",
       "        0.7  , 0.275, 0.   , 0.   , 0.   , 0.   , 0.   , 0.   , 0.   ,\n",
       "        0.   , 0.   , 0.   , 0.   , 0.   , 0.   , 0.   , 0.   , 0.   ,\n",
       "        0.   , 0.   , 0.   , 0.   , 0.   , 0.   , 0.   , 0.   , 0.   ,\n",
       "        0.   , 0.   , 0.   , 0.   , 0.   , 0.   , 0.   , 0.   , 0.   ,\n",
       "        0.   , 0.   , 0.   , 0.   , 0.   , 0.   , 0.   , 0.   , 0.   ,\n",
       "        0.   ]),\n",
       " array([1.5 , 1.54, 1.58, 1.62, 1.66, 1.7 , 1.74, 1.78, 1.82, 1.86, 1.9 ,\n",
       "        1.94, 1.98, 2.02, 2.06, 2.1 , 2.14, 2.18, 2.22, 2.26, 2.3 , 2.34,\n",
       "        2.38, 2.42, 2.46, 2.5 , 2.54, 2.58, 2.62, 2.66, 2.7 , 2.74, 2.78,\n",
       "        2.82, 2.86, 2.9 , 2.94, 2.98, 3.02, 3.06, 3.1 , 3.14, 3.18, 3.22,\n",
       "        3.26, 3.3 , 3.34, 3.38, 3.42, 3.46, 3.5 , 3.54, 3.58, 3.62, 3.66,\n",
       "        3.7 , 3.74, 3.78, 3.82, 3.86, 3.9 , 3.94, 3.98, 4.02, 4.06, 4.1 ,\n",
       "        4.14, 4.18, 4.22, 4.26, 4.3 , 4.34, 4.38, 4.42, 4.46, 4.5 , 4.54,\n",
       "        4.58, 4.62, 4.66, 4.7 , 4.74, 4.78, 4.82, 4.86, 4.9 , 4.94, 4.98,\n",
       "        5.02, 5.06, 5.1 , 5.14, 5.18, 5.22, 5.26, 5.3 , 5.34, 5.38, 5.42,\n",
       "        5.46, 5.5 ]),\n",
       " <BarContainer object of 100 artists>)"
      ]
     },
     "execution_count": 62,
     "metadata": {},
     "output_type": "execute_result"
    },
    {
     "data": {
      "image/png": "[encoded data removed]",
      "text/plain": [
       "<Figure size 432x288 with 1 Axes>"
      ]
     },
     "metadata": {
      "needs_background": "light"
     },
     "output_type": "display_data"
    }
   ],
   "source": [
    "\n",
    "plot_normal_pdf(pop_mean,pop_std/sqrt(n_samples),1.5,5.5,n_exp)\n",
    "hist(sample_means,bins=100,range =[1.5,5.5],density=True)\n",
    "#sns.displot(data=durs,x ='duration')"
   ]
  },
  {
   "cell_type": "markdown",
   "id": "544d6087-e09c-468f-8230-9af32a806cfb",
   "metadata": {},
   "source": [
    "# Lecture 17 "
   ]
  },
  {
   "cell_type": "code",
   "execution_count": 1,
   "id": "9e558285-7908-489b-af3e-f02fda3eb8bd",
   "metadata": {},
   "outputs": [],
   "source": [
    "from numpy import *\n",
    "from matplotlib.pyplot import *\n",
    "%matplotlib inline\n",
    "import seaborn as sns #SNS IS user defined name"
   ]
  },
  {
   "cell_type": "code",
   "execution_count": 2,
   "id": "a96e0fc9-d8fb-41f7-a85c-7839d299dae3",
   "metadata": {},
   "outputs": [
    {
     "data": {
      "text/html": [
       "<div>\n",
       "<style scoped>\n",
       "    .dataframe tbody tr th:only-of-type {\n",
       "        vertical-align: middle;\n",
       "    }\n",
       "\n",
       "    .dataframe tbody tr th {\n",
       "        vertical-align: top;\n",
       "    }\n",
       "\n",
       "    .dataframe thead th {\n",
       "        text-align: right;\n",
       "    }\n",
       "</style>\n",
       "<table border=\"1\" class=\"dataframe\">\n",
       "  <thead>\n",
       "    <tr style=\"text-align: right;\">\n",
       "      <th></th>\n",
       "      <th>duration</th>\n",
       "      <th>waiting</th>\n",
       "      <th>kind</th>\n",
       "    </tr>\n",
       "  </thead>\n",
       "  <tbody>\n",
       "    <tr>\n",
       "      <th>0</th>\n",
       "      <td>3.600</td>\n",
       "      <td>79</td>\n",
       "      <td>long</td>\n",
       "    </tr>\n",
       "    <tr>\n",
       "      <th>1</th>\n",
       "      <td>1.800</td>\n",
       "      <td>54</td>\n",
       "      <td>short</td>\n",
       "    </tr>\n",
       "    <tr>\n",
       "      <th>2</th>\n",
       "      <td>3.333</td>\n",
       "      <td>74</td>\n",
       "      <td>long</td>\n",
       "    </tr>\n",
       "    <tr>\n",
       "      <th>3</th>\n",
       "      <td>2.283</td>\n",
       "      <td>62</td>\n",
       "      <td>short</td>\n",
       "    </tr>\n",
       "    <tr>\n",
       "      <th>4</th>\n",
       "      <td>4.533</td>\n",
       "      <td>85</td>\n",
       "      <td>long</td>\n",
       "    </tr>\n",
       "  </tbody>\n",
       "</table>\n",
       "</div>"
      ],
      "text/plain": [
       "   duration  waiting   kind\n",
       "0     3.600       79   long\n",
       "1     1.800       54  short\n",
       "2     3.333       74   long\n",
       "3     2.283       62  short\n",
       "4     4.533       85   long"
      ]
     },
     "execution_count": 2,
     "metadata": {},
     "output_type": "execute_result"
    }
   ],
   "source": [
    "gs = sns.load_dataset('geyser')\n",
    "gs.head()"
   ]
  },
  {
   "cell_type": "code",
   "execution_count": 3,
   "id": "73e9439c-8b07-46a4-b728-dc67c88955de",
   "metadata": {},
   "outputs": [
    {
     "data": {
      "text/plain": [
       "array([3.6  , 1.8  , 3.333, 2.283, 4.533, 2.883, 4.7  , 3.6  , 1.95 ,\n",
       "       4.35 , 1.833, 3.917, 4.2  , 1.75 , 4.7  , 2.167, 1.75 , 4.8  ,\n",
       "       1.6  , 4.25 , 1.8  , 1.75 , 3.45 , 3.067, 4.533, 3.6  , 1.967,\n",
       "       4.083, 3.85 , 4.433, 4.3  , 4.467, 3.367, 4.033, 3.833, 2.017,\n",
       "       1.867, 4.833, 1.833, 4.783, 4.35 , 1.883, 4.567, 1.75 , 4.533,\n",
       "       3.317, 3.833, 2.1  , 4.633, 2.   , 4.8  , 4.716, 1.833, 4.833,\n",
       "       1.733, 4.883, 3.717, 1.667, 4.567, 4.317, 2.233, 4.5  , 1.75 ,\n",
       "       4.8  , 1.817, 4.4  , 4.167, 4.7  , 2.067, 4.7  , 4.033, 1.967,\n",
       "       4.5  , 4.   , 1.983, 5.067, 2.017, 4.567, 3.883, 3.6  , 4.133,\n",
       "       4.333, 4.1  , 2.633, 4.067, 4.933, 3.95 , 4.517, 2.167, 4.   ,\n",
       "       2.2  , 4.333, 1.867, 4.817, 1.833, 4.3  , 4.667, 3.75 , 1.867,\n",
       "       4.9  , 2.483, 4.367, 2.1  , 4.5  , 4.05 , 1.867, 4.7  , 1.783,\n",
       "       4.85 , 3.683, 4.733, 2.3  , 4.9  , 4.417, 1.7  , 4.633, 2.317,\n",
       "       4.6  , 1.817, 4.417, 2.617, 4.067, 4.25 , 1.967, 4.6  , 3.767,\n",
       "       1.917, 4.5  , 2.267, 4.65 , 1.867, 4.167, 2.8  , 4.333, 1.833,\n",
       "       4.383, 1.883, 4.933, 2.033, 3.733, 4.233, 2.233, 4.533, 4.817,\n",
       "       4.333, 1.983, 4.633, 2.017, 5.1  , 1.8  , 5.033, 4.   , 2.4  ,\n",
       "       4.6  , 3.567, 4.   , 4.5  , 4.083, 1.8  , 3.967, 2.2  , 4.15 ,\n",
       "       2.   , 3.833, 3.5  , 4.583, 2.367, 5.   , 1.933, 4.617, 1.917,\n",
       "       2.083, 4.583, 3.333, 4.167, 4.333, 4.5  , 2.417, 4.   , 4.167,\n",
       "       1.883, 4.583, 4.25 , 3.767, 2.033, 4.433, 4.083, 1.833, 4.417,\n",
       "       2.183, 4.8  , 1.833, 4.8  , 4.1  , 3.966, 4.233, 3.5  , 4.366,\n",
       "       2.25 , 4.667, 2.1  , 4.35 , 4.133, 1.867, 4.6  , 1.783, 4.367,\n",
       "       3.85 , 1.933, 4.5  , 2.383, 4.7  , 1.867, 3.833, 3.417, 4.233,\n",
       "       2.4  , 4.8  , 2.   , 4.15 , 1.867, 4.267, 1.75 , 4.483, 4.   ,\n",
       "       4.117, 4.083, 4.267, 3.917, 4.55 , 4.083, 2.417, 4.183, 2.217,\n",
       "       4.45 , 1.883, 1.85 , 4.283, 3.95 , 2.333, 4.15 , 2.35 , 4.933,\n",
       "       2.9  , 4.583, 3.833, 2.083, 4.367, 2.133, 4.35 , 2.2  , 4.45 ,\n",
       "       3.567, 4.5  , 4.15 , 3.817, 3.917, 4.45 , 2.   , 4.283, 4.767,\n",
       "       4.533, 1.85 , 4.25 , 1.983, 2.25 , 4.75 , 4.117, 2.15 , 4.417,\n",
       "       1.817, 4.467])"
      ]
     },
     "execution_count": 3,
     "metadata": {},
     "output_type": "execute_result"
    }
   ],
   "source": [
    "durs=gs['duration'].dropna().to_numpy()\n",
    "durs"
   ]
  },
  {
   "cell_type": "code",
   "execution_count": 4,
   "id": "b9a7d487-c056-4ce9-9ead-8626e3a993c5",
   "metadata": {},
   "outputs": [
    {
     "data": {
      "text/plain": [
       "3.4877830882352936"
      ]
     },
     "execution_count": 4,
     "metadata": {},
     "output_type": "execute_result"
    }
   ],
   "source": [
    "mean(durs)"
   ]
  },
  {
   "cell_type": "code",
   "execution_count": 5,
   "id": "f0d157a7-3005-4b67-a64d-ab0db831489b",
   "metadata": {},
   "outputs": [
    {
     "data": {
      "text/plain": [
       "(array([0.21008403, 0.73529412, 0.44117647, 0.31512605, 0.21008403,\n",
       "        0.06302521, 0.0210084 , 0.04201681, 0.0210084 , 0.06302521,\n",
       "        0.10504202, 0.14705882, 0.27310924, 0.33613445, 0.50420168,\n",
       "        0.58823529, 0.6512605 , 0.48319328, 0.35714286, 0.14705882]),\n",
       " array([1.6  , 1.775, 1.95 , 2.125, 2.3  , 2.475, 2.65 , 2.825, 3.   ,\n",
       "        3.175, 3.35 , 3.525, 3.7  , 3.875, 4.05 , 4.225, 4.4  , 4.575,\n",
       "        4.75 , 4.925, 5.1  ]),\n",
       " <BarContainer object of 20 artists>)"
      ]
     },
     "execution_count": 5,
     "metadata": {},
     "output_type": "execute_result"
    },
    {
     "data": {
      "image/png": "[encoded data removed]",
      "text/plain": [
       "<Figure size 432x288 with 1 Axes>"
      ]
     },
     "metadata": {
      "needs_background": "light"
     },
     "output_type": "display_data"
    }
   ],
   "source": [
    "hist(durs,bins=20,density =True)"
   ]
  },
  {
   "cell_type": "code",
   "execution_count": 6,
   "id": "c1642d40-a0b6-4e0f-9b07-3cd2934f9af2",
   "metadata": {},
   "outputs": [],
   "source": [
    "def compute_sample_mean(dataset,n_samples):\n",
    "    sample=random.choice(dataset,n_samples,replace=False)\n",
    "    return mean(sample)"
   ]
  },
  {
   "cell_type": "code",
   "execution_count": 8,
   "id": "dc13f184-846f-4b00-b849-406741d3b520",
   "metadata": {},
   "outputs": [
    {
     "data": {
      "text/plain": [
       "3.55792"
      ]
     },
     "execution_count": 8,
     "metadata": {},
     "output_type": "execute_result"
    }
   ],
   "source": [
    "compute_sample_mean(durs,25)"
   ]
  },
  {
   "cell_type": "code",
   "execution_count": 9,
   "id": "19de3619-2a93-44fc-a65a-4dfe1f422f5e",
   "metadata": {},
   "outputs": [
    {
     "data": {
      "text/plain": [
       "(array([0.  , 0.  , 0.  , 0.  , 0.  , 0.  , 0.  , 0.  , 0.  , 0.  , 0.  ,\n",
       "        0.  , 0.  , 0.05, 0.  , 0.3 , 1.5 , 1.75, 1.05, 0.35, 0.  , 0.  ,\n",
       "        0.  , 0.  , 0.  ]),\n",
       " array([0. , 0.2, 0.4, 0.6, 0.8, 1. , 1.2, 1.4, 1.6, 1.8, 2. , 2.2, 2.4,\n",
       "        2.6, 2.8, 3. , 3.2, 3.4, 3.6, 3.8, 4. , 4.2, 4.4, 4.6, 4.8, 5. ]),\n",
       " <BarContainer object of 25 artists>)"
      ]
     },
     "execution_count": 9,
     "metadata": {},
     "output_type": "execute_result"
    },
    {
     "data": {
      "image/png": "[encoded data removed]",
      "text/plain": [
       "<Figure size 432x288 with 1 Axes>"
      ]
     },
     "metadata": {
      "needs_background": "light"
     },
     "output_type": "display_data"
    }
   ],
   "source": [
    "sample_means=[ compute_sample_mean(durs,25) for i in range(100)]\n",
    "hist(sample_means,range=[0,5],bins=25,density=True)"
   ]
  },
  {
   "cell_type": "code",
   "execution_count": 10,
   "id": "44be2f97-dc4e-4449-9202-cd33a9c2c81f",
   "metadata": {},
   "outputs": [
    {
     "data": {
      "text/plain": [
       "1.139271210225768"
      ]
     },
     "execution_count": 10,
     "metadata": {},
     "output_type": "execute_result"
    }
   ],
   "source": [
    "std(durs)"
   ]
  },
  {
   "cell_type": "code",
   "execution_count": 13,
   "id": "54d93ddd-cc7c-41af-9d3c-603695a25d23",
   "metadata": {},
   "outputs": [],
   "source": [
    "def sample_std(dataset,n_samples):\n",
    "    sample=random.choice(dataset,n_samples,replace=False)\n",
    "    return std(sample,ddof=1)"
   ]
  },
  {
   "cell_type": "code",
   "execution_count": 14,
   "id": "7a8a0c19-841e-4948-8578-94a6bb71356b",
   "metadata": {},
   "outputs": [
    {
     "data": {
      "text/plain": [
       "1.2560523383468807"
      ]
     },
     "execution_count": 14,
     "metadata": {},
     "output_type": "execute_result"
    }
   ],
   "source": [
    "sample_std(durs,25)"
   ]
  },
  {
   "cell_type": "code",
   "execution_count": 16,
   "id": "c2c31b8d-c75d-4620-8aed-a9eddd53d78d",
   "metadata": {},
   "outputs": [],
   "source": [
    "def sample_var(dataset,n_samples):\n",
    "    sample=random.choice(dataset,n_samples,replace=False)\n",
    "    return var(sample,ddof=1)"
   ]
  },
  {
   "cell_type": "code",
   "execution_count": 17,
   "id": "8e7d8604-b89c-4c28-b337-f267276c3662",
   "metadata": {},
   "outputs": [
    {
     "data": {
      "text/plain": [
       "1.4547153733333336"
      ]
     },
     "execution_count": 17,
     "metadata": {},
     "output_type": "execute_result"
    }
   ],
   "source": [
    "sample_var(durs,25)"
   ]
  },
  {
   "cell_type": "code",
   "execution_count": 18,
   "id": "c2a3bee2-a448-4562-b496-698f0f336444",
   "metadata": {},
   "outputs": [
    {
     "data": {
      "text/plain": [
       "\u001b[1;31mSignature:\u001b[0m\n",
       "\u001b[0mvar\u001b[0m\u001b[1;33m(\u001b[0m\u001b[1;33m\n",
       "\u001b[0m    \u001b[0ma\u001b[0m\u001b[1;33m,\u001b[0m\u001b[1;33m\n",
       "\u001b[0m    \u001b[0maxis\u001b[0m\u001b[1;33m=\u001b[0m\u001b[1;32mNone\u001b[0m\u001b[1;33m,\u001b[0m\u001b[1;33m\n",
       "\u001b[0m    \u001b[0mdtype\u001b[0m\u001b[1;33m=\u001b[0m\u001b[1;32mNone\u001b[0m\u001b[1;33m,\u001b[0m\u001b[1;33m\n",
       "\u001b[0m    \u001b[0mout\u001b[0m\u001b[1;33m=\u001b[0m\u001b[1;32mNone\u001b[0m\u001b[1;33m,\u001b[0m\u001b[1;33m\n",
       "\u001b[0m    \u001b[0mddof\u001b[0m\u001b[1;33m=\u001b[0m\u001b[1;36m0\u001b[0m\u001b[1;33m,\u001b[0m\u001b[1;33m\n",
       "\u001b[0m    \u001b[0mkeepdims\u001b[0m\u001b[1;33m=\u001b[0m\u001b[1;33m<\u001b[0m\u001b[0mno\u001b[0m \u001b[0mvalue\u001b[0m\u001b[1;33m>\u001b[0m\u001b[1;33m,\u001b[0m\u001b[1;33m\n",
       "\u001b[0m    \u001b[1;33m*\u001b[0m\u001b[1;33m,\u001b[0m\u001b[1;33m\n",
       "\u001b[0m    \u001b[0mwhere\u001b[0m\u001b[1;33m=\u001b[0m\u001b[1;33m<\u001b[0m\u001b[0mno\u001b[0m \u001b[0mvalue\u001b[0m\u001b[1;33m>\u001b[0m\u001b[1;33m,\u001b[0m\u001b[1;33m\n",
       "\u001b[0m\u001b[1;33m)\u001b[0m\u001b[1;33m\u001b[0m\u001b[1;33m\u001b[0m\u001b[0m\n",
       "\u001b[1;31mDocstring:\u001b[0m\n",
       "Compute the variance along the specified axis.\n",
       "\n",
       "Returns the variance of the array elements, a measure of the spread of a\n",
       "distribution.  The variance is computed for the flattened array by\n",
       "default, otherwise over the specified axis.\n",
       "\n",
       "Parameters\n",
       "----------\n",
       "a : array_like\n",
       "    Array containing numbers whose variance is desired.  If `a` is not an\n",
       "    array, a conversion is attempted.\n",
       "axis : None or int or tuple of ints, optional\n",
       "    Axis or axes along which the variance is computed.  The default is to\n",
       "    compute the variance of the flattened array.\n",
       "\n",
       "    .. versionadded:: 1.7.0\n",
       "\n",
       "    If this is a tuple of ints, a variance is performed over multiple axes,\n",
       "    instead of a single axis or all the axes as before.\n",
       "dtype : data-type, optional\n",
       "    Type to use in computing the variance.  For arrays of integer type\n",
       "    the default is `float64`; for arrays of float types it is the same as\n",
       "    the array type.\n",
       "out : ndarray, optional\n",
       "    Alternate output array in which to place the result.  It must have\n",
       "    the same shape as the expected output, but the type is cast if\n",
       "    necessary.\n",
       "ddof : int, optional\n",
       "    \"Delta Degrees of Freedom\": the divisor used in the calculation is\n",
       "    ``N - ddof``, where ``N`` represents the number of elements. By\n",
       "    default `ddof` is zero.\n",
       "keepdims : bool, optional\n",
       "    If this is set to True, the axes which are reduced are left\n",
       "    in the result as dimensions with size one. With this option,\n",
       "    the result will broadcast correctly against the input array.\n",
       "\n",
       "    If the default value is passed, then `keepdims` will not be\n",
       "    passed through to the `var` method of sub-classes of\n",
       "    `ndarray`, however any non-default value will be.  If the\n",
       "    sub-class' method does not implement `keepdims` any\n",
       "    exceptions will be raised.\n",
       "\n",
       "where : array_like of bool, optional\n",
       "    Elements to include in the variance. See `~numpy.ufunc.reduce` for\n",
       "    details.\n",
       "\n",
       "    .. versionadded:: 1.20.0\n",
       "\n",
       "Returns\n",
       "-------\n",
       "variance : ndarray, see dtype parameter above\n",
       "    If ``out=None``, returns a new array containing the variance;\n",
       "    otherwise, a reference to the output array is returned.\n",
       "\n",
       "See Also\n",
       "--------\n",
       "std, mean, nanmean, nanstd, nanvar\n",
       ":ref:`ufuncs-output-type`\n",
       "\n",
       "Notes\n",
       "-----\n",
       "The variance is the average of the squared deviations from the mean,\n",
       "i.e.,  ``var = mean(x)``, where ``x = abs(a - a.mean())**2``.\n",
       "\n",
       "The mean is typically calculated as ``x.sum() / N``, where ``N = len(x)``.\n",
       "If, however, `ddof` is specified, the divisor ``N - ddof`` is used\n",
       "instead.  In standard statistical practice, ``ddof=1`` provides an\n",
       "unbiased estimator of the variance of a hypothetical infinite population.\n",
       "``ddof=0`` provides a maximum likelihood estimate of the variance for\n",
       "normally distributed variables.\n",
       "\n",
       "Note that for complex numbers, the absolute value is taken before\n",
       "squaring, so that the result is always real and nonnegative.\n",
       "\n",
       "For floating-point input, the variance is computed using the same\n",
       "precision the input has.  Depending on the input data, this can cause\n",
       "the results to be inaccurate, especially for `float32` (see example\n",
       "below).  Specifying a higher-accuracy accumulator using the ``dtype``\n",
       "keyword can alleviate this issue.\n",
       "\n",
       "Examples\n",
       "--------\n",
       ">>> a = np.array([[1, 2], [3, 4]])\n",
       ">>> np.var(a)\n",
       "1.25\n",
       ">>> np.var(a, axis=0)\n",
       "array([1.,  1.])\n",
       ">>> np.var(a, axis=1)\n",
       "array([0.25,  0.25])\n",
       "\n",
       "In single precision, var() can be inaccurate:\n",
       "\n",
       ">>> a = np.zeros((2, 512*512), dtype=np.float32)\n",
       ">>> a[0, :] = 1.0\n",
       ">>> a[1, :] = 0.1\n",
       ">>> np.var(a)\n",
       "0.20250003\n",
       "\n",
       "Computing the variance in float64 is more accurate:\n",
       "\n",
       ">>> np.var(a, dtype=np.float64)\n",
       "0.20249999932944759 # may vary\n",
       ">>> ((1-0.55)**2 + (0.1-0.55)**2)/2\n",
       "0.2025\n",
       "\n",
       "Specifying a where argument:\n",
       "\n",
       ">>> a = np.array([[14, 8, 11, 10], [7, 9, 10, 11], [10, 15, 5, 10]])\n",
       ">>> np.var(a)\n",
       "6.833333333333333 # may vary\n",
       ">>> np.var(a, where=[[True], [True], [False]])\n",
       "4.0\n",
       "\u001b[1;31mFile:\u001b[0m      c:\\users\\91977\\python\\lib\\site-packages\\numpy\\core\\fromnumeric.py\n",
       "\u001b[1;31mType:\u001b[0m      function\n"
      ]
     },
     "metadata": {},
     "output_type": "display_data"
    }
   ],
   "source": [
    "var?"
   ]
  },
  {
   "cell_type": "code",
   "execution_count": 22,
   "id": "87003620-7fba-4f1c-ba71-0e9a6f243cdd",
   "metadata": {},
   "outputs": [
    {
     "data": {
      "text/plain": [
       "(array([0.   , 0.   , 0.   , 0.   , 0.   , 0.   , 0.012, 0.012, 0.048,\n",
       "        0.096, 0.276, 0.396, 0.648, 1.224, 1.668, 2.388, 1.944, 1.776,\n",
       "        0.864, 0.504, 0.096, 0.036, 0.   , 0.012, 0.   , 0.   , 0.   ,\n",
       "        0.   , 0.   , 0.   , 0.   , 0.   , 0.   , 0.   , 0.   , 0.   ,\n",
       "        0.   , 0.   , 0.   , 0.   , 0.   , 0.   , 0.   , 0.   , 0.   ,\n",
       "        0.   , 0.   , 0.   , 0.   , 0.   , 0.   , 0.   , 0.   , 0.   ,\n",
       "        0.   , 0.   , 0.   , 0.   , 0.   , 0.   ]),\n",
       " array([0.        , 0.08333333, 0.16666667, 0.25      , 0.33333333,\n",
       "        0.41666667, 0.5       , 0.58333333, 0.66666667, 0.75      ,\n",
       "        0.83333333, 0.91666667, 1.        , 1.08333333, 1.16666667,\n",
       "        1.25      , 1.33333333, 1.41666667, 1.5       , 1.58333333,\n",
       "        1.66666667, 1.75      , 1.83333333, 1.91666667, 2.        ,\n",
       "        2.08333333, 2.16666667, 2.25      , 2.33333333, 2.41666667,\n",
       "        2.5       , 2.58333333, 2.66666667, 2.75      , 2.83333333,\n",
       "        2.91666667, 3.        , 3.08333333, 3.16666667, 3.25      ,\n",
       "        3.33333333, 3.41666667, 3.5       , 3.58333333, 3.66666667,\n",
       "        3.75      , 3.83333333, 3.91666667, 4.        , 4.08333333,\n",
       "        4.16666667, 4.25      , 4.33333333, 4.41666667, 4.5       ,\n",
       "        4.58333333, 4.66666667, 4.75      , 4.83333333, 4.91666667,\n",
       "        5.        ]),\n",
       " <BarContainer object of 60 artists>)"
      ]
     },
     "execution_count": 22,
     "metadata": {},
     "output_type": "execute_result"
    },
    {
     "data": {
      "image/png": "[encoded data removed]",
      "text/plain": [
       "<Figure size 432x288 with 1 Axes>"
      ]
     },
     "metadata": {
      "needs_background": "light"
     },
     "output_type": "display_data"
    }
   ],
   "source": [
    "sample_variance=[ sample_var(durs,25) for i in range(1000)]\n",
    "hist(sample_variance,range=[0,5],bins=60,density=True)"
   ]
  },
  {
   "cell_type": "markdown",
   "id": "49fb3f68-c89e-4032-8635-e6a7624d9966",
   "metadata": {},
   "source": [
    "not a gaussian "
   ]
  },
  {
   "cell_type": "code",
   "execution_count": 27,
   "id": "7c7db279-e93e-445a-8dac-75c9c608812e",
   "metadata": {},
   "outputs": [
    {
     "data": {
      "text/plain": [
       "[<matplotlib.lines.Line2D at 0x15f51c69790>]"
      ]
     },
     "execution_count": 27,
     "metadata": {},
     "output_type": "execute_result"
    },
    {
     "data": {
      "image/png": "[encoded data removed]",
      "text/plain": [
       "<Figure size 432x288 with 1 Axes>"
      ]
     },
     "metadata": {
      "needs_background": "light"
     },
     "output_type": "display_data"
    }
   ],
   "source": [
    "import scipy.stats as stats\n",
    "from scipy.stats import norm\n",
    "xs=linspace(0,20,100)\n",
    "ys=norm.pdf(xs)\n",
    "plot(xs,ys)\n"
   ]
  },
  {
   "cell_type": "code",
   "execution_count": 28,
   "id": "890f60d7-658a-403b-9353-849c97800445",
   "metadata": {},
   "outputs": [
    {
     "data": {
      "text/plain": [
       "[<matplotlib.lines.Line2D at 0x15f52b19e50>]"
      ]
     },
     "execution_count": 28,
     "metadata": {},
     "output_type": "execute_result"
    },
    {
     "data": {
      "image/png": "[encoded data removed]",
      "text/plain": [
       "<Figure size 432x288 with 1 Axes>"
      ]
     },
     "metadata": {
      "needs_background": "light"
     },
     "output_type": "display_data"
    }
   ],
   "source": [
    "zs=stats.chi2.pdf(xs,5,loc=0,scale=1)\n",
    "plot(xs,zs)"
   ]
  },
  {
   "cell_type": "markdown",
   "id": "05c38fed-1abd-41d7-b017-f3ac41d49655",
   "metadata": {},
   "source": [
    "# Lecture 18"
   ]
  },
  {
   "cell_type": "code",
   "execution_count": 1,
   "id": "4a5eeed8-bdcf-4e4f-8a1b-45118426c74e",
   "metadata": {},
   "outputs": [],
   "source": [
    "from numpy import *\n",
    "from matplotlib.pyplot import *\n",
    "%matplotlib inline\n",
    "import seaborn as sns "
   ]
  },
  {
   "cell_type": "code",
   "execution_count": 2,
   "id": "b2c2f83b-d492-4618-80b1-9d011a56aace",
   "metadata": {},
   "outputs": [],
   "source": [
    "import scipy.stats as stats"
   ]
  },
  {
   "cell_type": "code",
   "execution_count": 3,
   "id": "2014dff7-0580-4404-8a7b-1f9af183ed07",
   "metadata": {},
   "outputs": [
    {
     "data": {
      "text/plain": [
       "1.83283179077277"
      ]
     },
     "execution_count": 3,
     "metadata": {},
     "output_type": "execute_result"
    }
   ],
   "source": [
    "x= stats.norm\n",
    "x.rvs()"
   ]
  },
  {
   "cell_type": "code",
   "execution_count": 4,
   "id": "fcb491d1-7e29-4ba2-bfce-9993b32215f9",
   "metadata": {},
   "outputs": [
    {
     "data": {
      "text/plain": [
       "array([-5.62282331e-01, -1.06519442e+00,  8.14539099e-01,  4.57746559e-01,\n",
       "        4.69506059e-01,  1.61385696e+00, -5.26278293e-01, -3.84389625e+00,\n",
       "       -2.22395284e-02,  4.59062419e-01,  3.77336156e-01, -9.02395874e-01,\n",
       "        7.44210184e-01, -1.29258613e+00,  4.35679971e-01, -1.88158285e+00,\n",
       "       -1.51399127e+00,  1.14929472e+00,  1.69282380e+00,  2.19962937e+00,\n",
       "       -1.02764297e-01,  2.09979943e-01, -1.22059780e+00,  4.38899849e-01,\n",
       "        5.33607489e-01, -1.16563168e+00,  6.30767847e-01,  2.57794835e+00,\n",
       "       -5.42423139e-02, -7.08446109e-01,  6.43598104e-01, -1.14817485e+00,\n",
       "        3.30723135e-01,  1.83772879e+00, -1.83753979e-01, -2.04103784e-01,\n",
       "        1.48553442e+00,  1.24491721e+00, -2.41200485e-01,  9.23456366e-02,\n",
       "       -1.34488851e+00, -9.73749132e-01, -7.24817064e-01, -3.93873312e-01,\n",
       "       -2.77320337e+00, -2.04670110e+00,  1.92387002e+00,  5.72308932e-01,\n",
       "       -9.70845019e-01, -8.20053430e-01, -4.39155933e-01,  2.99152129e-02,\n",
       "        2.39939806e-01,  1.00221020e+00,  2.27988777e-01,  2.28426139e-01,\n",
       "       -8.30942992e-01,  8.82247641e-01, -1.67617687e-01, -1.36794220e+00,\n",
       "       -1.82083117e-01, -1.26196431e+00,  1.58214828e+00, -1.60388387e+00,\n",
       "        8.78145785e-01, -1.68481107e+00,  4.63392247e-01, -1.60517434e+00,\n",
       "        4.82489165e-01, -2.19295422e-01,  8.40820701e-01, -3.18416540e-01,\n",
       "       -2.52101873e-01,  1.07710182e+00,  1.06392892e+00,  4.23027043e-01,\n",
       "        1.73920752e+00,  3.51082783e-01,  1.82386296e-03,  4.19248982e-01,\n",
       "        1.14083680e+00, -2.61523344e-01,  4.26508335e-01,  1.30139811e-01,\n",
       "        3.00578548e-01, -3.69007991e-01, -1.23111816e+00, -1.00322445e-01,\n",
       "        4.59691362e-02, -4.45738189e-01,  3.99081863e-01, -7.83761609e-01,\n",
       "       -1.85290227e+00, -6.14387885e-03,  1.13150071e+00, -1.51730163e+00,\n",
       "        1.75536343e+00,  1.26400057e+00, -1.08288319e+00,  9.88135997e-01,\n",
       "       -6.50569462e-01,  1.03663951e-01,  1.16860544e+00, -1.42505621e+00,\n",
       "       -7.08989235e-02, -9.76933325e-01, -2.40112826e-01,  2.09756176e-01,\n",
       "       -9.83085766e-01, -8.58766374e-01,  7.26615699e-01, -2.83854091e-01,\n",
       "       -6.14636856e-01, -8.17888164e-01, -1.22924331e-01,  2.96186777e-01,\n",
       "        2.01331565e+00,  5.85191005e-01, -1.45925487e-02, -8.50852702e-01,\n",
       "       -6.91249565e-01, -1.28585299e+00,  1.11453236e+00,  9.62545858e-01,\n",
       "       -1.15980853e+00, -4.71916116e-01,  6.91987017e-01, -4.30204850e-01,\n",
       "        9.44673977e-01, -1.76198847e+00,  8.07520417e-01,  1.05039584e-01,\n",
       "        7.09520595e-01,  2.81678760e+00,  1.77799327e-01, -1.79185098e+00,\n",
       "       -8.49881458e-02, -3.67422475e-01, -1.49200307e+00,  5.53679948e-01,\n",
       "       -4.21472503e-01, -2.90029574e-01, -7.80160346e-01, -1.96940474e-02,\n",
       "       -4.32488602e-01,  1.18450215e+00,  7.46533242e-02, -1.22509605e+00,\n",
       "       -1.07104658e+00,  1.12165987e+00, -2.67097149e-01, -4.11280651e-01,\n",
       "       -1.00694054e+00,  1.39334071e+00,  1.64376176e+00,  1.04078122e+00,\n",
       "        1.91865424e+00, -8.26670698e-01,  1.15227012e+00, -5.15072740e-01,\n",
       "        7.66241107e-01,  7.14713185e-01,  9.85417564e-01,  1.87835982e+00,\n",
       "       -8.09521761e-01, -7.67311890e-01, -5.14248180e-01,  4.77066029e-01,\n",
       "        8.87369906e-01, -6.16351912e-01,  1.67415375e+00, -5.77170978e-01,\n",
       "        3.31532464e-01, -6.90104029e-01,  6.35537110e-01, -1.04933593e+00,\n",
       "       -4.92739538e-01,  4.78016976e-01, -1.72087217e-02, -2.09315488e+00,\n",
       "        5.15144092e-01,  7.66112045e-02,  1.31325933e+00, -1.02339606e-01,\n",
       "       -5.60584992e-01,  4.23609678e-01,  8.19766203e-01, -1.07796386e+00,\n",
       "        3.12619803e-01, -7.34559173e-01, -2.24132818e-01, -3.62524987e-01,\n",
       "        5.22355755e-01, -1.16579081e+00,  1.06451143e+00,  1.41547667e-01,\n",
       "        9.47079785e-01,  2.77876342e-01,  5.78087629e-01,  4.25660216e-01,\n",
       "       -1.86985915e+00,  6.36830901e-01, -1.32752117e+00,  3.49825748e-01,\n",
       "       -3.14843646e-02, -5.54077887e-01, -5.21738891e-01,  8.76142982e-01,\n",
       "        9.65697119e-01, -7.30867297e-01, -3.95874486e-02, -3.11841924e-01,\n",
       "        2.25936640e-01,  3.35246931e-01,  1.27889950e+00,  2.03727005e+00,\n",
       "       -2.19430438e+00, -8.77059967e-01,  4.66861551e-01, -1.74229824e-01,\n",
       "       -1.18216244e+00,  2.10757868e-01,  1.72001436e+00,  1.37882288e+00,\n",
       "        1.86451151e-01,  5.02348153e-01,  1.81941794e+00, -1.00513680e+00,\n",
       "       -2.09332613e+00, -1.62786170e+00, -1.24379153e+00, -9.30305557e-01,\n",
       "        2.54172533e+00,  5.10325372e-01, -4.80212160e-01,  5.49421302e-01,\n",
       "        8.35497054e-01, -9.91741106e-02,  5.78448878e-02, -2.66196180e+00,\n",
       "        1.44715119e+00, -8.15610539e-01,  7.15431737e-01,  9.68048080e-01,\n",
       "       -1.93324215e-01,  2.48825618e-01,  1.19207270e-01,  7.43347199e-01,\n",
       "       -5.64127337e-01, -1.12553846e+00, -2.81391227e-01,  4.24938746e-01,\n",
       "        1.80992026e-01, -2.81536118e-01, -6.34025528e-01, -7.65430015e-01,\n",
       "        2.60725008e-01, -1.85401403e-01, -4.13382300e-01, -5.59362338e-01,\n",
       "        1.07894297e+00,  4.75088040e-01, -8.75747719e-01,  6.34038101e-01,\n",
       "       -6.04037243e-01,  1.02000380e-01,  2.06668132e+00,  1.86264297e+00,\n",
       "        3.68371082e-01, -7.55999724e-01,  5.68573839e-01,  2.83635459e+00,\n",
       "       -9.59333954e-02,  4.84020591e-01, -1.74777247e-01, -8.20930734e-01,\n",
       "       -1.07147329e+00,  1.31499605e+00,  4.22972202e-01,  2.85378016e-01,\n",
       "        3.34233420e-01, -1.94366037e-01, -2.32231980e-01, -1.44924025e+00,\n",
       "       -8.28132531e-01, -1.03248695e+00,  1.08940174e+00,  7.79910288e-01,\n",
       "        1.33378299e-01,  5.25533503e-02,  1.15915728e+00, -1.38139977e+00,\n",
       "       -1.52837383e+00,  6.94621821e-01,  1.47978706e+00,  3.56675311e-01,\n",
       "        6.37167955e-02,  2.10693532e+00, -2.43779942e-01,  2.07371431e-01,\n",
       "        7.89337262e-01,  1.48272457e+00,  5.68683262e-01, -9.78616431e-01,\n",
       "       -8.58917690e-01, -1.17012054e-01, -1.33837341e+00,  9.58373475e-01,\n",
       "        7.59379724e-01,  7.15010524e-01, -2.17028031e-02,  4.00965426e-01,\n",
       "       -5.44485948e-01,  1.84499735e+00,  3.39964245e-01,  1.62290385e+00,\n",
       "        2.95859021e-01,  1.12907502e+00,  3.30581785e-01, -2.46841637e-02,\n",
       "        5.62957218e-01,  2.20986388e-01,  1.78242296e+00, -3.00600709e-01,\n",
       "       -1.88518187e+00, -1.30882024e+00, -3.56893926e-01,  5.49675001e-01,\n",
       "       -2.99051284e-01, -5.32871539e-01, -1.17325428e+00, -1.36505921e-01,\n",
       "        5.73034903e-01,  8.24864945e-01,  1.42509136e+00, -3.49416405e-01,\n",
       "        1.67474701e+00, -2.25073484e-01,  1.25227870e+00,  2.01019912e-01,\n",
       "       -4.59942566e-02,  1.71705794e-02,  4.46597083e-02,  1.75342128e-01,\n",
       "       -4.67224346e-01, -1.29633609e+00,  7.39130403e-01, -6.12343385e-01,\n",
       "        5.55110088e-01,  1.13223504e+00,  1.12971258e+00, -1.21887903e-01,\n",
       "       -5.51351771e-01, -5.00532508e-01, -2.21636310e-01, -1.13198325e+00,\n",
       "        6.99047947e-01,  1.42828918e-01, -1.06388537e+00, -1.48721031e+00,\n",
       "        1.13703413e+00,  1.14429288e+00,  1.32687641e+00, -4.30739999e-01,\n",
       "       -3.65995040e-01,  2.47728724e+00,  8.60489673e-01, -7.58003139e-02,\n",
       "        3.60365365e-01, -7.84851161e-01,  4.55540096e-02, -1.97246926e+00,\n",
       "        9.42772297e-02, -3.58810922e-01, -5.05638617e-02, -1.06259950e+00,\n",
       "       -6.50631835e-01, -1.64813467e+00,  8.86797705e-02, -2.09432846e-01,\n",
       "        4.10792306e-01, -9.87569743e-01,  8.84130220e-01, -5.07963600e-01,\n",
       "       -2.08480782e-02, -2.36864406e+00, -2.46664319e+00,  1.16039057e+00,\n",
       "        1.98002593e+00,  7.94774023e-01,  5.42087402e-02, -1.39600641e+00,\n",
       "        5.23221783e-01, -8.66869815e-01, -1.16897908e-01,  1.95816243e+00,\n",
       "        6.71698725e-01, -7.20522740e-01, -1.05410849e+00, -6.54223887e-01,\n",
       "       -1.61105352e+00, -4.61556805e-01,  7.38013907e-01, -1.75792587e+00,\n",
       "        1.65506362e-01, -1.60928683e+00,  7.27639806e-01,  4.08461336e-03,\n",
       "        1.07417812e+00, -1.17396545e+00,  7.10497060e-01, -1.95499494e-02,\n",
       "       -1.13266234e+00, -1.47770042e+00, -3.83732576e-01, -1.65764883e-01,\n",
       "       -4.23346646e-01,  8.09897317e-02, -1.34606158e+00,  4.06727299e-01,\n",
       "       -1.07867538e+00,  3.69165236e-01, -1.07677669e+00, -4.16513001e-01,\n",
       "        5.54652210e-01,  1.76227150e-01,  1.54120315e+00,  1.13911501e+00,\n",
       "        1.43043731e-02, -2.95610261e-01,  1.48665872e+00, -5.96627576e-02,\n",
       "        1.61554249e+00,  9.54549824e-01,  1.03151546e+00, -6.69460815e-01,\n",
       "        8.17212834e-01, -1.82278307e-01,  6.59964253e-01,  2.34897550e+00,\n",
       "        6.79712299e-01, -7.31945755e-01, -2.93800236e-01, -9.69280641e-01,\n",
       "       -9.00954216e-01, -2.36039531e+00, -8.26289590e-01,  2.80797383e-01,\n",
       "        2.81387284e-01,  8.00897270e-02, -5.14312178e-01, -4.66166553e-01,\n",
       "       -1.10590651e-01, -8.68588795e-01,  3.52423752e-01,  1.33114467e+00,\n",
       "       -8.44686269e-01,  3.54655564e-01, -1.02844270e+00, -3.40397700e-01,\n",
       "       -3.41554635e-01, -1.36325126e+00,  8.12359334e-01, -2.82301920e-01,\n",
       "       -1.40171469e+00,  1.70276298e+00,  8.96179725e-01, -9.39076526e-01,\n",
       "        7.02752345e-01,  6.61662174e-01,  1.16834945e+00, -1.19747260e+00,\n",
       "        4.09193509e-01,  2.18941187e-01,  7.17312038e-02, -3.54743667e-01,\n",
       "       -3.27195503e-01,  5.07966854e-01,  3.06921296e-02,  3.71129883e-01,\n",
       "       -1.06729101e+00, -7.88089081e-01,  1.00495976e+00, -1.04384745e+00,\n",
       "       -7.56512416e-01, -7.88758273e-02, -4.80750915e-01,  1.30453780e+00,\n",
       "       -6.92797091e-01,  7.71044651e-01, -1.27781501e+00,  1.08990690e+00,\n",
       "        5.16025064e-01,  1.55446274e+00,  1.80063230e+00, -1.15506464e-02,\n",
       "        3.94496466e-02,  2.17644987e+00,  1.20501610e-01, -2.59839804e-01,\n",
       "        2.08306435e+00,  4.18833544e-01,  8.66359107e-01,  9.43002214e-01,\n",
       "       -7.64796408e-02, -3.90897568e-01, -8.04552633e-01, -8.75326107e-02,\n",
       "        1.62016210e+00, -6.32762660e-02,  1.47817550e+00, -1.01988899e+00,\n",
       "       -2.81729413e-01,  1.25179367e+00,  3.18957678e-01, -6.59022521e-01,\n",
       "        3.82886029e-01,  1.41237342e-01, -1.16988246e+00, -9.81603319e-01,\n",
       "        1.64307304e+00,  3.59113603e-01,  1.77018887e-01,  6.38959699e-01,\n",
       "        6.23992587e-01,  1.19524414e+00,  1.34196675e+00,  8.95333884e-01,\n",
       "       -2.36772433e+00, -5.48118465e-01, -1.32272169e+00, -3.72810175e-01,\n",
       "        2.61858558e-01, -4.94825560e-01, -8.18026038e-01, -2.83542684e-01,\n",
       "        9.63289340e-02,  6.64242355e-01, -6.59160682e-01, -1.85302200e+00,\n",
       "       -4.29188132e-02,  1.23368983e-01, -4.18746053e-01, -7.21415391e-01,\n",
       "       -1.68191210e+00, -1.26116677e+00,  1.38043085e+00, -3.65209647e-01,\n",
       "        1.75551578e+00, -7.32955831e-01, -1.56244344e+00, -1.82396073e-01,\n",
       "        1.54423951e+00, -1.55413997e+00,  4.95271025e-01, -8.87724666e-01,\n",
       "        1.83930436e+00, -2.93230139e-01,  1.28026515e+00,  7.05454723e-01,\n",
       "        7.29678040e-01,  2.23747798e-01,  9.15695486e-01, -2.87966014e-01,\n",
       "        1.52778830e-01, -9.54087632e-01, -1.83243608e-01, -1.01217928e+00,\n",
       "        6.51688408e-01,  3.34705268e-01, -1.55238890e+00, -1.20683908e+00,\n",
       "        5.81757241e-01,  1.26456425e+00, -5.48778567e-01,  2.97523188e-01,\n",
       "        3.48799515e-01, -6.39052893e-01,  9.48699729e-01, -3.34333917e-01,\n",
       "        7.48487779e-01,  1.24612144e+00, -6.67887206e-01, -1.98763164e+00,\n",
       "        6.08767149e-01, -2.27689177e+00, -5.87024715e-02, -1.31786463e+00,\n",
       "       -1.52498328e+00,  2.11807614e-01,  1.78923492e+00,  2.27122200e-01,\n",
       "        9.38142154e-01,  1.00011337e+00,  1.94622384e-01, -1.39179613e+00,\n",
       "        3.43854651e-02, -5.53273100e-01, -1.56725655e+00,  5.00698268e-02,\n",
       "        1.10131855e+00, -4.54753928e-01,  6.59934277e-01,  8.00569160e-02,\n",
       "       -1.31903435e+00, -7.96209086e-01,  1.00514900e-01, -1.38880219e+00,\n",
       "        6.09856157e-02, -7.33777261e-02,  9.87422649e-01, -2.65834722e-01,\n",
       "        8.46593277e-01, -4.98963275e-03, -8.11205836e-01,  5.45769865e-01,\n",
       "        2.20128578e+00,  2.91098495e+00,  7.93595906e-01,  1.99276412e+00,\n",
       "       -2.93164470e-01, -9.96827051e-02, -8.47588245e-01,  3.73451681e-01,\n",
       "        5.86508800e-01, -1.04961627e+00, -1.40742123e-01,  8.66863673e-01,\n",
       "       -6.07302435e-01,  4.56696797e-02,  7.56026538e-02, -8.03614913e-01,\n",
       "        7.14700156e-02,  2.30050125e+00,  2.04534619e-01,  4.36833356e-02,\n",
       "       -8.78578812e-01,  1.33513037e+00, -5.02512879e-01,  2.43732043e+00,\n",
       "       -7.24116641e-02,  2.93111242e-01, -6.26954971e-01, -2.19839222e+00,\n",
       "       -2.10544923e-01, -4.88670190e-01, -1.62611276e+00, -1.02020316e+00,\n",
       "       -4.30625652e-01,  1.94113219e+00,  3.06543371e-01, -1.22317139e-01,\n",
       "        4.77885625e-01,  4.12795127e-01,  1.06860016e+00, -9.53364121e-01,\n",
       "        2.50717535e-01,  7.81029431e-01,  2.61291057e+00,  1.13326843e+00,\n",
       "       -2.38887008e+00, -9.23849780e-01, -1.28546792e+00,  7.13222212e-01,\n",
       "        5.50463884e-01, -6.55667189e-01,  1.13035112e-01, -8.03880832e-02,\n",
       "       -5.55116733e-01, -2.56319890e+00, -1.14514923e+00, -7.94694507e-01,\n",
       "        6.30255803e-01, -1.33908578e+00, -1.35162644e-01, -1.76684062e+00,\n",
       "        8.07955086e-01,  3.57258893e-01, -2.31307446e-01,  1.59125579e+00,\n",
       "       -1.23183491e-01, -2.70224244e-01, -3.20908031e-01, -4.69597846e-01,\n",
       "       -6.28086224e-01,  4.35693349e-01,  3.66622521e-05,  4.77580049e-01,\n",
       "       -2.62431672e-01,  8.80335416e-01, -7.69706931e-01, -1.39395187e+00,\n",
       "       -1.40974667e+00, -1.29277869e+00,  8.49619156e-01, -3.42264697e-02,\n",
       "       -1.13020135e-01, -1.94476951e+00,  5.74915761e-01, -1.30462690e+00,\n",
       "        5.65949058e-01, -5.89261444e-01,  1.59176530e+00, -1.56174056e+00,\n",
       "       -3.61040769e-03, -4.97849648e-01, -7.80340668e-02,  8.07154210e-01,\n",
       "       -4.13697743e-01,  1.37607336e+00,  1.94501760e-01, -1.60661912e+00,\n",
       "        2.43723926e-01, -4.26882734e-01,  1.08245763e+00,  1.69771701e+00,\n",
       "        1.17893756e-01, -9.66060503e-02, -1.06738593e+00, -7.02247453e-01,\n",
       "       -1.70391774e-01, -6.03603632e-01, -4.64278034e-01,  4.15383661e-02,\n",
       "        1.08532700e+00, -2.14990055e-01, -1.99533156e+00, -1.35293300e+00,\n",
       "       -2.06820294e+00,  9.68785671e-01,  3.53114244e-01,  8.69935212e-02,\n",
       "       -3.63354239e-01, -1.14801786e+00, -6.13935106e-01, -1.00363665e+00,\n",
       "        5.60547977e-01,  1.35552964e+00,  1.58578791e-01,  6.07916926e-01,\n",
       "       -1.89541347e+00, -3.06213726e-01,  1.54924817e+00,  1.74481658e+00,\n",
       "        1.29834436e+00,  3.99886483e-02, -2.18653331e-01, -1.82073741e-01,\n",
       "        7.39885028e-01, -7.82397402e-01, -4.42537030e-01, -7.16654082e-01,\n",
       "        2.51209112e-01, -1.09976254e+00,  7.04534707e-01, -9.12924966e-01,\n",
       "       -1.20983880e+00, -6.20873115e-02, -1.05042407e+00, -4.61198639e-01,\n",
       "        7.92815709e-01,  2.79086121e+00, -1.68728484e-01,  2.00355410e+00,\n",
       "        1.51551161e+00, -4.48972900e-01,  5.09036909e-02,  1.16573788e+00,\n",
       "       -7.95919780e-01, -1.06553097e+00,  5.52448906e-01,  1.48360517e-01,\n",
       "        1.52948563e+00,  1.08925318e+00, -1.26888266e+00, -9.01952357e-01,\n",
       "        1.58213377e+00, -8.47913653e-01,  2.12850014e-01,  1.57446494e+00,\n",
       "       -4.55064124e-01,  3.63853097e-01, -5.38812711e-01,  4.15878985e-01,\n",
       "       -9.70865410e-01,  1.17647793e-01, -6.97400232e-01, -6.91760525e-01,\n",
       "        4.15129711e-01,  3.78518798e-01, -1.83133084e+00,  6.72592814e-01,\n",
       "        3.22820942e-01, -4.94754829e-01, -2.58516743e-01,  3.90140478e-02,\n",
       "        1.24815168e+00,  6.91696409e-01, -7.80940253e-01,  6.65349414e-01,\n",
       "        2.80796700e-01,  8.80529893e-01, -3.48321628e-01,  2.13469182e-01,\n",
       "       -4.85240653e-02,  8.02335608e-01, -1.86616867e+00, -3.70473616e-01,\n",
       "       -1.87949431e-01,  1.79475353e+00,  4.33427206e-01,  7.76323890e-01,\n",
       "       -8.42268832e-01, -2.33699988e-01,  1.03527098e+00, -3.93473454e-01,\n",
       "        1.39020324e+00, -1.20635336e-01,  1.99073572e+00, -1.43248289e+00,\n",
       "        3.08642608e-01,  5.17949750e-02, -1.02490713e+00,  1.80866163e+00,\n",
       "        1.32430616e+00,  5.14097214e-01, -4.51399543e-02, -2.80614332e+00,\n",
       "       -7.50462100e-01,  9.01338408e-01, -1.40781922e+00, -4.80850460e-01,\n",
       "        5.32037828e-01,  2.17223871e+00, -5.20948411e-02,  1.07901496e+00,\n",
       "        3.80744307e-01, -1.12316217e+00, -9.85559473e-01, -2.81154549e-01,\n",
       "        4.18262091e-01, -4.82041131e-01,  1.65315176e+00, -1.11878355e+00,\n",
       "        9.23266574e-01,  4.64657969e-01,  1.44581263e+00,  1.51803618e-01,\n",
       "        8.11713926e-01, -3.14144892e-01, -3.22607014e-01,  6.30724019e-01,\n",
       "       -2.00183706e-01, -4.62911562e-01, -1.09691641e+00, -1.90524126e-02,\n",
       "        1.35326925e+00,  6.00880733e-01, -1.57234319e+00,  1.73595445e+00,\n",
       "       -1.31767862e+00,  1.92485770e-01, -2.51260148e-01, -1.67785777e+00,\n",
       "       -1.20597634e+00,  8.38475058e-01, -1.28335896e+00,  5.51640277e-01,\n",
       "        1.46855804e-02,  4.75655852e-01,  1.03430224e+00, -2.08175343e-01,\n",
       "       -6.05397025e-01, -1.97242704e-01, -8.37174189e-01,  7.23274483e-01,\n",
       "       -9.18490007e-01, -1.20031252e+00, -1.93391258e+00, -4.40379792e-01,\n",
       "       -5.12586943e-01, -3.79203193e-01, -1.46053700e+00,  3.85573049e-01,\n",
       "        2.49242926e-01, -6.28726028e-03,  2.41162127e+00,  1.16447544e-01,\n",
       "        3.86834323e-01, -1.23265945e+00, -1.32905615e+00,  5.26788746e-02,\n",
       "        9.17058102e-01,  8.25693212e-01, -8.03290487e-03, -1.70981713e+00,\n",
       "        6.69406713e-02, -5.05089991e-01, -9.89124320e-01, -3.37546918e-03,\n",
       "        3.22021709e-02,  8.02121481e-01,  4.32486370e-01, -1.14947779e+00,\n",
       "       -8.08528648e-01,  9.64463881e-01, -1.36750521e-02,  8.22031457e-02,\n",
       "        1.51103692e+00,  1.90935398e-01,  1.10870140e-01, -2.27507478e-01,\n",
       "        2.40818903e-01, -2.13920793e-01,  8.25213099e-01, -1.49043474e-01,\n",
       "       -2.98888972e+00,  7.74266116e-01, -9.21462763e-01, -6.37900308e-01,\n",
       "       -1.62169214e+00, -3.18009961e-01, -7.47293148e-01, -5.56435120e-01,\n",
       "        1.44867264e+00, -2.14543770e-01,  1.09348579e+00, -1.48465474e+00,\n",
       "       -1.01800048e+00, -3.69511550e-01, -5.60939636e-01, -1.31228954e-01,\n",
       "       -5.71044473e-01,  8.75472409e-01, -1.25751956e+00,  1.23729035e+00,\n",
       "        2.34381674e+00, -8.80207318e-01, -6.14305764e-03,  1.51548153e+00,\n",
       "       -5.99947370e-01, -4.62955882e-01, -2.25496933e-01,  9.60944364e-01,\n",
       "        2.31145958e-01, -9.21502485e-01,  6.52267618e-01,  5.44177106e-01,\n",
       "        3.62951851e-01, -1.10572340e+00, -1.48446295e+00, -5.38436780e-01,\n",
       "        1.07181445e+00, -2.39081165e-01,  1.69134618e+00, -1.66102422e+00,\n",
       "       -1.25860920e+00,  4.45531332e-01, -1.07809599e+00,  1.18290341e-01,\n",
       "        4.66935122e-02,  2.59491813e-01,  2.69378798e-02,  5.82716924e-01,\n",
       "        7.83404392e-01,  2.54176917e-01,  2.89657378e+00,  1.67447973e-01,\n",
       "       -2.37084537e-01,  8.08160379e-01,  9.46791539e-01,  6.58299498e-01,\n",
       "       -7.88973475e-02,  5.53910148e-01, -1.48981616e+00,  4.26749048e-01,\n",
       "        9.03901978e-01, -1.10712959e+00, -7.49816525e-01, -4.46379699e-02,\n",
       "        1.43264721e+00,  2.11041085e+00,  1.35513768e-01, -4.99998548e-01,\n",
       "        1.44269886e+00,  7.08690573e-01, -2.16504117e-01, -1.19164753e+00,\n",
       "        6.31008961e-01,  1.40401047e+00,  4.45774013e-02, -1.29951093e+00,\n",
       "       -1.72878240e+00, -4.15256924e-01, -1.63169113e+00, -9.94649062e-01,\n",
       "       -3.22443929e-01,  7.10299496e-01,  2.53769918e-01, -2.62970536e-02])"
      ]
     },
     "execution_count": 4,
     "metadata": {},
     "output_type": "execute_result"
    }
   ],
   "source": [
    "normal_rvs = x.rvs(size =1000)\n",
    "normal_rvs"
   ]
  },
  {
   "cell_type": "code",
   "execution_count": 6,
   "id": "8abd9385-5157-46d1-addb-9a0dac673f5b",
   "metadata": {},
   "outputs": [
    {
     "data": {
      "text/plain": [
       "(array([0.00592164, 0.        , 0.        , 0.        , 0.        ,\n",
       "        0.00592164, 0.01776493, 0.00592164, 0.02960822, 0.01776493,\n",
       "        0.03552986, 0.06513808, 0.05921644, 0.14804109, 0.15396274,\n",
       "        0.21910082, 0.27239561, 0.25463068, 0.25463068, 0.31976876,\n",
       "        0.34937698, 0.40267177, 0.44412328, 0.41451506, 0.38490684,\n",
       "        0.33161205, 0.36122027, 0.30200383, 0.1894926 , 0.20725753,\n",
       "        0.14804109, 0.12435452, 0.11251123, 0.0947463 , 0.05921644,\n",
       "        0.04737315, 0.01776493, 0.02368657, 0.01184329, 0.02960822]),\n",
       " array([-3.84389625, -3.67502422, -3.50615219, -3.33728016, -3.16840813,\n",
       "        -2.9995361 , -2.83066407, -2.66179204, -2.49292001, -2.32404798,\n",
       "        -2.15517595, -1.98630392, -1.81743189, -1.64855986, -1.47968783,\n",
       "        -1.3108158 , -1.14194377, -0.97307174, -0.80419971, -0.63532768,\n",
       "        -0.46645565, -0.29758362, -0.12871159,  0.04016044,  0.20903247,\n",
       "         0.3779045 ,  0.54677653,  0.71564856,  0.88452059,  1.05339262,\n",
       "         1.22226465,  1.39113668,  1.56000871,  1.72888074,  1.89775277,\n",
       "         2.0666248 ,  2.23549683,  2.40436886,  2.57324089,  2.74211292,\n",
       "         2.91098495]),\n",
       " <BarContainer object of 40 artists>)"
      ]
     },
     "execution_count": 6,
     "metadata": {},
     "output_type": "execute_result"
    },
    {
     "data": {
      "image/png": "[encoded data removed]",
      "text/plain": [
       "<Figure size 432x288 with 1 Axes>"
      ]
     },
     "metadata": {
      "needs_background": "light"
     },
     "output_type": "display_data"
    }
   ],
   "source": [
    "hist(normal_rvs,density=True, bins=40,rwidth=0.85)"
   ]
  },
  {
   "cell_type": "code",
   "execution_count": 7,
   "id": "482f48b7-ceb3-4123-95c4-a63e99e2637c",
   "metadata": {},
   "outputs": [
    {
     "data": {
      "text/plain": [
       "1.959963984540054"
      ]
     },
     "execution_count": 7,
     "metadata": {},
     "output_type": "execute_result"
    }
   ],
   "source": [
    "stats.norm.ppf(1-0.025)"
   ]
  },
  {
   "cell_type": "markdown",
   "id": "855b3d31-4e70-43fa-8544-155f1207cd6a",
   "metadata": {},
   "source": [
    "inverse of cdf is ppf\n",
    "$$ z_{\\alpha /2} = \\Phi^{-1}(1-\\alpha/2) $$"
   ]
  },
  {
   "cell_type": "code",
   "execution_count": 9,
   "id": "71483448-be03-49a6-b56d-2ebf5b7aa202",
   "metadata": {},
   "outputs": [],
   "source": [
    "gs=sns.load_dataset('geyser')"
   ]
  },
  {
   "cell_type": "code",
   "execution_count": 10,
   "id": "ec759a42-84ec-47ed-8d20-6677c4fb3fff",
   "metadata": {},
   "outputs": [
    {
     "data": {
      "text/html": [
       "<div>\n",
       "<style scoped>\n",
       "    .dataframe tbody tr th:only-of-type {\n",
       "        vertical-align: middle;\n",
       "    }\n",
       "\n",
       "    .dataframe tbody tr th {\n",
       "        vertical-align: top;\n",
       "    }\n",
       "\n",
       "    .dataframe thead th {\n",
       "        text-align: right;\n",
       "    }\n",
       "</style>\n",
       "<table border=\"1\" class=\"dataframe\">\n",
       "  <thead>\n",
       "    <tr style=\"text-align: right;\">\n",
       "      <th></th>\n",
       "      <th>duration</th>\n",
       "      <th>waiting</th>\n",
       "      <th>kind</th>\n",
       "    </tr>\n",
       "  </thead>\n",
       "  <tbody>\n",
       "    <tr>\n",
       "      <th>0</th>\n",
       "      <td>3.600</td>\n",
       "      <td>79</td>\n",
       "      <td>long</td>\n",
       "    </tr>\n",
       "    <tr>\n",
       "      <th>1</th>\n",
       "      <td>1.800</td>\n",
       "      <td>54</td>\n",
       "      <td>short</td>\n",
       "    </tr>\n",
       "    <tr>\n",
       "      <th>2</th>\n",
       "      <td>3.333</td>\n",
       "      <td>74</td>\n",
       "      <td>long</td>\n",
       "    </tr>\n",
       "    <tr>\n",
       "      <th>3</th>\n",
       "      <td>2.283</td>\n",
       "      <td>62</td>\n",
       "      <td>short</td>\n",
       "    </tr>\n",
       "    <tr>\n",
       "      <th>4</th>\n",
       "      <td>4.533</td>\n",
       "      <td>85</td>\n",
       "      <td>long</td>\n",
       "    </tr>\n",
       "  </tbody>\n",
       "</table>\n",
       "</div>"
      ],
      "text/plain": [
       "   duration  waiting   kind\n",
       "0     3.600       79   long\n",
       "1     1.800       54  short\n",
       "2     3.333       74   long\n",
       "3     2.283       62  short\n",
       "4     4.533       85   long"
      ]
     },
     "execution_count": 10,
     "metadata": {},
     "output_type": "execute_result"
    }
   ],
   "source": [
    "gs.head()\n"
   ]
  },
  {
   "cell_type": "code",
   "execution_count": 11,
   "id": "087f43b8-eb02-49e3-b206-f484917c9316",
   "metadata": {},
   "outputs": [],
   "source": [
    "durs =gs['duration'].dropna().to_numpy()"
   ]
  },
  {
   "cell_type": "code",
   "execution_count": 12,
   "id": "9cf62468-d230-4d36-986a-c68fb0f0e40d",
   "metadata": {},
   "outputs": [
    {
     "data": {
      "text/plain": [
       "(array([0.21008403, 0.73529412, 0.44117647, 0.31512605, 0.21008403,\n",
       "        0.06302521, 0.0210084 , 0.04201681, 0.0210084 , 0.06302521,\n",
       "        0.10504202, 0.14705882, 0.27310924, 0.33613445, 0.50420168,\n",
       "        0.58823529, 0.6512605 , 0.48319328, 0.35714286, 0.14705882]),\n",
       " array([1.6  , 1.775, 1.95 , 2.125, 2.3  , 2.475, 2.65 , 2.825, 3.   ,\n",
       "        3.175, 3.35 , 3.525, 3.7  , 3.875, 4.05 , 4.225, 4.4  , 4.575,\n",
       "        4.75 , 4.925, 5.1  ]),\n",
       " <BarContainer object of 20 artists>)"
      ]
     },
     "execution_count": 12,
     "metadata": {},
     "output_type": "execute_result"
    },
    {
     "data": {
      "image/png": "[encoded data removed]",
      "text/plain": [
       "<Figure size 432x288 with 1 Axes>"
      ]
     },
     "metadata": {
      "needs_background": "light"
     },
     "output_type": "display_data"
    }
   ],
   "source": [
    "hist(durs,bins=20,density=True)\n"
   ]
  },
  {
   "cell_type": "code",
   "execution_count": 13,
   "id": "9609216b-cc09-4e3a-86e2-34729d54cfc6",
   "metadata": {},
   "outputs": [
    {
     "data": {
      "text/plain": [
       "3.4877830882352936"
      ]
     },
     "execution_count": 13,
     "metadata": {},
     "output_type": "execute_result"
    }
   ],
   "source": [
    "mean(durs)"
   ]
  },
  {
   "cell_type": "code",
   "execution_count": 14,
   "id": "8ed738a3-1fe3-4e76-812e-d8a061446178",
   "metadata": {},
   "outputs": [],
   "source": [
    "def Compute_CI_95(dataset, n_samples):\n",
    "    sample=random.choice(dataset,n_samples,replace=False)\n",
    "    sample_mean=mean(sample)\n",
    "    sample_std=std(sample,ddof=1)\n",
    "    z95=stats.norm.ppf(1-0.025)\n",
    "    ci_lo=sample_mean- z95*sample_std/sqrt(n_samples)\n",
    "    ci_hi=sample_mean+ z95*sample_std/sqrt(n_samples)\n",
    "    return ci_lo,ci_hi"
   ]
  },
  {
   "cell_type": "code",
   "execution_count": 16,
   "id": "498c4989-e9fc-4e80-a736-3d94e92a22cf",
   "metadata": {},
   "outputs": [
    {
     "data": {
      "text/plain": [
       "(3.2168926626813854, 4.081747337318613)"
      ]
     },
     "execution_count": 16,
     "metadata": {},
     "output_type": "execute_result"
    }
   ],
   "source": [
    "Compute_CI_95(durs,25)"
   ]
  },
  {
   "cell_type": "code",
   "execution_count": 30,
   "id": "9a584daa-c993-4b49-acb6-b710ed0758c8",
   "metadata": {},
   "outputs": [],
   "source": [
    "def check_in_CI(dataset,n_exp,n_samples):\n",
    "    d=0\n",
    "    for i in range (n_exp):\n",
    "        ran_l,ran_h=Compute_CI_95(dataset,n_samples)\n",
    "        if mean(dataset)>=ran_l and mean(dataset)<=ran_h:\n",
    "            d=d+1\n",
    "    return d/n_exp\n",
    "    "
   ]
  },
  {
   "cell_type": "code",
   "execution_count": 34,
   "id": "1c7b649e-8e2a-4fe4-a7c8-4073417fc190",
   "metadata": {},
   "outputs": [
    {
     "data": {
      "text/plain": [
       "0.9674"
      ]
     },
     "execution_count": 34,
     "metadata": {},
     "output_type": "execute_result"
    }
   ],
   "source": [
    "check_in_CI(durs,10000,50)"
   ]
  },
  {
   "cell_type": "markdown",
   "id": "fb236506-432f-4b9a-918a-32a83a6768a0",
   "metadata": {},
   "source": [
    "# Lecture 19\n"
   ]
  },
  {
   "cell_type": "code",
   "execution_count": 1,
   "id": "3713bb24-5cc6-4d3f-9485-9ec26533c2da",
   "metadata": {},
   "outputs": [],
   "source": [
    "import numpy as np\n",
    "import math as m"
   ]
  },
  {
   "cell_type": "code",
   "execution_count": 2,
   "id": "25c424c8-d0e9-47ee-8dbc-dae9eb8efb1e",
   "metadata": {},
   "outputs": [
    {
     "data": {
      "text/plain": [
       "120"
      ]
     },
     "execution_count": 2,
     "metadata": {},
     "output_type": "execute_result"
    }
   ],
   "source": [
    "m.comb(10,3)"
   ]
  },
  {
   "cell_type": "code",
   "execution_count": 10,
   "id": "783774dc-08f9-4c21-a90e-28e344fedc96",
   "metadata": {},
   "outputs": [
    {
     "name": "stdout",
     "output_type": "stream",
     "text": [
      "0.020694732666015625\n"
     ]
    }
   ],
   "source": [
    "s=0\n",
    "for i in range (15,21):\n",
    "    s = s+ m.comb(20,i)\n",
    "print(s/2**20)"
   ]
  },
  {
   "cell_type": "code",
   "execution_count": 17,
   "id": "d8d214f4-f930-4d63-a0f1-365208d77b65",
   "metadata": {},
   "outputs": [],
   "source": [
    "def reject(n,p):\n",
    "    for i in range(n+1):\n",
    "        s=0\n",
    "        for j in range(i,n+1):\n",
    "            s=s+ m.comb(n,j)\n",
    "        if s <= (2**20)*p:\n",
    "            return i\n",
    "        "
   ]
  },
  {
   "cell_type": "code",
   "execution_count": 18,
   "id": "6c7b349f-b0da-4750-a350-15bba91303f2",
   "metadata": {},
   "outputs": [
    {
     "data": {
      "text/plain": [
       "15"
      ]
     },
     "execution_count": 18,
     "metadata": {},
     "output_type": "execute_result"
    }
   ],
   "source": [
    "reject(20,0.05)"
   ]
  },
  {
   "cell_type": "code",
   "execution_count": 2,
   "id": "fa562847-08a9-4881-8119-adac3cafd1c5",
   "metadata": {},
   "outputs": [],
   "source": [
    "import scipy.stats as stats"
   ]
  },
  {
   "cell_type": "code",
   "execution_count": 22,
   "id": "7484a5e0-6ee7-4cde-ad07-e27c91dcc242",
   "metadata": {},
   "outputs": [],
   "source": [
    "b = stats.binom(p=0.5,n=20)"
   ]
  },
  {
   "cell_type": "code",
   "execution_count": 23,
   "id": "ef356120-4957-4d79-a75d-e54f77e1c83e",
   "metadata": {},
   "outputs": [
    {
     "data": {
      "text/plain": [
       "array([12,  9,  6, 10,  5, 12, 12,  7, 11, 10, 10, 13,  9, 10, 12, 10,  9,\n",
       "       13, 10,  9])"
      ]
     },
     "execution_count": 23,
     "metadata": {},
     "output_type": "execute_result"
    }
   ],
   "source": [
    "b.rvs(20) #random variables have probability according to binomial distribution"
   ]
  },
  {
   "cell_type": "code",
   "execution_count": 24,
   "id": "05ddf325-33b5-4909-96a8-0eddb1d8d8ad",
   "metadata": {},
   "outputs": [
    {
     "data": {
      "text/plain": [
       "0.13158798217773438"
      ]
     },
     "execution_count": 24,
     "metadata": {},
     "output_type": "execute_result"
    }
   ],
   "source": [
    "1-b.cdf(12)"
   ]
  },
  {
   "cell_type": "code",
   "execution_count": 25,
   "id": "9ae762b9-aff8-4afc-b922-11f37281a334",
   "metadata": {},
   "outputs": [],
   "source": [
    "import matplotlib.pyplot as plt #plt is namespace"
   ]
  },
  {
   "cell_type": "code",
   "execution_count": 34,
   "id": "403d8f32-aa85-48c0-8451-d324cbb031e1",
   "metadata": {},
   "outputs": [],
   "source": [
    "ns = b.rvs(100000)"
   ]
  },
  {
   "cell_type": "code",
   "execution_count": 35,
   "id": "20e2e7b7-a0eb-4f10-ba68-8ed276ee8bf6",
   "metadata": {},
   "outputs": [
    {
     "data": {
      "text/plain": [
       "(array([1.0000e+00, 2.1000e+01, 9.5000e+01, 4.7000e+02, 1.4950e+03,\n",
       "        3.7530e+03, 7.4300e+03, 1.1884e+04, 1.6090e+04, 1.7669e+04,\n",
       "        1.6015e+04, 1.2017e+04, 7.3040e+03, 3.6390e+03, 1.5380e+03,\n",
       "        4.4000e+02, 1.1800e+02, 2.1000e+01]),\n",
       " array([ 1.,  2.,  3.,  4.,  5.,  6.,  7.,  8.,  9., 10., 11., 12., 13.,\n",
       "        14., 15., 16., 17., 18., 19.]),\n",
       " <BarContainer object of 18 artists>)"
      ]
     },
     "execution_count": 35,
     "metadata": {},
     "output_type": "execute_result"
    },
    {
     "data": {
      "image/png": "[encoded data removed]",
      "text/plain": [
       "<Figure size 432x288 with 1 Axes>"
      ]
     },
     "metadata": {
      "needs_background": "light"
     },
     "output_type": "display_data"
    }
   ],
   "source": [
    "plt.hist(ns,bins=18)"
   ]
  },
  {
   "cell_type": "code",
   "execution_count": 38,
   "id": "85a0d467-8a54-4d17-9ba5-c27031592d28",
   "metadata": {},
   "outputs": [
    {
     "data": {
      "text/plain": [
       "(array([7.6000e+01, 6.3600e+02, 2.4470e+03, 6.3960e+03, 1.1811e+04,\n",
       "        1.6386e+04, 0.0000e+00, 1.8305e+04, 1.6745e+04, 1.2281e+04,\n",
       "        7.8360e+03, 4.1430e+03, 1.9070e+03, 0.0000e+00, 6.7600e+02,\n",
       "        2.6600e+02, 7.8000e+01, 9.0000e+00, 1.0000e+00, 1.0000e+00]),\n",
       " array([ 0.  ,  0.85,  1.7 ,  2.55,  3.4 ,  4.25,  5.1 ,  5.95,  6.8 ,\n",
       "         7.65,  8.5 ,  9.35, 10.2 , 11.05, 11.9 , 12.75, 13.6 , 14.45,\n",
       "        15.3 , 16.15, 17.  ]),\n",
       " <BarContainer object of 20 artists>)"
      ]
     },
     "execution_count": 38,
     "metadata": {},
     "output_type": "execute_result"
    },
    {
     "data": {
      "image/png": "[encoded data removed]",
      "text/plain": [
       "<Figure size 432x288 with 1 Axes>"
      ]
     },
     "metadata": {
      "needs_background": "light"
     },
     "output_type": "display_data"
    }
   ],
   "source": [
    "c = stats.binom(p=0.25,n=25)\n",
    "ns=c.rvs(100000)\n",
    "plt.hist(ns,bins = 20)"
   ]
  },
  {
   "cell_type": "code",
   "execution_count": 7,
   "id": "b8c070bd-9217-4fae-ae4b-342c08bb3ced",
   "metadata": {},
   "outputs": [
    {
     "data": {
      "text/plain": [
       "\u001b[1;31mSignature:\u001b[0m \u001b[0mstats\u001b[0m\u001b[1;33m.\u001b[0m\u001b[0mcauchy\u001b[0m\u001b[1;33m.\u001b[0m\u001b[0mrvs\u001b[0m\u001b[1;33m(\u001b[0m\u001b[1;33m*\u001b[0m\u001b[0margs\u001b[0m\u001b[1;33m,\u001b[0m \u001b[1;33m**\u001b[0m\u001b[0mkwds\u001b[0m\u001b[1;33m)\u001b[0m\u001b[1;33m\u001b[0m\u001b[1;33m\u001b[0m\u001b[0m\n",
       "\u001b[1;31mDocstring:\u001b[0m\n",
       "Random variates of given type.\n",
       "\n",
       "Parameters\n",
       "----------\n",
       "arg1, arg2, arg3,... : array_like\n",
       "    The shape parameter(s) for the distribution (see docstring of the\n",
       "    instance object for more information).\n",
       "loc : array_like, optional\n",
       "    Location parameter (default=0).\n",
       "scale : array_like, optional\n",
       "    Scale parameter (default=1).\n",
       "size : int or tuple of ints, optional\n",
       "    Defining number of random variates (default is 1).\n",
       "random_state : {None, int, `numpy.random.Generator`,\n",
       "                `numpy.random.RandomState`}, optional\n",
       "\n",
       "    If `seed` is None (or `np.random`), the `numpy.random.RandomState`\n",
       "    singleton is used.\n",
       "    If `seed` is an int, a new ``RandomState`` instance is used,\n",
       "    seeded with `seed`.\n",
       "    If `seed` is already a ``Generator`` or ``RandomState`` instance\n",
       "    then that instance is used.\n",
       "\n",
       "Returns\n",
       "-------\n",
       "rvs : ndarray or scalar\n",
       "    Random variates of given `size`.\n",
       "\u001b[1;31mFile:\u001b[0m      c:\\users\\91977\\python\\lib\\site-packages\\scipy\\stats\\_distn_infrastructure.py\n",
       "\u001b[1;31mType:\u001b[0m      method\n"
      ]
     },
     "metadata": {},
     "output_type": "display_data"
    }
   ],
   "source": [
    "stats.cauchy.rvs?"
   ]
  },
  {
   "cell_type": "code",
   "execution_count": 5,
   "id": "cfe3d30d-7455-457e-8241-5aaa90834dc9",
   "metadata": {},
   "outputs": [],
   "source": [
    "from numpy import *\n",
    "from matplotlib.pyplot import *\n",
    "%matplotlib inline"
   ]
  },
  {
   "cell_type": "code",
   "execution_count": 6,
   "id": "8a6f9207-f233-4268-831b-44a555ce610d",
   "metadata": {},
   "outputs": [
    {
     "data": {
      "text/plain": [
       "\u001b[1;31mSignature:\u001b[0m\n",
       "\u001b[0mhist\u001b[0m\u001b[1;33m(\u001b[0m\u001b[1;33m\n",
       "\u001b[0m    \u001b[0mx\u001b[0m\u001b[1;33m,\u001b[0m\u001b[1;33m\n",
       "\u001b[0m    \u001b[0mbins\u001b[0m\u001b[1;33m=\u001b[0m\u001b[1;32mNone\u001b[0m\u001b[1;33m,\u001b[0m\u001b[1;33m\n",
       "\u001b[0m    \u001b[0mrange\u001b[0m\u001b[1;33m=\u001b[0m\u001b[1;32mNone\u001b[0m\u001b[1;33m,\u001b[0m\u001b[1;33m\n",
       "\u001b[0m    \u001b[0mdensity\u001b[0m\u001b[1;33m=\u001b[0m\u001b[1;32mFalse\u001b[0m\u001b[1;33m,\u001b[0m\u001b[1;33m\n",
       "\u001b[0m    \u001b[0mweights\u001b[0m\u001b[1;33m=\u001b[0m\u001b[1;32mNone\u001b[0m\u001b[1;33m,\u001b[0m\u001b[1;33m\n",
       "\u001b[0m    \u001b[0mcumulative\u001b[0m\u001b[1;33m=\u001b[0m\u001b[1;32mFalse\u001b[0m\u001b[1;33m,\u001b[0m\u001b[1;33m\n",
       "\u001b[0m    \u001b[0mbottom\u001b[0m\u001b[1;33m=\u001b[0m\u001b[1;32mNone\u001b[0m\u001b[1;33m,\u001b[0m\u001b[1;33m\n",
       "\u001b[0m    \u001b[0mhisttype\u001b[0m\u001b[1;33m=\u001b[0m\u001b[1;34m'bar'\u001b[0m\u001b[1;33m,\u001b[0m\u001b[1;33m\n",
       "\u001b[0m    \u001b[0malign\u001b[0m\u001b[1;33m=\u001b[0m\u001b[1;34m'mid'\u001b[0m\u001b[1;33m,\u001b[0m\u001b[1;33m\n",
       "\u001b[0m    \u001b[0morientation\u001b[0m\u001b[1;33m=\u001b[0m\u001b[1;34m'vertical'\u001b[0m\u001b[1;33m,\u001b[0m\u001b[1;33m\n",
       "\u001b[0m    \u001b[0mrwidth\u001b[0m\u001b[1;33m=\u001b[0m\u001b[1;32mNone\u001b[0m\u001b[1;33m,\u001b[0m\u001b[1;33m\n",
       "\u001b[0m    \u001b[0mlog\u001b[0m\u001b[1;33m=\u001b[0m\u001b[1;32mFalse\u001b[0m\u001b[1;33m,\u001b[0m\u001b[1;33m\n",
       "\u001b[0m    \u001b[0mcolor\u001b[0m\u001b[1;33m=\u001b[0m\u001b[1;32mNone\u001b[0m\u001b[1;33m,\u001b[0m\u001b[1;33m\n",
       "\u001b[0m    \u001b[0mlabel\u001b[0m\u001b[1;33m=\u001b[0m\u001b[1;32mNone\u001b[0m\u001b[1;33m,\u001b[0m\u001b[1;33m\n",
       "\u001b[0m    \u001b[0mstacked\u001b[0m\u001b[1;33m=\u001b[0m\u001b[1;32mFalse\u001b[0m\u001b[1;33m,\u001b[0m\u001b[1;33m\n",
       "\u001b[0m    \u001b[1;33m*\u001b[0m\u001b[1;33m,\u001b[0m\u001b[1;33m\n",
       "\u001b[0m    \u001b[0mdata\u001b[0m\u001b[1;33m=\u001b[0m\u001b[1;32mNone\u001b[0m\u001b[1;33m,\u001b[0m\u001b[1;33m\n",
       "\u001b[0m    \u001b[1;33m**\u001b[0m\u001b[0mkwargs\u001b[0m\u001b[1;33m,\u001b[0m\u001b[1;33m\n",
       "\u001b[0m\u001b[1;33m)\u001b[0m\u001b[1;33m\u001b[0m\u001b[1;33m\u001b[0m\u001b[0m\n",
       "\u001b[1;31mDocstring:\u001b[0m\n",
       "Plot a histogram.\n",
       "\n",
       "Compute and draw the histogram of *x*.  The return value is a tuple\n",
       "(*n*, *bins*, *patches*) or ([*n0*, *n1*, ...], *bins*, [*patches0*,\n",
       "*patches1*, ...]) if the input contains multiple data.  See the\n",
       "documentation of the *weights* parameter to draw a histogram of\n",
       "already-binned data.\n",
       "\n",
       "Multiple data can be provided via *x* as a list of datasets\n",
       "of potentially different length ([*x0*, *x1*, ...]), or as\n",
       "a 2D ndarray in which each column is a dataset.  Note that\n",
       "the ndarray form is transposed relative to the list form.\n",
       "\n",
       "Masked arrays are not supported.\n",
       "\n",
       "The *bins*, *range*, *weights*, and *density* parameters behave as in\n",
       "`numpy.histogram`.\n",
       "\n",
       "Parameters\n",
       "----------\n",
       "x : (n,) array or sequence of (n,) arrays\n",
       "    Input values, this takes either a single array or a sequence of\n",
       "    arrays which are not required to be of the same length.\n",
       "\n",
       "bins : int or sequence or str, default: :rc:`hist.bins`\n",
       "    If *bins* is an integer, it defines the number of equal-width bins\n",
       "    in the range.\n",
       "\n",
       "    If *bins* is a sequence, it defines the bin edges, including the\n",
       "    left edge of the first bin and the right edge of the last bin;\n",
       "    in this case, bins may be unequally spaced.  All but the last\n",
       "    (righthand-most) bin is half-open.  In other words, if *bins* is::\n",
       "\n",
       "        [1, 2, 3, 4]\n",
       "\n",
       "    then the first bin is ``[1, 2)`` (including 1, but excluding 2) and\n",
       "    the second ``[2, 3)``.  The last bin, however, is ``[3, 4]``, which\n",
       "    *includes* 4.\n",
       "\n",
       "    If *bins* is a string, it is one of the binning strategies\n",
       "    supported by `numpy.histogram_bin_edges`: 'auto', 'fd', 'doane',\n",
       "    'scott', 'stone', 'rice', 'sturges', or 'sqrt'.\n",
       "\n",
       "range : tuple or None, default: None\n",
       "    The lower and upper range of the bins. Lower and upper outliers\n",
       "    are ignored. If not provided, *range* is ``(x.min(), x.max())``.\n",
       "    Range has no effect if *bins* is a sequence.\n",
       "\n",
       "    If *bins* is a sequence or *range* is specified, autoscaling\n",
       "    is based on the specified bin range instead of the\n",
       "    range of x.\n",
       "\n",
       "density : bool, default: False\n",
       "    If ``True``, draw and return a probability density: each bin\n",
       "    will display the bin's raw count divided by the total number of\n",
       "    counts *and the bin width*\n",
       "    (``density = counts / (sum(counts) * np.diff(bins))``),\n",
       "    so that the area under the histogram integrates to 1\n",
       "    (``np.sum(density * np.diff(bins)) == 1``).\n",
       "\n",
       "    If *stacked* is also ``True``, the sum of the histograms is\n",
       "    normalized to 1.\n",
       "\n",
       "weights : (n,) array-like or None, default: None\n",
       "    An array of weights, of the same shape as *x*.  Each value in\n",
       "    *x* only contributes its associated weight towards the bin count\n",
       "    (instead of 1).  If *density* is ``True``, the weights are\n",
       "    normalized, so that the integral of the density over the range\n",
       "    remains 1.\n",
       "\n",
       "    This parameter can be used to draw a histogram of data that has\n",
       "    already been binned, e.g. using `numpy.histogram` (by treating each\n",
       "    bin as a single point with a weight equal to its count) ::\n",
       "\n",
       "        counts, bins = np.histogram(data)\n",
       "        plt.hist(bins[:-1], bins, weights=counts)\n",
       "\n",
       "    (or you may alternatively use `~.bar()`).\n",
       "\n",
       "cumulative : bool or -1, default: False\n",
       "    If ``True``, then a histogram is computed where each bin gives the\n",
       "    counts in that bin plus all bins for smaller values. The last bin\n",
       "    gives the total number of datapoints.\n",
       "\n",
       "    If *density* is also ``True`` then the histogram is normalized such\n",
       "    that the last bin equals 1.\n",
       "\n",
       "    If *cumulative* is a number less than 0 (e.g., -1), the direction\n",
       "    of accumulation is reversed.  In this case, if *density* is also\n",
       "    ``True``, then the histogram is normalized such that the first bin\n",
       "    equals 1.\n",
       "\n",
       "bottom : array-like, scalar, or None, default: None\n",
       "    Location of the bottom of each bin, ie. bins are drawn from\n",
       "    ``bottom`` to ``bottom + hist(x, bins)`` If a scalar, the bottom\n",
       "    of each bin is shifted by the same amount. If an array, each bin\n",
       "    is shifted independently and the length of bottom must match the\n",
       "    number of bins. If None, defaults to 0.\n",
       "\n",
       "histtype : {'bar', 'barstacked', 'step', 'stepfilled'}, default: 'bar'\n",
       "    The type of histogram to draw.\n",
       "\n",
       "    - 'bar' is a traditional bar-type histogram.  If multiple data\n",
       "      are given the bars are arranged side by side.\n",
       "    - 'barstacked' is a bar-type histogram where multiple\n",
       "      data are stacked on top of each other.\n",
       "    - 'step' generates a lineplot that is by default unfilled.\n",
       "    - 'stepfilled' generates a lineplot that is by default filled.\n",
       "\n",
       "align : {'left', 'mid', 'right'}, default: 'mid'\n",
       "    The horizontal alignment of the histogram bars.\n",
       "\n",
       "    - 'left': bars are centered on the left bin edges.\n",
       "    - 'mid': bars are centered between the bin edges.\n",
       "    - 'right': bars are centered on the right bin edges.\n",
       "\n",
       "orientation : {'vertical', 'horizontal'}, default: 'vertical'\n",
       "    If 'horizontal', `~.Axes.barh` will be used for bar-type histograms\n",
       "    and the *bottom* kwarg will be the left edges.\n",
       "\n",
       "rwidth : float or None, default: None\n",
       "    The relative width of the bars as a fraction of the bin width.  If\n",
       "    ``None``, automatically compute the width.\n",
       "\n",
       "    Ignored if *histtype* is 'step' or 'stepfilled'.\n",
       "\n",
       "log : bool, default: False\n",
       "    If ``True``, the histogram axis will be set to a log scale.\n",
       "\n",
       "color : color or array-like of colors or None, default: None\n",
       "    Color or sequence of colors, one per dataset.  Default (``None``)\n",
       "    uses the standard line color sequence.\n",
       "\n",
       "label : str or None, default: None\n",
       "    String, or sequence of strings to match multiple datasets.  Bar\n",
       "    charts yield multiple patches per dataset, but only the first gets\n",
       "    the label, so that `~.Axes.legend` will work as expected.\n",
       "\n",
       "stacked : bool, default: False\n",
       "    If ``True``, multiple data are stacked on top of each other If\n",
       "    ``False`` multiple data are arranged side by side if histtype is\n",
       "    'bar' or on top of each other if histtype is 'step'\n",
       "\n",
       "Returns\n",
       "-------\n",
       "n : array or list of arrays\n",
       "    The values of the histogram bins. See *density* and *weights* for a\n",
       "    description of the possible semantics.  If input *x* is an array,\n",
       "    then this is an array of length *nbins*. If input is a sequence of\n",
       "    arrays ``[data1, data2, ...]``, then this is a list of arrays with\n",
       "    the values of the histograms for each of the arrays in the same\n",
       "    order.  The dtype of the array *n* (or of its element arrays) will\n",
       "    always be float even if no weighting or normalization is used.\n",
       "\n",
       "bins : array\n",
       "    The edges of the bins. Length nbins + 1 (nbins left edges and right\n",
       "    edge of last bin).  Always a single array even when multiple data\n",
       "    sets are passed in.\n",
       "\n",
       "patches : `.BarContainer` or list of a single `.Polygon` or list of such objects\n",
       "    Container of individual artists used to create the histogram\n",
       "    or list of such containers if there are multiple input datasets.\n",
       "\n",
       "Other Parameters\n",
       "----------------\n",
       "**kwargs\n",
       "    `~matplotlib.patches.Patch` properties\n",
       "\n",
       "See Also\n",
       "--------\n",
       "hist2d : 2D histograms\n",
       "\n",
       "Notes\n",
       "-----\n",
       "For large numbers of bins (>1000), 'step' and 'stepfilled' can be\n",
       "significantly faster than 'bar' and 'barstacked'.\n",
       "\n",
       ".. note::\n",
       "    In addition to the above described arguments, this function can take\n",
       "    a *data* keyword argument. If such a *data* argument is given,\n",
       "    the following arguments can also be string ``s``, which is\n",
       "    interpreted as ``data[s]`` (unless this raises an exception):\n",
       "    *x*, *weights*.\n",
       "\n",
       "    Objects passed as **data** must support item access (``data[s]``) and\n",
       "    membership test (``s in data``).\n",
       "\u001b[1;31mFile:\u001b[0m      c:\\users\\91977\\python\\lib\\site-packages\\matplotlib\\pyplot.py\n",
       "\u001b[1;31mType:\u001b[0m      function\n"
      ]
     },
     "metadata": {},
     "output_type": "display_data"
    }
   ],
   "source": [
    "hist?"
   ]
  },
  {
   "cell_type": "code",
   "execution_count": null,
   "id": "a8c7c773-edaf-456a-8c06-6076facd398c",
   "metadata": {},
   "outputs": [],
   "source": []
  }
 ],
 "metadata": {
  "kernelspec": {
   "display_name": "Python 3 (ipykernel)",
   "language": "python",
   "name": "python3"
  },
  "language_info": {
   "codemirror_mode": {
    "name": "ipython",
    "version": 3
   },
   "file_extension": ".py",
   "mimetype": "text/x-python",
   "name": "python",
   "nbconvert_exporter": "python",
   "pygments_lexer": "ipython3",
   "version": "3.9.7"
  }
 },
 "nbformat": 4,
 "nbformat_minor": 5
}
