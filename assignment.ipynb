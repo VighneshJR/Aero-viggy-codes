{
 "cells": [
  {
   "cell_type": "code",
   "execution_count": 3,
   "id": "a8de10d6-f583-4472-bc6b-3d8b16667fd1",
   "metadata": {},
   "outputs": [],
   "source": [
    "from numpy import *\n",
    "from matplotlib.pyplot import *\n",
    "%matplotlib inline"
   ]
  },
  {
   "cell_type": "code",
   "execution_count": null,
   "id": "4d7d43ab-afdc-4526-9c81-a96791803fe4",
   "metadata": {},
   "outputs": [],
   "source": []
  },
  {
   "cell_type": "code",
   "execution_count": 4,
   "id": "4bbf2494-909d-48a1-bd47-c1fbdbc710d2",
   "metadata": {},
   "outputs": [],
   "source": [
    "def area_poly(n):\n",
    "    area = n*sin(pi/n)*cos(pi/n)\n",
    "    return area"
   ]
  },
  {
   "cell_type": "code",
   "execution_count": 5,
   "id": "a90326ec-abef-4e0c-9e8e-dc166ac988d5",
   "metadata": {},
   "outputs": [],
   "source": [
    "n_faces = [ 3,4,5,6,7,8,9,10]"
   ]
  },
  {
   "cell_type": "code",
   "execution_count": 6,
   "id": "40cd75a9-5252-4720-85fa-88c3eaae18c3",
   "metadata": {},
   "outputs": [
    {
     "name": "stdout",
     "output_type": "stream",
     "text": [
      "[3, 4, 5, 6, 7, 8, 9, 10]\n"
     ]
    }
   ],
   "source": [
    "print(n_faces)"
   ]
  },
  {
   "cell_type": "code",
   "execution_count": 7,
   "id": "da9a1207-9366-42c2-ae43-4178ee1689c3",
   "metadata": {},
   "outputs": [
    {
     "name": "stdout",
     "output_type": "stream",
     "text": [
      "1.2990381056766582\n",
      "2.0000000000000004\n",
      "2.377641290737884\n",
      "2.5980762113533156\n",
      "2.7364101886381045\n",
      "2.8284271247461903\n",
      "2.8925442435894273\n",
      "2.9389262614623655\n"
     ]
    }
   ],
   "source": [
    "for n in n_faces :\n",
    "    print(area_poly(n))"
   ]
  },
  {
   "cell_type": "code",
   "execution_count": 8,
   "id": "fbb0b949-ca6c-4d77-a1d0-3155ab1e5ae6",
   "metadata": {},
   "outputs": [],
   "source": [
    "n_faces.append(12)"
   ]
  },
  {
   "cell_type": "code",
   "execution_count": 9,
   "id": "0f0c9ead-6590-448c-b803-daaa04f0914b",
   "metadata": {},
   "outputs": [],
   "source": [
    "poly_area =[]\n",
    "for n in n_faces :\n",
    "    area = area_poly(n)\n",
    "    poly_area.append(area)"
   ]
  },
  {
   "cell_type": "code",
   "execution_count": 10,
   "id": "0d5f40be-659d-4bba-a83d-01251fc19b3e",
   "metadata": {},
   "outputs": [
    {
     "name": "stdout",
     "output_type": "stream",
     "text": [
      "[1.2990381056766582, 2.0000000000000004, 2.377641290737884, 2.5980762113533156, 2.7364101886381045, 2.8284271247461903, 2.8925442435894273, 2.9389262614623655, 3.0]\n"
     ]
    }
   ],
   "source": [
    "print(poly_area)"
   ]
  },
  {
   "cell_type": "code",
   "execution_count": 11,
   "id": "e8ba0cb3-6e24-48a5-9d4b-fd775de74578",
   "metadata": {},
   "outputs": [
    {
     "data": {
      "text/plain": [
       "Text(0, 0.5, 'area')"
      ]
     },
     "execution_count": 11,
     "metadata": {},
     "output_type": "execute_result"
    },
    {
     "data": {
      "image/png": "[encoded data removed]",
      "text/plain": [
       "<Figure size 432x288 with 1 Axes>"
      ]
     },
     "metadata": {
      "needs_background": "light"
     },
     "output_type": "display_data"
    }
   ],
   "source": [
    "plot(n_faces,poly_area , 'k--',markersize=5)\n",
    "xlabel('number of faces')\n",
    "ylabel('area')"
   ]
  },
  {
   "cell_type": "code",
   "execution_count": 12,
   "id": "8eacba76-16e4-4df6-864a-fa716ba89126",
   "metadata": {},
   "outputs": [
    {
     "data": {
      "text/plain": [
       "(2+0j)"
      ]
     },
     "execution_count": 12,
     "metadata": {},
     "output_type": "execute_result"
    }
   ],
   "source": [
    "4 + 0j -2"
   ]
  },
  {
   "cell_type": "code",
   "execution_count": 13,
   "id": "e4faa10a-2b25-4a6d-85f8-a2263827d77b",
   "metadata": {},
   "outputs": [
    {
     "data": {
      "text/plain": [
       "1j"
      ]
     },
     "execution_count": 13,
     "metadata": {},
     "output_type": "execute_result"
    }
   ],
   "source": [
    "1j"
   ]
  },
  {
   "cell_type": "code",
   "execution_count": 14,
   "id": "31226cb3-4530-4e54-b11f-947bbfbb781c",
   "metadata": {},
   "outputs": [
    {
     "data": {
      "text/plain": [
       "(4+1j)"
      ]
     },
     "execution_count": 14,
     "metadata": {},
     "output_type": "execute_result"
    }
   ],
   "source": [
    "1j + 4"
   ]
  },
  {
   "cell_type": "code",
   "execution_count": 15,
   "id": "89e20931-854e-4f19-a437-a4580855d6c7",
   "metadata": {},
   "outputs": [
    {
     "data": {
      "text/plain": [
       "4j"
      ]
     },
     "execution_count": 15,
     "metadata": {},
     "output_type": "execute_result"
    }
   ],
   "source": [
    "4j"
   ]
  },
  {
   "cell_type": "code",
   "execution_count": 16,
   "id": "a62f5bc4-b0c0-4bde-9e32-9d6a51269907",
   "metadata": {},
   "outputs": [
    {
     "data": {
      "text/plain": [
       "101"
      ]
     },
     "execution_count": 16,
     "metadata": {},
     "output_type": "execute_result"
    }
   ],
   "source": [
    "hypo=[i*0.01 for i in range(101)]\n",
    "prior=[0.01 for i in range(101)]\n",
    "len(hypo)\n"
   ]
  },
  {
   "cell_type": "code",
   "execution_count": 17,
   "id": "a917dc1b-5f75-44cf-b6b8-42cc835258d4",
   "metadata": {},
   "outputs": [],
   "source": [
    "def baybox(hp,pr,ts) :\n",
    "    n =len(hp)\n",
    "    lh=[0.0 for i in range(n)]\n",
    "    ps =[0.0 for i in range(n)]\n",
    "    if ts=='T':\n",
    "        lh = [1-h for h in hp]\n",
    "    elif ts=='H':\n",
    "        lh = [h for h in hp]\n",
    "    for i in range(n):\n",
    "        lh[i] =lh[i]*pr[i]\n",
    "    z=0.0\n",
    "    for l in lh:\n",
    "        z = z + l\n",
    "    for i in range(n):\n",
    "        ps[i]=lh[i]/z\n",
    "    \n",
    "    return ps\n",
    "    \n",
    "  \n"
   ]
  },
  {
   "cell_type": "code",
   "execution_count": 18,
   "id": "bed2cdca-1c11-4f58-a606-5f5d73071055",
   "metadata": {},
   "outputs": [],
   "source": [
    "cts = ['H', 'T', 'H', 'T']"
   ]
  },
  {
   "cell_type": "code",
   "execution_count": 19,
   "id": "f529e2e2-8a3b-4a3b-a5ac-4faa59159cfe",
   "metadata": {},
   "outputs": [],
   "source": [
    "post =  baybox([0.1*i for i in range(11)],[0.1 for i in range(11)],'T')"
   ]
  },
  {
   "cell_type": "code",
   "execution_count": 20,
   "id": "78d54ac7-8e1f-4952-9cd6-19bbcf6abdfa",
   "metadata": {},
   "outputs": [
    {
     "data": {
      "text/plain": [
       "[0.18181818181818182,\n",
       " 0.16363636363636364,\n",
       " 0.14545454545454548,\n",
       " 0.12727272727272726,\n",
       " 0.10909090909090907,\n",
       " 0.09090909090909091,\n",
       " 0.07272727272727271,\n",
       " 0.054545454545454536,\n",
       " 0.036363636363636355,\n",
       " 0.018181818181818177,\n",
       " 0.0]"
      ]
     },
     "execution_count": 20,
     "metadata": {},
     "output_type": "execute_result"
    }
   ],
   "source": [
    "post"
   ]
  },
  {
   "cell_type": "code",
   "execution_count": 21,
   "id": "50bc7992-7f26-4d2c-b880-b5e939acf05d",
   "metadata": {},
   "outputs": [
    {
     "data": {
      "text/plain": [
       "<StemContainer object of 3 artists>"
      ]
     },
     "execution_count": 21,
     "metadata": {},
     "output_type": "execute_result"
    },
    {
     "data": {
      "image/png": "[encoded data removed]",
      "text/plain": [
       "<Figure size 432x288 with 1 Axes>"
      ]
     },
     "metadata": {
      "needs_background": "light"
     },
     "output_type": "display_data"
    }
   ],
   "source": [
    "stem([0.1*i for i in range(11)],post)"
   ]
  },
  {
   "cell_type": "code",
   "execution_count": 22,
   "id": "fddfd335-7f65-4095-9360-8e6194c04bdd",
   "metadata": {},
   "outputs": [],
   "source": [
    "posti =  baybox([0.1*i for i in range(11)],post,'T')"
   ]
  },
  {
   "cell_type": "code",
   "execution_count": 23,
   "id": "c3ea532c-b382-4849-9b42-bfcf816a1fe0",
   "metadata": {},
   "outputs": [
    {
     "data": {
      "text/plain": [
       "[0.25974025974025977,\n",
       " 0.2103896103896104,\n",
       " 0.1662337662337663,\n",
       " 0.12727272727272726,\n",
       " 0.0935064935064935,\n",
       " 0.06493506493506494,\n",
       " 0.041558441558441545,\n",
       " 0.02337662337662337,\n",
       " 0.010389610389610386,\n",
       " 0.0025974025974025965,\n",
       " 0.0]"
      ]
     },
     "execution_count": 23,
     "metadata": {},
     "output_type": "execute_result"
    }
   ],
   "source": [
    "posti"
   ]
  },
  {
   "cell_type": "code",
   "execution_count": 24,
   "id": "eb6276d8-813b-42d3-8841-efca9f49e8f7",
   "metadata": {},
   "outputs": [
    {
     "data": {
      "text/plain": [
       "<StemContainer object of 3 artists>"
      ]
     },
     "execution_count": 24,
     "metadata": {},
     "output_type": "execute_result"
    },
    {
     "data": {
      "image/png": "[encoded data removed]",
      "text/plain": [
       "<Figure size 432x288 with 1 Axes>"
      ]
     },
     "metadata": {
      "needs_background": "light"
     },
     "output_type": "display_data"
    }
   ],
   "source": [
    "stem([0.1*i for i in range(11)],posti)"
   ]
  },
  {
   "cell_type": "code",
   "execution_count": 25,
   "id": "e3b4ca79-072c-41a1-93e0-f852d03181c7",
   "metadata": {},
   "outputs": [
    {
     "data": {
      "text/plain": [
       "[0.0,\n",
       " 0.00019801980198019806,\n",
       " 0.0003960396039603961,\n",
       " 0.0005940594059405942,\n",
       " 0.0007920792079207922,\n",
       " 0.0009900990099009903,\n",
       " 0.0011881188118811883,\n",
       " 0.0013861386138613867,\n",
       " 0.0015841584158415845,\n",
       " 0.0017821782178217825,\n",
       " 0.0019801980198019807,\n",
       " 0.002178217821782179,\n",
       " 0.0023762376237623766,\n",
       " 0.0025742574257425752,\n",
       " 0.0027722772277227734,\n",
       " 0.002970297029702971,\n",
       " 0.003168316831683169,\n",
       " 0.003366336633663367,\n",
       " 0.003564356435643565,\n",
       " 0.003762376237623763,\n",
       " 0.003960396039603961,\n",
       " 0.004158415841584159,\n",
       " 0.004356435643564358,\n",
       " 0.004554455445544555,\n",
       " 0.004752475247524753,\n",
       " 0.004950495049504951,\n",
       " 0.0051485148514851505,\n",
       " 0.005346534653465348,\n",
       " 0.005544554455445547,\n",
       " 0.005742574257425743,\n",
       " 0.005940594059405942,\n",
       " 0.00613861386138614,\n",
       " 0.006336633663366338,\n",
       " 0.006534653465346537,\n",
       " 0.006732673267326734,\n",
       " 0.006930693069306933,\n",
       " 0.00712871287128713,\n",
       " 0.007326732673267329,\n",
       " 0.007524752475247526,\n",
       " 0.007722772277227725,\n",
       " 0.007920792079207923,\n",
       " 0.00811881188118812,\n",
       " 0.008316831683168317,\n",
       " 0.008514851485148517,\n",
       " 0.008712871287128715,\n",
       " 0.008910891089108914,\n",
       " 0.00910891089108911,\n",
       " 0.00930693069306931,\n",
       " 0.009504950495049506,\n",
       " 0.009702970297029705,\n",
       " 0.009900990099009903,\n",
       " 0.010099009900990101,\n",
       " 0.010297029702970301,\n",
       " 0.010495049504950497,\n",
       " 0.010693069306930696,\n",
       " 0.010891089108910894,\n",
       " 0.011089108910891094,\n",
       " 0.011287128712871292,\n",
       " 0.011485148514851487,\n",
       " 0.011683168316831685,\n",
       " 0.011881188118811885,\n",
       " 0.012079207920792083,\n",
       " 0.01227722772277228,\n",
       " 0.012475247524752478,\n",
       " 0.012673267326732676,\n",
       " 0.012871287128712876,\n",
       " 0.013069306930693074,\n",
       " 0.01326732673267327,\n",
       " 0.013465346534653469,\n",
       " 0.013663366336633669,\n",
       " 0.013861386138613867,\n",
       " 0.014059405940594061,\n",
       " 0.01425742574257426,\n",
       " 0.014455445544554458,\n",
       " 0.014653465346534658,\n",
       " 0.014851485148514854,\n",
       " 0.015049504950495052,\n",
       " 0.01524752475247525,\n",
       " 0.01544554455445545,\n",
       " 0.015643564356435647,\n",
       " 0.015841584158415845,\n",
       " 0.016039603960396047,\n",
       " 0.01623762376237624,\n",
       " 0.01643564356435644,\n",
       " 0.016633663366336635,\n",
       " 0.016831683168316836,\n",
       " 0.017029702970297034,\n",
       " 0.01722772277227723,\n",
       " 0.01742574257425743,\n",
       " 0.01762376237623763,\n",
       " 0.017821782178217827,\n",
       " 0.018019801980198025,\n",
       " 0.01821782178217822,\n",
       " 0.018415841584158422,\n",
       " 0.01861386138613862,\n",
       " 0.018811881188118818,\n",
       " 0.019009900990099013,\n",
       " 0.01920792079207921,\n",
       " 0.01940594059405941,\n",
       " 0.01960396039603961,\n",
       " 0.019801980198019806]"
      ]
     },
     "execution_count": 25,
     "metadata": {},
     "output_type": "execute_result"
    }
   ],
   "source": [
    "pst =baybox(hypo,prior,'H')\n",
    "pst"
   ]
  },
  {
   "cell_type": "code",
   "execution_count": 26,
   "id": "e27eeab5-6c47-4c72-bc20-1f2356ffcb25",
   "metadata": {},
   "outputs": [
    {
     "data": {
      "text/plain": [
       "<StemContainer object of 3 artists>"
      ]
     },
     "execution_count": 26,
     "metadata": {},
     "output_type": "execute_result"
    },
    {
     "data": {
      "image/png": "[encoded data removed]",
      "text/plain": [
       "<Figure size 432x288 with 1 Axes>"
      ]
     },
     "metadata": {
      "needs_background": "light"
     },
     "output_type": "display_data"
    }
   ],
   "source": [
    "stem(hypo,pst)"
   ]
  },
  {
   "cell_type": "code",
   "execution_count": 27,
   "id": "835cf161-047a-4e66-a95b-1cb3161bd4a0",
   "metadata": {},
   "outputs": [
    {
     "data": {
      "text/plain": [
       "<StemContainer object of 3 artists>"
      ]
     },
     "execution_count": 27,
     "metadata": {},
     "output_type": "execute_result"
    },
    {
     "data": {
      "image/png": "[encoded data removed]",
      "text/plain": [
       "<Figure size 432x288 with 1 Axes>"
      ]
     },
     "metadata": {
      "needs_background": "light"
     },
     "output_type": "display_data"
    }
   ],
   "source": [
    "pts =baybox(hypo,prior,'T')\n",
    "stem(pts,hypo)"
   ]
  },
  {
   "cell_type": "code",
   "execution_count": 28,
   "id": "5b5f581f-91a2-41b7-83c9-a78d22e8d47f",
   "metadata": {},
   "outputs": [],
   "source": [
    "pts =baybox(hypo,prior,'T')\n"
   ]
  },
  {
   "cell_type": "code",
   "execution_count": 29,
   "id": "6fca49c5-a59e-4999-a5c1-40e69341d1c6",
   "metadata": {},
   "outputs": [
    {
     "data": {
      "text/plain": [
       "<StemContainer object of 3 artists>"
      ]
     },
     "execution_count": 29,
     "metadata": {},
     "output_type": "execute_result"
    },
    {
     "data": {
      "image/png": "[encoded data removed]",
      "text/plain": [
       "<Figure size 432x288 with 1 Axes>"
      ]
     },
     "metadata": {
      "needs_background": "light"
     },
     "output_type": "display_data"
    }
   ],
   "source": [
    "stem(hypo,pts)"
   ]
  },
  {
   "cell_type": "code",
   "execution_count": 30,
   "id": "6fb3924a-bf57-4e98-b2ed-a69c4f145acb",
   "metadata": {},
   "outputs": [],
   "source": [
    "cts = ['H', 'T', 'H', 'T','T']\n",
    "pt = baybox(hypo,prior,'T')\n",
    "for y in cts:\n",
    "    pt = baybox(hypo,pt,y)\n",
    "    "
   ]
  },
  {
   "cell_type": "code",
   "execution_count": 32,
   "id": "9c18f733-e4ba-405c-befa-b39887b45241",
   "metadata": {},
   "outputs": [
    {
     "data": {
      "text/plain": [
       "[<matplotlib.lines.Line2D at 0x2e786d47ee0>]"
      ]
     },
     "execution_count": 32,
     "metadata": {},
     "output_type": "execute_result"
    },
    {
     "data": {
      "image/png": "[encoded data removed]",
      "text/plain": [
       "<Figure size 432x288 with 1 Axes>"
      ]
     },
     "metadata": {
      "needs_background": "light"
     },
     "output_type": "display_data"
    }
   ],
   "source": [
    "\n",
    "plot(hypo,pt)"
   ]
  },
  {
   "cell_type": "markdown",
   "id": "94460af5-269b-42cb-8c90-f0d130557667",
   "metadata": {},
   "source": [
    "## PYthon"
   ]
  },
  {
   "cell_type": "markdown",
   "id": "75af8e66-e0f7-4ed2-a272-a4b571df6cae",
   "metadata": {},
   "source": [
    "$\\mathbb{P}$(E)"
   ]
  },
  {
   "cell_type": "code",
   "execution_count": 4,
   "id": "52127475-ae6a-4583-bb78-11e1aa7c3712",
   "metadata": {},
   "outputs": [],
   "source": [
    "n_faces = [i for i in range(3,101)]"
   ]
  },
  {
   "cell_type": "code",
   "execution_count": 8,
   "id": "45613ac5-8df2-4da0-b5d7-09436f4d919c",
   "metadata": {},
   "outputs": [],
   "source": [
    "intarea = [area_poly(h) for h in n_faces ]"
   ]
  },
  {
   "cell_type": "code",
   "execution_count": 9,
   "id": "310a8d52-febb-4265-a7eb-7e6b5ed8d932",
   "metadata": {},
   "outputs": [
    {
     "data": {
      "text/plain": [
       "[<matplotlib.lines.Line2D at 0x24b0c278520>]"
      ]
     },
     "execution_count": 9,
     "metadata": {},
     "output_type": "execute_result"
    },
    {
     "data": {
      "image/png": "[encoded data removed]",
      "text/plain": [
       "<Figure size 432x288 with 1 Axes>"
      ]
     },
     "metadata": {
      "needs_background": "light"
     },
     "output_type": "display_data"
    }
   ],
   "source": [
    "plot(n_faces , intarea)"
   ]
  },
  {
   "cell_type": "code",
   "execution_count": 10,
   "id": "ce8ce20a-f784-4451-b379-78d037f7c608",
   "metadata": {},
   "outputs": [],
   "source": [
    "extarea = [ h*tan(pi/h) for h in n_faces ]"
   ]
  },
  {
   "cell_type": "code",
   "execution_count": 12,
   "id": "1d699fed-6764-4268-b8de-21f265cd0858",
   "metadata": {},
   "outputs": [
    {
     "data": {
      "text/plain": [
       "[<matplotlib.lines.Line2D at 0x24b0ca84d90>]"
      ]
     },
     "execution_count": 12,
     "metadata": {},
     "output_type": "execute_result"
    },
    {
     "data": {
      "image/png": "[encoded data removed]",
      "text/plain": [
       "<Figure size 432x288 with 1 Axes>"
      ]
     },
     "metadata": {
      "needs_background": "light"
     },
     "output_type": "display_data"
    }
   ],
   "source": [
    "plot(n_faces ,extarea)\n",
    "plot(n_faces , intarea)"
   ]
  },
  {
   "cell_type": "code",
   "execution_count": 13,
   "id": "02692ef8-9d69-4445-81df-d82fafdd517d",
   "metadata": {},
   "outputs": [],
   "source": [
    "difference = [ extarea[i] - intarea[i] for i in range(len(n_faces))]"
   ]
  },
  {
   "cell_type": "code",
   "execution_count": 14,
   "id": "6eecddb0-d6d8-4caa-a266-3e91a9cf73d7",
   "metadata": {},
   "outputs": [
    {
     "data": {
      "text/plain": [
       "[<matplotlib.lines.Line2D at 0x24b0caeeca0>]"
      ]
     },
     "execution_count": 14,
     "metadata": {},
     "output_type": "execute_result"
    },
    {
     "data": {
      "image/png": "[encoded data removed]",
      "text/plain": [
       "<Figure size 432x288 with 1 Axes>"
      ]
     },
     "metadata": {
      "needs_background": "light"
     },
     "output_type": "display_data"
    }
   ],
   "source": [
    "plot(n_faces,difference)"
   ]
  },
  {
   "cell_type": "markdown",
   "id": "fe83c27e-983c-4e1e-babf-4339b73260f5",
   "metadata": {},
   "source": [
    "$\\color{green}{funny}$"
   ]
  },
  {
   "cell_type": "code",
   "execution_count": null,
   "id": "1893373b-8545-48a0-a0c3-e3a52da4d762",
   "metadata": {},
   "outputs": [],
   "source": []
  }
 ],
 "metadata": {
  "kernelspec": {
   "display_name": "Python 3 (ipykernel)",
   "language": "python",
   "name": "python3"
  },
  "language_info": {
   "codemirror_mode": {
    "name": "ipython",
    "version": 3
   },
   "file_extension": ".py",
   "mimetype": "text/x-python",
   "name": "python",
   "nbconvert_exporter": "python",
   "pygments_lexer": "ipython3",
   "version": "3.9.7"
  }
 },
 "nbformat": 4,
 "nbformat_minor": 5
}
