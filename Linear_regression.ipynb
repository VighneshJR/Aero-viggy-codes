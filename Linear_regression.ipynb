{
 "cells": [
  {
   "cell_type": "markdown",
   "id": "e821d670-703d-4bb0-b826-3084edda45c3",
   "metadata": {
    "tags": []
   },
   "source": [
    "# Linear Regression"
   ]
  },
  {
   "cell_type": "code",
   "execution_count": 1,
   "id": "61041415-1952-4514-9d5e-b4ecaa622bda",
   "metadata": {},
   "outputs": [],
   "source": [
    "from numpy import *\n",
    "from matplotlib.pyplot import *\n",
    "%matplotlib inline"
   ]
  },
  {
   "cell_type": "code",
   "execution_count": 2,
   "id": "46973780-8d3a-433d-aea5-6f7c4bc5017f",
   "metadata": {},
   "outputs": [],
   "source": [
    "import seaborn as sns\n",
    "import pandas as pd"
   ]
  },
  {
   "cell_type": "code",
   "execution_count": 3,
   "id": "17ddfa09-068c-4570-b25e-113e7c1d75eb",
   "metadata": {},
   "outputs": [],
   "source": [
    "hubble =pd.read_csv('hubble.csv', sep =',')"
   ]
  },
  {
   "cell_type": "code",
   "execution_count": 4,
   "id": "4e7efc24-f777-434b-a2e9-76dfdabe49e5",
   "metadata": {},
   "outputs": [
    {
     "data": {
      "text/html": [
       "<div>\n",
       "<style scoped>\n",
       "    .dataframe tbody tr th:only-of-type {\n",
       "        vertical-align: middle;\n",
       "    }\n",
       "\n",
       "    .dataframe tbody tr th {\n",
       "        vertical-align: top;\n",
       "    }\n",
       "\n",
       "    .dataframe thead th {\n",
       "        text-align: right;\n",
       "    }\n",
       "</style>\n",
       "<table border=\"1\" class=\"dataframe\">\n",
       "  <thead>\n",
       "    <tr style=\"text-align: right;\">\n",
       "      <th></th>\n",
       "      <th>galaxy</th>\n",
       "      <th>distance</th>\n",
       "      <th>velocity</th>\n",
       "    </tr>\n",
       "  </thead>\n",
       "  <tbody>\n",
       "    <tr>\n",
       "      <th>0</th>\n",
       "      <td>S.Mag</td>\n",
       "      <td>0.032</td>\n",
       "      <td>170</td>\n",
       "    </tr>\n",
       "    <tr>\n",
       "      <th>1</th>\n",
       "      <td>L.Mag</td>\n",
       "      <td>0.034</td>\n",
       "      <td>290</td>\n",
       "    </tr>\n",
       "    <tr>\n",
       "      <th>2</th>\n",
       "      <td>NGC.6822</td>\n",
       "      <td>0.214</td>\n",
       "      <td>-130</td>\n",
       "    </tr>\n",
       "    <tr>\n",
       "      <th>3</th>\n",
       "      <td>NGC.598</td>\n",
       "      <td>0.263</td>\n",
       "      <td>-70</td>\n",
       "    </tr>\n",
       "    <tr>\n",
       "      <th>4</th>\n",
       "      <td>NGC.221</td>\n",
       "      <td>0.275</td>\n",
       "      <td>-185</td>\n",
       "    </tr>\n",
       "  </tbody>\n",
       "</table>\n",
       "</div>"
      ],
      "text/plain": [
       "     galaxy  distance  velocity\n",
       "0     S.Mag     0.032       170\n",
       "1     L.Mag     0.034       290\n",
       "2  NGC.6822     0.214      -130\n",
       "3   NGC.598     0.263       -70\n",
       "4   NGC.221     0.275      -185"
      ]
     },
     "execution_count": 4,
     "metadata": {},
     "output_type": "execute_result"
    }
   ],
   "source": [
    "hubble.head()"
   ]
  },
  {
   "cell_type": "code",
   "execution_count": 6,
   "id": "c3642ccc-c068-4da2-8c19-e9d92497b251",
   "metadata": {},
   "outputs": [
    {
     "data": {
      "text/plain": [
       "Text(0, 0.5, 'velocity')"
      ]
     },
     "execution_count": 6,
     "metadata": {},
     "output_type": "execute_result"
    },
    {
     "data": {
      "image/png": "[encoded data removed]",
      "text/plain": [
       "<Figure size 432x288 with 1 Axes>"
      ]
     },
     "metadata": {
      "needs_background": "light"
     },
     "output_type": "display_data"
    }
   ],
   "source": [
    "x=hubble['distance'].to_numpy()\n",
    "y=hubble['velocity'].to_numpy()\n",
    "#plot(x,y,'ro',markersize=5)\n",
    "scatter(x,y)\n",
    "xlabel(\"distance\")\n",
    "ylabel(\"velocity\")\n"
   ]
  },
  {
   "cell_type": "code",
   "execution_count": 7,
   "id": "0fb07e37-31df-4447-a161-488ab8a96542",
   "metadata": {},
   "outputs": [],
   "source": [
    "def compute_lin_reg(x,y):\n",
    "    x_bar=mean(x)\n",
    "    y_bar=mean(y)\n",
    "    sxx=sum((x-x_bar)**2)\n",
    "    sxy=sum((x-x_bar)*(y-y_bar))\n",
    "    b1=sxy/sxx\n",
    "    b0=y_bar - b1*x_bar\n",
    "    return b0,b1\n"
   ]
  },
  {
   "cell_type": "code",
   "execution_count": 8,
   "id": "e41000df-abdd-4060-bf7a-787aa16fb6cd",
   "metadata": {},
   "outputs": [],
   "source": [
    "b0,b1=compute_lin_reg(x,y)"
   ]
  },
  {
   "cell_type": "code",
   "execution_count": 9,
   "id": "188df3bf-1864-43d1-bec0-9334120d0310",
   "metadata": {},
   "outputs": [
    {
     "name": "stdout",
     "output_type": "stream",
     "text": [
      "-40.783649095860426 454.1584409226284\n"
     ]
    }
   ],
   "source": [
    "print(b0,b1)"
   ]
  },
  {
   "cell_type": "code",
   "execution_count": 10,
   "id": "8230f63d-4d91-4be6-b168-c9fa7c499364",
   "metadata": {},
   "outputs": [
    {
     "data": {
      "text/plain": [
       "Text(0, 0.5, 'velocity')"
      ]
     },
     "execution_count": 10,
     "metadata": {},
     "output_type": "execute_result"
    },
    {
     "data": {
      "image/png": "[encoded data removed]",
      "text/plain": [
       "<Figure size 432x288 with 1 Axes>"
      ]
     },
     "metadata": {
      "needs_background": "light"
     },
     "output_type": "display_data"
    }
   ],
   "source": [
    "plot(x,y,'ro',markersize=5)\n",
    "plot(x,b0+b1*x,'b-',markersize=30)\n",
    "xlabel(\"distance\")\n",
    "ylabel(\"velocity\")\n"
   ]
  },
  {
   "cell_type": "code",
   "execution_count": 11,
   "id": "8b6bf016-bcf1-4588-9ca9-0f1c6d5347de",
   "metadata": {},
   "outputs": [
    {
     "name": "stdout",
     "output_type": "stream",
     "text": [
      "-40.783649095860504 454.1584409226282\n"
     ]
    }
   ],
   "source": [
    "b1,b0=polyfit(x,y,1) # fits a polynomial of degree n ( 3rd argument )\n",
    "print(b0,b1)"
   ]
  },
  {
   "cell_type": "code",
   "execution_count": 12,
   "id": "7b6cc147-f7f0-4eed-8202-2328564ac220",
   "metadata": {},
   "outputs": [],
   "source": [
    "d,a,b,c=polyfit(x,y,3)\n",
    "b=d*(x**3)+a*(x**2)+b*x+c"
   ]
  },
  {
   "cell_type": "code",
   "execution_count": 13,
   "id": "18d41679-3148-4446-957c-c21f12c88358",
   "metadata": {},
   "outputs": [
    {
     "data": {
      "text/plain": [
       "[<matplotlib.lines.Line2D at 0x283bdfc4160>]"
      ]
     },
     "execution_count": 13,
     "metadata": {},
     "output_type": "execute_result"
    },
    {
     "data": {
      "image/png": "[encoded data removed]",
      "text/plain": [
       "<Figure size 432x288 with 1 Axes>"
      ]
     },
     "metadata": {
      "needs_background": "light"
     },
     "output_type": "display_data"
    }
   ],
   "source": [
    "plot(x,b,'b-')\n",
    "plot(x,y,'ro',markersize=5)"
   ]
  },
  {
   "cell_type": "code",
   "execution_count": 44,
   "id": "638055cf-bb44-404f-b2da-d4b0d7b5fe4d",
   "metadata": {},
   "outputs": [],
   "source": [
    "def compute_R2(x,y):\n",
    "    b0,b1=compute_lin_reg(x,y)\n",
    "    x_bar=mean(x)\n",
    "    y_bar=mean(y)\n",
    "    y_hat=b0+b1*x\n",
    "    SSR=sum((y_hat-y_bar)**2)\n",
    "    SST=sum((y-y_bar)**2)\n",
    "    return SSR/SST\n",
    "    \n"
   ]
  },
  {
   "cell_type": "code",
   "execution_count": 45,
   "id": "b8a559e8-3fcd-4236-9324-96506649dc7d",
   "metadata": {},
   "outputs": [
    {
     "data": {
      "text/plain": [
       "0.6235305209067517"
      ]
     },
     "execution_count": 45,
     "metadata": {},
     "output_type": "execute_result"
    }
   ],
   "source": [
    "compute_R2(x,y)"
   ]
  },
  {
   "cell_type": "markdown",
   "id": "42b08e01-eb6d-48ad-9e10-8bbef5ef0ab0",
   "metadata": {},
   "source": [
    "0.62 is closer to 1 but by a very small margin thus linear fit is a very bad fit"
   ]
  },
  {
   "cell_type": "code",
   "execution_count": 46,
   "id": "1a272bf9-fb41-4845-9a8a-0d9d9d43e3b0",
   "metadata": {},
   "outputs": [],
   "source": [
    "\n",
    "def compute_R2_3(x,y):\n",
    "    d,a,b,c=polyfit(x,y,3)\n",
    "    y_hat=d*(x**3)+a*(x**2)+b*x+c\n",
    "    x_bar=mean(x)\n",
    "    y_bar=mean(y)\n",
    "    \n",
    "    SSR=sum((y_hat-y_bar)**2)\n",
    "    SST=sum((y-y_bar)**2)\n",
    "    return SSR/SST"
   ]
  },
  {
   "cell_type": "code",
   "execution_count": 47,
   "id": "77359fd9-361e-4818-9aa3-b5bfc44fe45c",
   "metadata": {},
   "outputs": [
    {
     "data": {
      "text/plain": [
       "0.6649663493592186"
      ]
     },
     "execution_count": 47,
     "metadata": {},
     "output_type": "execute_result"
    }
   ],
   "source": [
    "compute_R2_3(x,y)"
   ]
  },
  {
   "cell_type": "markdown",
   "id": "641c3e14-be5b-459b-be3d-188f1ea4b593",
   "metadata": {
    "tags": []
   },
   "source": [
    "# Statistical inference of Linear regression"
   ]
  },
  {
   "cell_type": "code",
   "execution_count": 1,
   "id": "eb75f4ec-0487-436d-8466-111f1b1fa903",
   "metadata": {},
   "outputs": [],
   "source": [
    "from numpy import *\n",
    "from matplotlib.pyplot import *\n",
    "%matplotlib inline\n",
    "import seaborn as sns\n",
    "import pandas as pd\n",
    "hubble =pd.read_csv('hubble.csv', sep =',')"
   ]
  },
  {
   "cell_type": "code",
   "execution_count": 2,
   "id": "5ead30c3-2881-46f0-a937-c639d81a518e",
   "metadata": {},
   "outputs": [
    {
     "data": {
      "text/html": [
       "<div>\n",
       "<style scoped>\n",
       "    .dataframe tbody tr th:only-of-type {\n",
       "        vertical-align: middle;\n",
       "    }\n",
       "\n",
       "    .dataframe tbody tr th {\n",
       "        vertical-align: top;\n",
       "    }\n",
       "\n",
       "    .dataframe thead th {\n",
       "        text-align: right;\n",
       "    }\n",
       "</style>\n",
       "<table border=\"1\" class=\"dataframe\">\n",
       "  <thead>\n",
       "    <tr style=\"text-align: right;\">\n",
       "      <th></th>\n",
       "      <th>galaxy</th>\n",
       "      <th>distance</th>\n",
       "      <th>velocity</th>\n",
       "    </tr>\n",
       "  </thead>\n",
       "  <tbody>\n",
       "    <tr>\n",
       "      <th>0</th>\n",
       "      <td>S.Mag</td>\n",
       "      <td>0.032</td>\n",
       "      <td>170</td>\n",
       "    </tr>\n",
       "    <tr>\n",
       "      <th>1</th>\n",
       "      <td>L.Mag</td>\n",
       "      <td>0.034</td>\n",
       "      <td>290</td>\n",
       "    </tr>\n",
       "    <tr>\n",
       "      <th>2</th>\n",
       "      <td>NGC.6822</td>\n",
       "      <td>0.214</td>\n",
       "      <td>-130</td>\n",
       "    </tr>\n",
       "    <tr>\n",
       "      <th>3</th>\n",
       "      <td>NGC.598</td>\n",
       "      <td>0.263</td>\n",
       "      <td>-70</td>\n",
       "    </tr>\n",
       "    <tr>\n",
       "      <th>4</th>\n",
       "      <td>NGC.221</td>\n",
       "      <td>0.275</td>\n",
       "      <td>-185</td>\n",
       "    </tr>\n",
       "  </tbody>\n",
       "</table>\n",
       "</div>"
      ],
      "text/plain": [
       "     galaxy  distance  velocity\n",
       "0     S.Mag     0.032       170\n",
       "1     L.Mag     0.034       290\n",
       "2  NGC.6822     0.214      -130\n",
       "3   NGC.598     0.263       -70\n",
       "4   NGC.221     0.275      -185"
      ]
     },
     "execution_count": 2,
     "metadata": {},
     "output_type": "execute_result"
    }
   ],
   "source": [
    "hubble.head()"
   ]
  },
  {
   "cell_type": "code",
   "execution_count": 4,
   "id": "fd0b6be2-6995-4ac7-90cb-eb29dde81c23",
   "metadata": {},
   "outputs": [],
   "source": [
    "def compute_lin_reg(x,y):\n",
    "    x_bar=mean(x)\n",
    "    y_bar=mean(y)\n",
    "    sxx=sum((x-x_bar)**2)\n",
    "    sxy=sum((x-x_bar)*(y-y_bar))\n",
    "    b1=sxy/sxx\n",
    "    b0=y_bar - b1*x_bar\n",
    "    return b0,b1,sxx\n"
   ]
  },
  {
   "cell_type": "code",
   "execution_count": 5,
   "id": "934ce325-add6-4ae7-b8a9-def7a3673ac7",
   "metadata": {},
   "outputs": [],
   "source": [
    "x=hubble['distance'].to_numpy()\n",
    "y=hubble['velocity'].to_numpy()"
   ]
  },
  {
   "cell_type": "code",
   "execution_count": 6,
   "id": "ef196ce9-6422-4072-a0da-14e6af1511f0",
   "metadata": {},
   "outputs": [
    {
     "data": {
      "text/plain": [
       "(-40.783649095860426, 454.1584409226284, 9.583289624999999)"
      ]
     },
     "execution_count": 6,
     "metadata": {},
     "output_type": "execute_result"
    }
   ],
   "source": [
    "compute_lin_reg(x,y)"
   ]
  },
  {
   "cell_type": "code",
   "execution_count": 10,
   "id": "6d02ed15-5cd5-450c-bfa1-bc2f40760e2b",
   "metadata": {},
   "outputs": [],
   "source": [
    "def compute_S(x,y):\n",
    "    b0,b1,s=compute_lin_reg(x,y)\n",
    "    y_bar=mean(y)\n",
    "    y_hat=b0+b1*x\n",
    "    SSR=sum((y_hat-y)**2)\n",
    "    return SSR/(len(x)-2)\n",
    "    "
   ]
  },
  {
   "cell_type": "code",
   "execution_count": 18,
   "id": "e91a0d4c-3702-40f9-86c8-bc5afacdd3ba",
   "metadata": {},
   "outputs": [
    {
     "data": {
      "text/plain": [
       "232.9106701830066"
      ]
     },
     "execution_count": 18,
     "metadata": {},
     "output_type": "execute_result"
    }
   ],
   "source": [
    "S= sqrt(compute_S(x,y))\n",
    "S"
   ]
  },
  {
   "cell_type": "code",
   "execution_count": 15,
   "id": "9fe72f41-f91b-40b4-b510-78b9433c4ddf",
   "metadata": {},
   "outputs": [
    {
     "data": {
      "text/plain": [
       "2.0738730679040147"
      ]
     },
     "execution_count": 15,
     "metadata": {},
     "output_type": "execute_result"
    }
   ],
   "source": [
    "import scipy.stats as stats\n",
    "t95=stats.t.ppf(1-0.025,df=len(x)-2)\n",
    "t95"
   ]
  },
  {
   "cell_type": "code",
   "execution_count": 19,
   "id": "586c77f0-deeb-4a91-925e-8a7489ed5c67",
   "metadata": {},
   "outputs": [],
   "source": [
    "b0,b1,sxx=compute_lin_reg(x,y)"
   ]
  },
  {
   "cell_type": "code",
   "execution_count": 21,
   "id": "1a3a8209-fa17-4878-869d-191b3b423d15",
   "metadata": {},
   "outputs": [
    {
     "data": {
      "text/plain": [
       "(298.1262344360773, 610.1906474091795)"
      ]
     },
     "execution_count": 21,
     "metadata": {},
     "output_type": "execute_result"
    }
   ],
   "source": [
    "b1_lo=b1- S*t95/sqrt(sxx)\n",
    "b1_hi=b1+ S*t95/sqrt(sxx)\n",
    "b1_lo,b1_hi"
   ]
  },
  {
   "cell_type": "markdown",
   "id": "e4a9b5a8-22c0-4f3c-b0b0-592aaaf28b45",
   "metadata": {},
   "source": [
    "we got a confidence interval which is humungous interval that too for 95% CI"
   ]
  },
  {
   "cell_type": "markdown",
   "id": "d3a0d767-1159-441e-beeb-c24ce34cb30e",
   "metadata": {
    "tags": []
   },
   "source": [
    "### Hypothesis testing\n",
    "H0 : $\\beta_1 $ is zero ie y is not increasing with x <br>\n",
    "$H_{A}$ : $\\beta_1 $ is zero ie y is not increasing with x \n",
    "\n",
    "$$ T = \\frac{B_1 - \\beta_1} {\\frac{S}{\\sqrt{S_{xx}}} }$$\n",
    "\n",
    "and we need assuming $\\beta_1$ = 0 the p value such that $\\mathbb{P}(t > T)$ to be less that 0.05 ( our choice)"
   ]
  },
  {
   "cell_type": "code",
   "execution_count": 23,
   "id": "7c18a445-0358-4cfa-86ad-00300f061a69",
   "metadata": {},
   "outputs": [
    {
     "data": {
      "text/plain": [
       "6.0363624946359895"
      ]
     },
     "execution_count": 23,
     "metadata": {},
     "output_type": "execute_result"
    }
   ],
   "source": [
    "T = b1*sqrt(sxx)/S\n",
    "T"
   ]
  },
  {
   "cell_type": "code",
   "execution_count": null,
   "id": "85490aa7-96d0-4b70-9cc0-c022160a3caa",
   "metadata": {},
   "outputs": [],
   "source": [
    "p_val = "
   ]
  }
 ],
 "metadata": {
  "kernelspec": {
   "display_name": "Python 3 (ipykernel)",
   "language": "python",
   "name": "python3"
  },
  "language_info": {
   "codemirror_mode": {
    "name": "ipython",
    "version": 3
   },
   "file_extension": ".py",
   "mimetype": "text/x-python",
   "name": "python",
   "nbconvert_exporter": "python",
   "pygments_lexer": "ipython3",
   "version": "3.9.7"
  }
 },
 "nbformat": 4,
 "nbformat_minor": 5
}
