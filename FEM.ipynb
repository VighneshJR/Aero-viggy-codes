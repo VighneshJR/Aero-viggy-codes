{
 "cells": [
  {
   "cell_type": "markdown",
   "id": "065269df-169d-4399-b6f6-d06d409f1a8c",
   "metadata": {},
   "source": [
    "#  AE 238 Plane Truss Analysis"
   ]
  },
  {
   "cell_type": "markdown",
   "id": "c5784e85-0689-4ada-8528-4555668e41d5",
   "metadata": {},
   "source": [
    "All physical systems follow an optimisation for stored **(potential)** energy minimisation. A struss under load takes a configuration that minimises the potential energy. We can use finite element analysis ,**FEM** , solve this optimisation problem. A hanging rop between two points , which is an infinite dimentional optimisation problem , can be approximated as made of sticks joined together, and reduce the problem to finite dimentional optimisation problem "
   ]
  },
  {
   "cell_type": "markdown",
   "id": "ab5413ad-85ca-4181-9c48-12a2a96dd703",
   "metadata": {
    "tags": []
   },
   "source": [
    "## Normal Code"
   ]
  },
  {
   "cell_type": "code",
   "execution_count": 1,
   "id": "13b3b979-aa7c-4e6d-b271-477b19cd2d0e",
   "metadata": {
    "tags": []
   },
   "outputs": [],
   "source": [
    "import numpy as np\n",
    "import matplotlib.pyplot as plt"
   ]
  },
  {
   "cell_type": "code",
   "execution_count": 2,
   "id": "a92bc867-8a99-4d23-8bc1-57c0ce7085a3",
   "metadata": {},
   "outputs": [],
   "source": [
    "dim = 2\n",
    "L = 1.0\n",
    "\n",
    "joints = np.array([\n",
    "    [0.0, 0.0],\n",
    "    [L, 0.0],\n",
    "    [0.0, L]\n",
    "])\n",
    "\n",
    "members = np.array([\n",
    "    [0, 1],\n",
    "    [1, 2],\n",
    "    [0, 2]\n",
    "], dtype=int)\n",
    "\n",
    "n_joints = len(joints)\n",
    "n_members = len(members)\n",
    "n_dofs = dim*n_joints\n",
    "\n",
    "E = 2.1e11 # Pa\n",
    "Es = E*np.ones(n_members)\n",
    "\n",
    "A = 1e-4 # m^2\n",
    "As = A*np.ones(n_members)\n",
    "\n",
    "def dist(coords1, coords2):\n",
    "    return np.sqrt(np.sum((coords2 - coords1)**2))\n",
    "\n",
    "def angle(coords1, coords2):\n",
    "    L = dist(coords1, coords2)\n",
    "    dx = coords2[0] - coords1[0]\n",
    "    return np.arccos(dx/L)\n",
    "\n",
    "def member_stiffness(coords1, coords2, E, A):\n",
    "    K = np.zeros((4, 4))\n",
    "    L = dist(coords1, coords2)\n",
    "    theta = angle(coords1, coords2)\n",
    "    c = np.cos(theta)\n",
    "    s = np.sin(theta)\n",
    "\n",
    "    K[0, 0] = c*c\n",
    "    K[0, 1] = c*s\n",
    "    K[0, 2] = -c*c\n",
    "    K[0, 3] = -c*s\n",
    "    \n",
    "    K[1, 0] = c*s\n",
    "    K[1, 1] = s*s\n",
    "    K[1, 2] = -c*s\n",
    "    K[1, 3] = -s*s\n",
    "\n",
    "    K[2, 0] = -c*c\n",
    "    K[2, 1] = -c*s\n",
    "    K[2, 2] = c*c\n",
    "    K[2, 3] = c*s\n",
    "\n",
    "    K[3, 0] = -c*s\n",
    "    K[3, 1] = -s*s\n",
    "    K[3, 2] = c*s\n",
    "    K[3, 3] = s*s\n",
    "\n",
    "    return E*A*K/L\n"
   ]
  },
  {
   "cell_type": "code",
   "execution_count": 3,
   "id": "e1b66e28-bc41-4f99-b07b-e65855bfacc1",
   "metadata": {},
   "outputs": [],
   "source": [
    "K = np.zeros((n_dofs, n_dofs))\n",
    "for i in range(n_members):\n",
    "    id1, id2 = members[i]\n",
    "    K_member = member_stiffness(joints[id1], joints[id2], Es[i], As[i])\n",
    "\n",
    "    ids = []\n",
    "    ids.append(2*id1)\n",
    "    ids.append(2*id1 + 1)\n",
    "    ids.append(2*id2)\n",
    "    ids.append(2*id2 + 1)\n",
    "\n",
    "    for j in range(4):\n",
    "        for k in range(4):\n",
    "            K[ids[j], ids[k]] += K_member[j, k]"
   ]
  },
  {
   "cell_type": "code",
   "execution_count": 4,
   "id": "aad8ad1a-b69e-41df-ae5b-1828166f6b7b",
   "metadata": {},
   "outputs": [],
   "source": [
    "P = 1e4\n",
    "Q = 1e4"
   ]
  },
  {
   "cell_type": "code",
   "execution_count": 5,
   "id": "76c0978a-01b4-45fd-b5b7-b773a8f49a4a",
   "metadata": {},
   "outputs": [],
   "source": [
    "F = np.zeros(n_dofs)\n",
    "F[2*1 + 1] = Q\n",
    "F[2*1 + 0] = P"
   ]
  },
  {
   "cell_type": "code",
   "execution_count": 6,
   "id": "5ceeb883-adb1-46d0-bedd-4339a628fbfe",
   "metadata": {},
   "outputs": [],
   "source": [
    "dofs = np.array([np.nan for _ in range(n_dofs)])\n",
    "dofs[2*0 + 0] = 0.0\n",
    "dofs[2*0 + 1] = 0.0\n",
    "dofs[2*2 + 0] = 0.0\n",
    "dofs[2*2 + 1] = 0.0"
   ]
  },
  {
   "cell_type": "code",
   "execution_count": 7,
   "id": "434e1b3a-6c1f-464e-8833-4523b9b47066",
   "metadata": {},
   "outputs": [],
   "source": [
    "n_support = 0\n",
    "K_support = []\n",
    "for i in range(n_dofs):\n",
    "    if not np.isnan(dofs[i]):\n",
    "        n_support += 1\n",
    "        K_support.append(np.array(K[i]))\n",
    "        for j in range(n_dofs):\n",
    "            if j == i:\n",
    "                K[i, j] = 1.0\n",
    "            else:\n",
    "                K[i, j] = 0.0\n",
    "\n",
    "dofs = np.linalg.solve(K, F)"
   ]
  },
  {
   "cell_type": "code",
   "execution_count": 8,
   "id": "3542ee34-37b2-4e1a-99f0-2785d0311c63",
   "metadata": {},
   "outputs": [
    {
     "data": {
      "image/png": "[encoded data removed]",
      "text/plain": [
       "<Figure size 432x432 with 1 Axes>"
      ]
     },
     "metadata": {
      "needs_background": "light"
     },
     "output_type": "display_data"
    }
   ],
   "source": [
    "reactions = np.zeros(n_support)\n",
    "for i in range(n_support):\n",
    "    reactions[i] = K_support[i] @ dofs\n",
    "\n",
    "member_forces = np.zeros(n_members)\n",
    "for i in range(n_members):\n",
    "    id1, id2 = members[i]\n",
    "    u1 = dofs[2*id1 + 0]\n",
    "    v1 = dofs[2*id1 + 1]\n",
    "    u2 = dofs[2*id2 + 0]\n",
    "    v2 = dofs[2*id2 + 1]\n",
    "    theta = angle(joints[id1], joints[id2])\n",
    "    L = dist(joints[id1], joints[id2])\n",
    "    d1 = u1*np.cos(theta) + v1*np.sin(theta)\n",
    "    d2 = u2*np.cos(theta) + v2*np.sin(theta)\n",
    "    member_forces[i] = Es[i]*As[i]*(d2 - d1)/L\n",
    "\n",
    "def plot_plane_truss(joints, members, member_forces=None, dofs=None, mag=2e1):\n",
    "    TOL = 1e-6\n",
    "    fig = plt.figure(figsize=(6, 6))\n",
    "\n",
    "    for i in range(n_members):\n",
    "        id1, id2 = members[i]\n",
    "        plt.plot(\n",
    "            [joints[id1, 0], joints[id2, 0]],\n",
    "            [joints[id1, 1], joints[id2, 1]],\n",
    "            '-', color='gray', linewidth=5)\n",
    "\n",
    "    plt.scatter(joints[:, 0], joints[:, 1], c='b', s=20)\n",
    "\n",
    "    for i in range(n_members):\n",
    "        id1, id2 = members[i]\n",
    "        x1 = joints[id1, 0] + mag*dofs[2*id1 + 0]\n",
    "        y1 = joints[id1, 1] + mag*dofs[2*id1 + 1]\n",
    "        x2 = joints[id2, 0] + mag*dofs[2*id2 + 0]\n",
    "        y2 = joints[id2, 1] + mag*dofs[2*id2 + 1]\n",
    "\n",
    "        color = 'black'\n",
    "        if member_forces[i] > TOL:\n",
    "            color = 'blue'\n",
    "        elif member_forces[i] < -TOL:\n",
    "            color = 'red'\n",
    "\n",
    "        plt.plot(\n",
    "            [x1, x2], [y1, y2],\n",
    "            '-', color=color, linewidth=3)\n",
    "\n",
    "    plt.show()\n",
    "\n",
    "plot_plane_truss(joints, members, member_forces, dofs)\n"
   ]
  },
  {
   "cell_type": "markdown",
   "id": "304d67dd-a65c-4eed-a492-7ced82c56032",
   "metadata": {
    "tags": []
   },
   "source": [
    "## Class / Object based coding approach"
   ]
  },
  {
   "cell_type": "code",
   "execution_count": 9,
   "id": "201c150e-3e43-49e5-971d-7462a901581b",
   "metadata": {},
   "outputs": [],
   "source": [
    "\"\"\"\n",
    "simple truss example libraby way\n",
    "\"\"\"\n",
    "import numpy as np\n",
    "import plane_truss_lib as amu"
   ]
  },
  {
   "cell_type": "code",
   "execution_count": 10,
   "id": "267fa0e5-7af6-44fb-a9a8-533e075e7134",
   "metadata": {},
   "outputs": [],
   "source": [
    "L=1\n",
    "joints = np.array([[0.0,0.0],[L,0.0],[0.0,L]])"
   ]
  },
  {
   "cell_type": "code",
   "execution_count": 11,
   "id": "163e08ad-1282-4ef7-9904-016e1af72471",
   "metadata": {},
   "outputs": [],
   "source": [
    "members = np.array([[0,1],[1,2],[0,2]],dtype= int)"
   ]
  },
  {
   "cell_type": "code",
   "execution_count": 12,
   "id": "b3b31829-529f-43aa-8008-af48bb5c5c1c",
   "metadata": {},
   "outputs": [],
   "source": [
    "E=2.1e11\n",
    "A=1e-4"
   ]
  },
  {
   "cell_type": "code",
   "execution_count": 13,
   "id": "24602f7c-4418-4e55-b594-25cb18351f65",
   "metadata": {},
   "outputs": [
    {
     "data": {
      "image/png": "[encoded data removed]",
      "text/plain": [
       "<Figure size 432x432 with 1 Axes>"
      ]
     },
     "metadata": {
      "needs_background": "light"
     },
     "output_type": "display_data"
    }
   ],
   "source": [
    "truss = amu.PlaneTruss(joints, members, E, A)\n",
    "truss.plot(deformed=False) #reality check"
   ]
  },
  {
   "cell_type": "code",
   "execution_count": 14,
   "id": "1a006a86-5c89-4c3f-824e-1401960ec987",
   "metadata": {},
   "outputs": [],
   "source": [
    "constraints = [\n",
    "        [0, 0, 0.0], #node 0 , directon 0 displacement =0.0\n",
    "        [0, 1, 0.0], #node 0 , direction 1 disp =0.0\n",
    "        [2, 0, 0.0], #node 2 direction 0 disp =0.0 \n",
    "        [2, 1, 0.0]  #node 2 , direction 1 dispacement =0.0\n",
    "    ]"
   ]
  },
  {
   "cell_type": "code",
   "execution_count": 15,
   "id": "03182706-f025-453b-b360-e147804cde46",
   "metadata": {},
   "outputs": [],
   "source": [
    "truss.apply_constraints(constraints)"
   ]
  },
  {
   "cell_type": "code",
   "execution_count": 16,
   "id": "42a0765c-2c4d-4af1-9105-b6867430d631",
   "metadata": {},
   "outputs": [],
   "source": [
    "P = -1e4\n",
    "Q = 3e4\n",
    "loads = [\n",
    "        [1, 0, P], #node 1 , direction 0 force P\n",
    "        [1, 1, Q]  #node 1 , direction 1 force Q\n",
    "    ]\n",
    "truss.apply_loads(loads)\n"
   ]
  },
  {
   "cell_type": "code",
   "execution_count": 17,
   "id": "68435e4e-4633-43cd-ab6e-1294f7ef3435",
   "metadata": {},
   "outputs": [],
   "source": [
    "truss.solve()"
   ]
  },
  {
   "cell_type": "code",
   "execution_count": 18,
   "id": "4e225d65-e3b3-4d52-a6b7-c6ae4c485e09",
   "metadata": {},
   "outputs": [
    {
     "data": {
      "text/plain": [
       "array([-2.32171368e-19,  0.00000000e+00,  9.52380952e-04,  4.99299113e-03,\n",
       "        0.00000000e+00,  0.00000000e+00])"
      ]
     },
     "execution_count": 18,
     "metadata": {},
     "output_type": "execute_result"
    }
   ],
   "source": [
    "truss.dofs #displacement of joints"
   ]
  },
  {
   "cell_type": "code",
   "execution_count": 19,
   "id": "c2b52406-5fba-4935-9d38-b4fc832a312a",
   "metadata": {},
   "outputs": [
    {
     "data": {
      "text/plain": [
       "array([ 2.00000000e+04, -4.24264069e+04,  2.98544319e-28])"
      ]
     },
     "execution_count": 19,
     "metadata": {},
     "output_type": "execute_result"
    }
   ],
   "source": [
    "truss.member_forces"
   ]
  },
  {
   "cell_type": "code",
   "execution_count": 20,
   "id": "a26a53fd-5233-4287-a7ea-eb2eb8c24f59",
   "metadata": {},
   "outputs": [
    {
     "data": {
      "text/plain": [
       "array([-2.00000000e+04, -2.98544319e-28,  3.00000000e+04, -3.00000000e+04])"
      ]
     },
     "execution_count": 20,
     "metadata": {},
     "output_type": "execute_result"
    }
   ],
   "source": [
    "truss.reactions"
   ]
  },
  {
   "cell_type": "code",
   "execution_count": 21,
   "id": "26a03825-c397-4eb4-8008-0ed4683a1376",
   "metadata": {},
   "outputs": [
    {
     "data": {
      "image/png": "[encoded data removed]",
      "text/plain": [
       "<Figure size 432x432 with 1 Axes>"
      ]
     },
     "metadata": {
      "needs_background": "light"
     },
     "output_type": "display_data"
    }
   ],
   "source": [
    "truss.plot()"
   ]
  },
  {
   "cell_type": "code",
   "execution_count": 35,
   "id": "b26e4753-14f5-4c5e-a39f-a7032ea2ae09",
   "metadata": {},
   "outputs": [],
   "source": [
    "A = np.array([[2,3,4],[1,2,3],[4,9,72/5]])"
   ]
  },
  {
   "cell_type": "code",
   "execution_count": 36,
   "id": "a759ea80",
   "metadata": {},
   "outputs": [],
   "source": [
    "k = np.array([1/2,1/6,1/2])"
   ]
  },
  {
   "cell_type": "code",
   "execution_count": 41,
   "id": "0e023018",
   "metadata": {},
   "outputs": [],
   "source": [
    "B= np.linalg.solve(A, k)"
   ]
  },
  {
   "cell_type": "code",
   "execution_count": 42,
   "id": "cc15b654",
   "metadata": {},
   "outputs": [
    {
     "data": {
      "text/plain": [
       "array([ 5.00000000e-01, -1.66666667e-01,  1.04083409e-16])"
      ]
     },
     "execution_count": 42,
     "metadata": {},
     "output_type": "execute_result"
    }
   ],
   "source": [
    "B + 0"
   ]
  },
  {
   "cell_type": "code",
   "execution_count": null,
   "id": "46ce28e2",
   "metadata": {},
   "outputs": [],
   "source": []
  }
 ],
 "metadata": {
  "kernelspec": {
   "display_name": "Python 3 (ipykernel)",
   "language": "python",
   "name": "python3"
  },
  "language_info": {
   "codemirror_mode": {
    "name": "ipython",
    "version": 3
   },
   "file_extension": ".py",
   "mimetype": "text/x-python",
   "name": "python",
   "nbconvert_exporter": "python",
   "pygments_lexer": "ipython3",
   "version": "3.9.7"
  }
 },
 "nbformat": 4,
 "nbformat_minor": 5
}
