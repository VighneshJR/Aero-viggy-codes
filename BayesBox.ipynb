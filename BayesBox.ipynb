{
 "cells": [
  {
   "cell_type": "code",
   "execution_count": 2,
   "id": "72e24a83-ee57-45c9-9b9b-db8ac3d1da77",
   "metadata": {},
   "outputs": [
    {
     "name": "stdout",
     "output_type": "stream",
     "text": [
      "hello\n"
     ]
    }
   ],
   "source": [
    "print(\"hello\")\n"
   ]
  },
  {
   "cell_type": "code",
   "execution_count": 3,
   "id": "6846d0b9-c20a-4160-bc6b-3b3053768ecc",
   "metadata": {},
   "outputs": [],
   "source": [
    "def double(x):\n",
    "    y=2*x\n",
    "    return y"
   ]
  },
  {
   "cell_type": "code",
   "execution_count": 4,
   "id": "e4af5072-5768-485f-954d-31c462c773be",
   "metadata": {},
   "outputs": [
    {
     "data": {
      "text/plain": [
       "4"
      ]
     },
     "execution_count": 4,
     "metadata": {},
     "output_type": "execute_result"
    }
   ],
   "source": [
    "double(2)"
   ]
  },
  {
   "cell_type": "code",
   "execution_count": 12,
   "id": "47dc68ad-4e8a-457e-a5d7-0cf6bbec6f24",
   "metadata": {},
   "outputs": [],
   "source": [
    "import math\n",
    "def poly(n):\n",
    "    area = n *math.sin(math.pi/n) * math.cos(math.pi/n) \n",
    "    return area"
   ]
  },
  {
   "cell_type": "code",
   "execution_count": 13,
   "id": "e58d8cb5-cd1b-46c2-96f6-1c5d036c84f4",
   "metadata": {},
   "outputs": [
    {
     "data": {
      "text/plain": [
       "2.377641290737884"
      ]
     },
     "execution_count": 13,
     "metadata": {},
     "output_type": "execute_result"
    }
   ],
   "source": [
    "poly(5)\n"
   ]
  },
  {
   "cell_type": "code",
   "execution_count": 9,
   "id": "88dc9512-3b79-4119-9dd2-ecf1bb2484d7",
   "metadata": {},
   "outputs": [],
   "source": [
    "from numpy import *\n",
    "from matplotlib.pyplot import *\n",
    "%matplotlib inline"
   ]
  },
  {
   "cell_type": "code",
   "execution_count": 10,
   "id": "3d77e5fd-1663-4669-8d58-0dfcb7b7c476",
   "metadata": {},
   "outputs": [
    {
     "name": "stdout",
     "output_type": "stream",
     "text": [
      "['H', 'T']\n"
     ]
    }
   ],
   "source": [
    "outcomes_toss = ['H','T']\n",
    "print(outcomes_toss)"
   ]
  },
  {
   "cell_type": "code",
   "execution_count": 11,
   "id": "f347b32d-7c90-413f-a087-cd20a3cf2f5d",
   "metadata": {},
   "outputs": [],
   "source": [
    "ps = [ 0.5,0.5]"
   ]
  },
  {
   "cell_type": "code",
   "execution_count": 12,
   "id": "7be2d1b7-8acd-40a0-b17f-eda07e8c1731",
   "metadata": {},
   "outputs": [
    {
     "data": {
      "text/plain": [
       "Text(0, 0.5, 'probability')"
      ]
     },
     "execution_count": 12,
     "metadata": {},
     "output_type": "execute_result"
    },
    {
     "data": {
      "image/png": "[encoded data removed]",
      "text/plain": [
       "<Figure size 432x288 with 1 Axes>"
      ]
     },
     "metadata": {
      "needs_background": "light"
     },
     "output_type": "display_data"
    }
   ],
   "source": [
    "stem(outcomes_toss ,ps)\n",
    "xlabel(\"outcome\")\n",
    "ylabel(\"probability\")\n"
   ]
  },
  {
   "cell_type": "code",
   "execution_count": 13,
   "id": "0ce249dd-716d-4a87-92b0-610ec963e066",
   "metadata": {},
   "outputs": [
    {
     "data": {
      "text/plain": [
       "<StemContainer object of 3 artists>"
      ]
     },
     "execution_count": 13,
     "metadata": {},
     "output_type": "execute_result"
    },
    {
     "data": {
      "image/png": "[encoded data removed]",
      "text/plain": [
       "<Figure size 432x288 with 1 Axes>"
      ]
     },
     "metadata": {
      "needs_background": "light"
     },
     "output_type": "display_data"
    }
   ],
   "source": [
    "stem([1,2,3,4,5,8])"
   ]
  },
  {
   "cell_type": "code",
   "execution_count": 14,
   "id": "20d2634a-f9a3-41af-98f2-2da2dd2c7dd1",
   "metadata": {},
   "outputs": [
    {
     "name": "stdout",
     "output_type": "stream",
     "text": [
      "[1, 2, 3, 4, 5, 6, 7, 8, 9, 10, 11, 12, 13, 14, 15, 16, 17, 18, 19, 20]\n"
     ]
    }
   ],
   "source": [
    "outcomes=[ i for i in range(1,21)]\n",
    "print(outcomes)"
   ]
  },
  {
   "cell_type": "code",
   "execution_count": 17,
   "id": "4ec7bd33-11e1-461a-b9bd-dc780ccaa771",
   "metadata": {},
   "outputs": [
    {
     "name": "stdout",
     "output_type": "stream",
     "text": [
      "1\n",
      "4\n",
      "7\n",
      "10\n",
      "13\n",
      "16\n",
      "19\n"
     ]
    }
   ],
   "source": [
    "for i in range(1,22,3):\n",
    "    print(i)"
   ]
  },
  {
   "cell_type": "code",
   "execution_count": 31,
   "id": "e2855a41-70f2-420f-b91a-16119b202fd9",
   "metadata": {},
   "outputs": [
    {
     "name": "stdout",
     "output_type": "stream",
     "text": [
      "[0.05, 0.05, 0.05, 0.05, 0.05, 0.05, 0.05, 0.05, 0.05, 0.05, 0.05, 0.05, 0.05, 0.05, 0.05, 0.05, 0.05, 0.05, 0.05, 0.05]\n"
     ]
    }
   ],
   "source": [
    "probs = [1/20 for i in range(1,21)]\n",
    "print(probs)"
   ]
  },
  {
   "cell_type": "code",
   "execution_count": 32,
   "id": "926ff540-27e8-412b-86fb-14b2a13b2bb3",
   "metadata": {},
   "outputs": [
    {
     "data": {
      "text/plain": [
       "<StemContainer object of 3 artists>"
      ]
     },
     "execution_count": 32,
     "metadata": {},
     "output_type": "execute_result"
    },
    {
     "data": {
      "image/png": "[encoded data removed]",
      "text/plain": [
       "<Figure size 432x288 with 1 Axes>"
      ]
     },
     "metadata": {
      "needs_background": "light"
     },
     "output_type": "display_data"
    }
   ],
   "source": [
    "stem(outcomes , probs)"
   ]
  },
  {
   "cell_type": "code",
   "execution_count": 2,
   "id": "10ddba98-5ef9-43e8-91ed-bbdc2be8d53c",
   "metadata": {},
   "outputs": [],
   "source": [
    "o_toss=['H','T','H','H','T']\n",
    "hypothesis = [ 0.25,0.5,0.75]\n",
    "priors =[1/3,1/3,1/3]\n",
    "def Bayes_box_cointoss(hypotheses, priors, cointoss): # This will return the posterior\n",
    "    n_hypotheses = len(hypotheses)\n",
    "    posteriors = [0.0 for i in range(n_hypotheses)]\n",
    "    likelihoods = [0.0 for i in range(n_hypotheses)]\n",
    "    \n",
    "    for i in range(n_hypotheses):\n",
    "        h = hypotheses[i]\n",
    "        if cointoss == 'H':\n",
    "            likelihoods[i] = h\n",
    "        elif cointoss == 'T':\n",
    "            likelihoods[i] = 1 - h\n",
    "            \n",
    "    for i in range(n_hypotheses):\n",
    "        likelihoods[i] = priors[i]*likelihoods[i]\n",
    "        \n",
    "    Z = 0.0\n",
    "    for l in likelihoods:\n",
    "        Z = Z + l\n",
    "        \n",
    "    for i in range(n_hypotheses):\n",
    "        posteriors[i] = likelihoods[i]/Z\n",
    "        \n",
    "    return posteriors\n",
    "            "
   ]
  },
  {
   "cell_type": "code",
   "execution_count": 3,
   "id": "248d10fc-e899-4e17-a7c4-242de46e65f5",
   "metadata": {},
   "outputs": [],
   "source": [
    "hypothesis = [ 0.25,0.5,0.75]\n",
    "priors =[1/3,1/3,1/3]\n",
    "post =  Bayes_box_cointoss( hypothesis,priors,'T')"
   ]
  },
  {
   "cell_type": "code",
   "execution_count": 4,
   "id": "f417f79c-186f-43eb-97f1-22366f5c50cf",
   "metadata": {},
   "outputs": [
    {
     "name": "stdout",
     "output_type": "stream",
     "text": [
      "[0.5000000000000001, 0.33333333333333337, 0.16666666666666669]\n"
     ]
    }
   ],
   "source": [
    "print(post)"
   ]
  },
  {
   "cell_type": "code",
   "execution_count": 5,
   "id": "0d2584d4-bed6-4ffd-8824-2c7e753d5511",
   "metadata": {},
   "outputs": [
    {
     "name": "stdout",
     "output_type": "stream",
     "text": [
      "[0.16666666666666666, 0.3333333333333333, 0.5]\n"
     ]
    }
   ],
   "source": [
    "post =  Bayes_box_cointoss( hypothesis,priors,'H')\n",
    "print(post)"
   ]
  },
  {
   "cell_type": "code",
   "execution_count": 6,
   "id": "04de1780-9ceb-43c0-97da-afc833f42ba6",
   "metadata": {},
   "outputs": [],
   "source": [
    "hypothesis = [0.01*i for i in range(101)]\n",
    "priors = [0.01 for i in range(101)]\n",
    "post=  Bayes_box_cointoss( hypothesis,priors,'H')"
   ]
  },
  {
   "cell_type": "code",
   "execution_count": 7,
   "id": "814e2272-e022-44ec-92bc-be4a37d8478a",
   "metadata": {},
   "outputs": [],
   "source": [
    "def show_pd(outcomes , ps):\n",
    "    stem(outcomes ,ps)\n"
   ]
  },
  {
   "cell_type": "code",
   "execution_count": 15,
   "id": "b54f3f93-02d9-4b1e-ab2e-f6ff1a1059f9",
   "metadata": {},
   "outputs": [
    {
     "data": {
      "image/png": "[encoded data removed]",
      "text/plain": [
       "<Figure size 432x288 with 1 Axes>"
      ]
     },
     "metadata": {
      "needs_background": "light"
     },
     "output_type": "display_data"
    }
   ],
   "source": [
    "show_pd(hypothesis, priors)"
   ]
  },
  {
   "cell_type": "code",
   "execution_count": 16,
   "id": "101edb39-ed1f-4bec-a0d9-d9c78cbb3472",
   "metadata": {},
   "outputs": [
    {
     "data": {
      "image/png": "[encoded data removed]",
      "text/plain": [
       "<Figure size 432x288 with 1 Axes>"
      ]
     },
     "metadata": {
      "needs_background": "light"
     },
     "output_type": "display_data"
    }
   ],
   "source": [
    "show_pd(hypothesis, post)"
   ]
  },
  {
   "cell_type": "code",
   "execution_count": 17,
   "id": "f5124275-2e78-47dd-b814-4f7ca6565f10",
   "metadata": {},
   "outputs": [
    {
     "data": {
      "image/png": "[encoded data removed]",
      "text/plain": [
       "<Figure size 432x288 with 1 Axes>"
      ]
     },
     "metadata": {
      "needs_background": "light"
     },
     "output_type": "display_data"
    }
   ],
   "source": [
    "post=  Bayes_box_cointoss( hypothesis,post,'T')\n",
    "show_pd(hypothesis, post)"
   ]
  },
  {
   "cell_type": "code",
   "execution_count": 2,
   "id": "4e6caa6d-6dd0-4fdb-bec1-4577400137d1",
   "metadata": {},
   "outputs": [
    {
     "name": "stdin",
     "output_type": "stream",
     "text": [
      " 3\n"
     ]
    }
   ],
   "source": [
    "n = int(input())\n"
   ]
  },
  {
   "cell_type": "code",
   "execution_count": 3,
   "id": "0a1f28f5-f415-45de-ba6c-c0a7101410f4",
   "metadata": {},
   "outputs": [
    {
     "data": {
      "text/plain": [
       "3"
      ]
     },
     "execution_count": 3,
     "metadata": {},
     "output_type": "execute_result"
    }
   ],
   "source": [
    "n \n"
   ]
  },
  {
   "cell_type": "code",
   "execution_count": 5,
   "id": "d89e46d2-a1a8-49c0-8e9c-7644f6b6e092",
   "metadata": {},
   "outputs": [
    {
     "name": "stdin",
     "output_type": "stream",
     "text": [
      " 45\n"
     ]
    },
    {
     "name": "stdout",
     "output_type": "stream",
     "text": [
      "45\n"
     ]
    }
   ],
   "source": [
    "k = int(input())\n",
    "print(k)"
   ]
  },
  {
   "cell_type": "code",
   "execution_count": 45,
   "id": "a3a7f0d7-3482-4e0f-a8f7-5581037638c0",
   "metadata": {},
   "outputs": [],
   "source": [
    "post=  Bayes_box_cointoss( hypothesis,post,'H')\n",
    "ct =[ 'H' , 'T' ,'H' , 'T' ,'H' , 'T' ,'H' , 'T' ,'H' , 'T' ,'H' , 'T' ,'H' , 'T' ,'H' , 'T' ,'H' , 'T' ,'H' , 'T' ,'H' , 'T' ,'H' , 'T' ,'H' , 'T' ,'H' , 'T' ,'H' , 'T' ,'H' , 'T' ,'H' , 'T' ,'H' , 'T' ,'H' , 'T' ,'H' , 'T' ,'H' , 'T' ,'H' , 'T' ,'H' , 'T' ,'H' , 'T' ,'H' , 'T' ,'H' , 'T' ,'H' , 'T' ,'H' , 'T' ,'H' , 'T' ,'H' , 'T' ,'H' , 'T' ,'H' , 'T' ,'H' , 'T' ,'H' , 'T' ]\n",
    "for t in ct:\n",
    "    post=  Bayes_box_cointoss( hypothesis,post,t)\n"
   ]
  },
  {
   "cell_type": "code",
   "execution_count": 44,
   "id": "e418fc64-eb6f-4024-98cd-b283b8ca3b8a",
   "metadata": {},
   "outputs": [
    {
     "data": {
      "image/png": "[encoded data removed]",
      "text/plain": [
       "<Figure size 432x288 with 1 Axes>"
      ]
     },
     "metadata": {
      "needs_background": "light"
     },
     "output_type": "display_data"
    }
   ],
   "source": [
    "show_pd(hypothesis, post)"
   ]
  },
  {
   "cell_type": "markdown",
   "id": "392cb351-d915-4fbb-8d28-53e7137a2162",
   "metadata": {},
   "source": [
    "# Experimental"
   ]
  },
  {
   "cell_type": "code",
   "execution_count": 1,
   "id": "dfa0c68f-17e5-49da-b348-b79eb37bb742",
   "metadata": {},
   "outputs": [],
   "source": [
    "from numpy import *\n",
    "from matplotlib.pyplot import *\n",
    "%matplotlib inline\n",
    "from numpy.random import random\n",
    "from numpy.random import randint "
   ]
  },
  {
   "cell_type": "code",
   "execution_count": 2,
   "id": "8521a65a-613c-45fb-86a7-9d8b2c702bfa",
   "metadata": {},
   "outputs": [
    {
     "data": {
      "text/plain": [
       "0.15113579976341418"
      ]
     },
     "execution_count": 2,
     "metadata": {},
     "output_type": "execute_result"
    }
   ],
   "source": [
    "random()"
   ]
  },
  {
   "cell_type": "code",
   "execution_count": 9,
   "id": "20c74519-d500-4280-b32d-cc5fd816957f",
   "metadata": {},
   "outputs": [
    {
     "data": {
      "text/plain": [
       "(array([23., 25., 24., 23., 24., 21., 24., 25., 25., 24., 19., 19., 29.,\n",
       "        24., 29., 30., 24., 15., 28., 28., 28., 27., 24., 30., 18., 26.,\n",
       "        31., 41., 21., 33., 23., 17., 20., 27., 25., 31., 21., 28., 20.,\n",
       "        26.]),\n",
       " array([2.06618550e-04, 2.51866197e-02, 5.01666208e-02, 7.51466220e-02,\n",
       "        1.00126623e-01, 1.25106624e-01, 1.50086625e-01, 1.75066627e-01,\n",
       "        2.00046628e-01, 2.25026629e-01, 2.50006630e-01, 2.74986631e-01,\n",
       "        2.99966632e-01, 3.24946633e-01, 3.49926634e-01, 3.74906636e-01,\n",
       "        3.99886637e-01, 4.24866638e-01, 4.49846639e-01, 4.74826640e-01,\n",
       "        4.99806641e-01, 5.24786642e-01, 5.49766644e-01, 5.74746645e-01,\n",
       "        5.99726646e-01, 6.24706647e-01, 6.49686648e-01, 6.74666649e-01,\n",
       "        6.99646650e-01, 7.24626652e-01, 7.49606653e-01, 7.74586654e-01,\n",
       "        7.99566655e-01, 8.24546656e-01, 8.49526657e-01, 8.74506658e-01,\n",
       "        8.99486660e-01, 9.24466661e-01, 9.49446662e-01, 9.74426663e-01,\n",
       "        9.99406664e-01]),\n",
       " <BarContainer object of 40 artists>)"
      ]
     },
     "execution_count": 9,
     "metadata": {},
     "output_type": "execute_result"
    },
    {
     "data": {
      "image/png": "[encoded data removed]",
      "text/plain": [
       "<Figure size 432x288 with 1 Axes>"
      ]
     },
     "metadata": {
      "needs_background": "light"
     },
     "output_type": "display_data"
    }
   ],
   "source": [
    "lis = [ (random() + random())*0.5 for i in range(1000)]\n",
    "samp=[random() for i in range(1000)]\n",
    "hist(lis,bins=40)\n",
    "hist(samp,bins=40)"
   ]
  },
  {
   "cell_type": "code",
   "execution_count": 1,
   "id": "f8d58f3e-665d-41e5-bdf9-d8c86136a8fe",
   "metadata": {},
   "outputs": [
    {
     "ename": "NameError",
     "evalue": "name 'scipy' is not defined",
     "output_type": "error",
     "traceback": [
      "\u001b[1;31m---------------------------------------------------------------------------\u001b[0m",
      "\u001b[1;31mNameError\u001b[0m                                 Traceback (most recent call last)",
      "\u001b[1;32m~\\AppData\\Local\\Temp/ipykernel_18480/3546665656.py\u001b[0m in \u001b[0;36m<module>\u001b[1;34m\u001b[0m\n\u001b[1;32m----> 1\u001b[1;33m \u001b[0mscipy\u001b[0m\u001b[1;33m.\u001b[0m\u001b[0mstats\u001b[0m\u001b[1;33m.\u001b[0m\u001b[0mcauchy\u001b[0m\u001b[1;33m.\u001b[0m\u001b[0mrvs\u001b[0m\u001b[1;33m(\u001b[0m\u001b[1;36m10\u001b[0m\u001b[1;33m)\u001b[0m\u001b[1;33m\u001b[0m\u001b[1;33m\u001b[0m\u001b[0m\n\u001b[0m",
      "\u001b[1;31mNameError\u001b[0m: name 'scipy' is not defined"
     ]
    }
   ],
   "source": []
  },
  {
   "cell_type": "code",
   "execution_count": null,
   "id": "f52766ec-4f92-4a8c-ae31-10a892d81328",
   "metadata": {},
   "outputs": [],
   "source": []
  }
 ],
 "metadata": {
  "kernelspec": {
   "display_name": "Python 3 (ipykernel)",
   "language": "python",
   "name": "python3"
  },
  "language_info": {
   "codemirror_mode": {
    "name": "ipython",
    "version": 3
   },
   "file_extension": ".py",
   "mimetype": "text/x-python",
   "name": "python",
   "nbconvert_exporter": "python",
   "pygments_lexer": "ipython3",
   "version": "3.9.7"
  }
 },
 "nbformat": 4,
 "nbformat_minor": 5
}
